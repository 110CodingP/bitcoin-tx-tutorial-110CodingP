{
 "cells": [
  {
   "cell_type": "code",
   "execution_count": 1,
   "metadata": {
    "code_folding": []
   },
   "outputs": [],
   "source": [
    "# Import libraries\n",
    "from functions import *\n",
    "from functions.bip_0340_reference import *\n",
    "\n",
    "import json\n",
    "import os\n",
    "import subprocess\n",
    "import time"
   ]
  },
  {
   "cell_type": "markdown",
   "metadata": {},
   "source": [
    "# P2TR Key Path and Script Path\n",
    "\n",
    "- The following material adapted from the Bitcoin Optech [Schnorr Taproot workshop](https://bitcoinops.org/en/schorr-taproot-workshop/)."
   ]
  },
  {
   "cell_type": "markdown",
   "metadata": {},
   "source": [
    "\n",
    "# TapTree\n",
    "\n",
    "In this chapter we consider how to commit multiple tapscripts to a taptweak. This can be achieved with a binary tree commitment structure. We will also introduce taproot descriptors, which are composed of tapscript descriptors and reflect the binary tree commitment structure of a taproot output.\n",
    "\n",
    "* **Part 1 - Constructing a taptree**\n",
    "    * Taptree commitments\n",
    "    * Taproot descriptors\n",
    "    * Taptree construction\n",
    "\n",
    "In part 2, we consider spending the taproot output along the script path for taproot outputs with taptree commitments, which have more than 1 commited tapscript. This requires an inclusion proof for the tapscript being spent.\n",
    "\n",
    "* **Part 2 - Taproot script path**\n",
    "    * Script path spending for taptrees"
   ]
  },
  {
   "cell_type": "markdown",
   "metadata": {},
   "source": [
    "## Part 1: Constructing a taptree\n",
    "\n",
    "### Taptree binary tree commitments\n",
    "\n",
    "Committing multiple tapscripts requires a commitment structure resembling merkle tree construction.\n",
    "\n",
    "**The TapTree is different than the header merkle tree in the following ways:**\n",
    "\n",
    "* Tapleaves can be located at different heights.\n",
    "* Ordering of TapLeaves is determined lexicograpically.\n",
    "* Location of nodes are tagged (No ambiguity of node type).\n",
    " \n",
    "Internal nodes are called tapbranches, and are also computed with the `tagged_hash(\"Tag\", input_data)` function.\n",
    " \n",
    "Tagged hashes are particularly useful when building a taptree commitment. They prevent node height ambiguity currently found in the transaction merkle tree, which allows an attacker to create a node which can be reinterpreted as either a leaf or internal node. Tagged hashes ensure that a tapleaf cannot be misinterpreted as an internal node and vice versa."
   ]
  },
  {
   "cell_type": "markdown",
   "metadata": {},
   "source": [
    "![test](images/taproot-workshop/taptree0.jpg)"
   ]
  },
  {
   "cell_type": "markdown",
   "metadata": {},
   "source": [
    "#### _Programming Exercise 2.4.1:_ Compute a taptweak from a taptree\n",
    "\n",
    "In the cell below, we will commit three pay-to-pubkey scripts to a taptweak and then derive the bech32m address. We will use the same merkle tree structure as in the previous illustration.\n",
    "\n",
    "1. Compute TapLeaves A, B and C.\n",
    "2. Compute Internal TapBranch AB.\n",
    "3. Compute TapTweak\n",
    "4. Derive the bech32m address."
   ]
  },
  {
   "cell_type": "code",
   "execution_count": 2,
   "metadata": {},
   "outputs": [
    {
     "name": "stdout",
     "output_type": "stream",
     "text": [
      "TapTweak: 8e53fc0da2e9e8e27404703010ae519e85576ef6c73dde1b2bffac7f17b114a9\n",
      "Bech32m address: bcrt1p5jhcyymfj7tkgv0jca4pz7tx9uzvznu0mlfymey6ph63f9h8x0gs7683vc\n"
     ]
    }
   ],
   "source": [
    "TAPSCRIPT_VER = bytes([0xc0])  # See tapscript chapter for more details.\n",
    "internal_privkey = bytes.fromhex(\"83a5f1039118fbb4276cac2db41d236c1c1790d97d955c228fa3bde439fbec2a\")\n",
    "internal_pubkey = tr.pubkey_gen(internal_privkey)\n",
    "\n",
    "\n",
    "# Derive pay-to-pubkey scripts\n",
    "privkeyA = bytes.fromhex(\"1059bf26660804ced9a3286a16497d7e70692d14dc04e1220c2dbef3667b74f7\")\n",
    "pubkeyA = tr.pubkey_gen(privkeyA)\n",
    "privkeyB = bytes.fromhex(\"2b22bf11ab862a35f16301c0afc7afe60f66d31fc29645f79c2ab43655e65d33\")\n",
    "pubkeyB = tr.pubkey_gen(privkeyB)\n",
    "privkeyC = bytes.fromhex(\"7f8b28e51da049bf63e31d3a3261579c0f5c1fc8058c65a79482814e5061f9f6\")\n",
    "pubkeyC = tr.pubkey_gen(privkeyC)\n",
    "\n",
    "# Pay to pubkey scripts\n",
    "scriptA = b\"\\x20\" + pubkeyA + b\"\\xac\"\n",
    "scriptB = b\"\\x20\" + pubkeyB + b\"\\xac\"\n",
    "scriptC = b\"\\x20\" + pubkeyC + b\"\\xac\"\n",
    "\n",
    "# Method: Returns tapbranch hash. Child hashes are lexographically sorted and then concatenated.\n",
    "# l: tagged hash of left child\n",
    "# r: tagged hash of right child\n",
    "def tapbranch_hash(l, r):\n",
    "    return tagged_hash(\"TapBranch\", b''.join(sorted([l,r])))\n",
    "\n",
    "# 1) Compute TapLeaves A, B and C.\n",
    "# Method: pushbytes(data) is a function which adds compactsize to input data.\n",
    "hash_inputA =  TAPSCRIPT_VER + pushbytes(scriptA)\n",
    "hash_inputB =  TAPSCRIPT_VER + pushbytes(scriptB)\n",
    "hash_inputC =  TAPSCRIPT_VER + pushbytes(scriptC)\n",
    "taggedhash_leafA =  tagged_hash(\"TapLeaf\", hash_inputA)\n",
    "taggedhash_leafB =  tagged_hash(\"TapLeaf\", hash_inputB)\n",
    "taggedhash_leafC =  tagged_hash(\"TapLeaf\", hash_inputC)\n",
    "\n",
    "# 2) Compute Internal node TapBranch AB.\n",
    "# Method: use tapbranch_hash() function\n",
    "internal_nodeAB = tapbranch_hash(taggedhash_leafA, taggedhash_leafB)\n",
    "\n",
    "# 3) Compute TapTweak.\n",
    "rootABC =  tapbranch_hash(internal_nodeAB, taggedhash_leafC)\n",
    "taptweak =  tagged_hash(\"TapTweak\", internal_pubkey + rootABC)\n",
    "\n",
    "# 4) Derive the bech32m address.\n",
    "negated, taproot_pubkey = taproot_tweak_pubkey(internal_pubkey, rootABC)\n",
    "print(\"TapTweak:\", taptweak.hex())\n",
    "spk = bytes.fromhex(\"5120\") + taproot_pubkey\n",
    "bech32m_address = spk_to_bech32(spk, 'regtest')\n",
    "print('Bech32m address:', bech32m_address)"
   ]
  },
  {
   "cell_type": "markdown",
   "metadata": {},
   "source": [
    "Now we are ready to set up bitcoind and fund this address. "
   ]
  },
  {
   "cell_type": "code",
   "execution_count": 3,
   "metadata": {},
   "outputs": [
    {
     "name": "stdout",
     "output_type": "stream",
     "text": [
      "UTXO: 2c6dfbf42de43a5e8761755f8f7109a42cb55c2020773165e8d6fbba0751418e, 0\n"
     ]
    }
   ],
   "source": [
    "# Setup bitcoind and fund the address\n",
    "setup_regtest_bitcoind()\n",
    "txid_to_spend, index_to_spend = fund_address(bech32m_address, 2.001)\n",
    "print(f\"UTXO: {txid_to_spend}, {index_to_spend}\")"
   ]
  },
  {
   "cell_type": "code",
   "execution_count": 4,
   "metadata": {},
   "outputs": [],
   "source": [
    "# Decode the receiver's address\n",
    "receiver_address = 'bcrt1ql3e9pgs3mmwuwrh95fecme0s0qtn2880hlwwpw'\n",
    "hrp = 'bcrt'\n",
    "witver, witprog = bech32.decode(hrp, receiver_address)\n",
    "pubkey_hash = bytearray(witprog)\n",
    "receiver_spk = bytes.fromhex(\"0014\") + pubkey_hash\n",
    "\n",
    "# Create a new pubkey to use as a change output.\n",
    "change_privkey = bytes.fromhex(\"2222222222222222222222222222222222222222222222222222222222222222\")\n",
    "change_pubkey = privkey_to_pubkey(change_privkey)\n",
    "\n",
    "# Set our output amount (in satoshis) and scriptPubkeys\n",
    "output1_value_sat = int(float(\"1.5\") * 100000000)\n",
    "output1_spk = receiver_spk\n",
    "output2_value_sat = int(float(\"0.5\") * 100000000)\n",
    "output2_spk = bytes.fromhex(\"0014\") + hash160(change_pubkey)"
   ]
  },
  {
   "cell_type": "markdown",
   "metadata": {},
   "source": [
    "## Part 2: Spending along the Key Path"
   ]
  },
  {
   "cell_type": "code",
   "execution_count": 5,
   "metadata": {},
   "outputs": [],
   "source": [
    "taproot_privkey = taproot_tweak_seckey(internal_privkey, rootABC)"
   ]
  },
  {
   "cell_type": "code",
   "execution_count": 6,
   "metadata": {},
   "outputs": [
    {
     "name": "stdout",
     "output_type": "stream",
     "text": [
      "unsigned_tx:  02000000018e415107bafbd6e865317720205cb52ca409718f5f7561875e3ae42df4fb6d2c0000000000ffffffff0280d1f00800000000160014fc7250a211deddc70ee5a2738de5f07817351cef80f0fa0200000000160014531260aa2a199e228c537dfa42c82bea2c7c1f4d00000000\n"
     ]
    }
   ],
   "source": [
    "# VERSION\n",
    "# version '2' indicates that we may use relative timelocks (BIP68)\n",
    "version = bytes.fromhex(\"0200 0000\")\n",
    "\n",
    "# MARKER (new to segwit)\n",
    "marker = bytes.fromhex(\"00\")\n",
    "\n",
    "# FLAG (new to segwit)\n",
    "flag = bytes.fromhex(\"01\")\n",
    "\n",
    "# INPUTS\n",
    "# We have just 1 input\n",
    "input_count = bytes.fromhex(\"01\")\n",
    "\n",
    "# Convert txid and index to bytes (little endian)\n",
    "txid = (bytes.fromhex(txid_to_spend))[::-1]\n",
    "index = index_to_spend.to_bytes(4, byteorder=\"little\", signed=False)\n",
    "\n",
    "# For the unsigned transaction we use an empty scriptSig\n",
    "scriptsig = bytes.fromhex(\"\")\n",
    "\n",
    "# use 0xffffffff unless you are using OP_CHECKSEQUENCEVERIFY, locktime, or rbf\n",
    "sequence = bytes.fromhex(\"ffff ffff\")\n",
    "\n",
    "inputs = (\n",
    "    txid\n",
    "    + index\n",
    "    + varint_len(scriptsig)\n",
    "    + scriptsig\n",
    "    + sequence\n",
    ")\n",
    "\n",
    "# OUTPUTS\n",
    "# 0x02 for out two outputs\n",
    "output_count = bytes.fromhex(\"02\")\n",
    "\n",
    "# OUTPUT 1 \n",
    "output1_value = output1_value_sat.to_bytes(8, byteorder=\"little\", signed=True)\n",
    "# 'output1_spk' already defined at the start of the script\n",
    "\n",
    "# OUTPUT 2\n",
    "output2_value = output2_value_sat.to_bytes(8, byteorder=\"little\", signed=True)\n",
    "# 'output2_spk' already defined at the start of the script\n",
    "\n",
    "outputs = (\n",
    "    output1_value\n",
    "    + varint_len(output1_spk)\n",
    "    + output1_spk\n",
    "    + output2_value\n",
    "    + varint_len(output2_spk)\n",
    "    + output2_spk\n",
    ")\n",
    "\n",
    "# LOCKTIME\n",
    "locktime = bytes.fromhex(\"0000 0000\")\n",
    "\n",
    "unsigned_tx = (\n",
    "    version\n",
    "    + input_count\n",
    "    + inputs\n",
    "    + output_count\n",
    "    + outputs\n",
    "    + locktime\n",
    ")\n",
    "print(\"unsigned_tx: \", unsigned_tx.hex())"
   ]
  },
  {
   "cell_type": "code",
   "execution_count": 7,
   "metadata": {},
   "outputs": [],
   "source": [
    "sighash_epoch = bytes.fromhex(\"00\")\n",
    "index_of_this_input = bytes.fromhex(\"0000 0000\")\n",
    "\n",
    "# Control\n",
    "hash_type = bytes.fromhex(\"00\") # SIGHASH_DEFAULT (a new sighash type meaning implied SIGHASH_ALL)\n",
    "\n",
    "# Transaction data\n",
    "sha_prevouts = sha256(txid + index)\n",
    "\n",
    "input_amount_sat = int(2.001 * 100_000_000)\n",
    "input_amounts = input_amount_sat.to_bytes(8, byteorder=\"little\", signed=False)\n",
    "sha_amounts = sha256(input_amounts)\n",
    "\n",
    "sha_scriptpubkeys = sha256(\n",
    "    varint_len(spk)\n",
    "    + spk\n",
    ")\n",
    "\n",
    "sha_sequences = sha256(sequence)\n",
    "\n",
    "sha_outputs = sha256(outputs) ######\n",
    "\n",
    "# Data about this input\n",
    "spend_type = bytes.fromhex(\"00\") # no annex present\n",
    "\n",
    "sig_msg = (\n",
    "    sighash_epoch\n",
    "    + hash_type\n",
    "    + version\n",
    "    + locktime\n",
    "    + sha_prevouts\n",
    "    + sha_amounts\n",
    "    + sha_scriptpubkeys\n",
    "    + sha_sequences\n",
    "    + sha_outputs\n",
    "    + spend_type\n",
    "    + index_of_this_input\n",
    ")"
   ]
  },
  {
   "cell_type": "code",
   "execution_count": 8,
   "metadata": {},
   "outputs": [
    {
     "name": "stdout",
     "output_type": "stream",
     "text": [
      "67702a01986950b89016a977538096d49fe26c8bf81dd8ff5645c4cc8afd9653\n"
     ]
    }
   ],
   "source": [
    "tag_hash = sha256(\"TapSighash\".encode())\n",
    "sighash = sha256(tag_hash + tag_hash + sig_msg)\n",
    "print(sighash.hex())"
   ]
  },
  {
   "cell_type": "code",
   "execution_count": 9,
   "metadata": {},
   "outputs": [
    {
     "data": {
      "text/plain": [
       "'bef4c867f41e5c72ad8d74c474a1b57b7dae35ca30350bc4d904de98c697f57d5866aa225db438f127d1ffb528c86637f11242800594f29960eebe5e211559e8'"
      ]
     },
     "execution_count": 9,
     "metadata": {},
     "output_type": "execute_result"
    }
   ],
   "source": [
    "aux_rand = bytes.fromhex(\"0000000000000000000000000000000000000000000000000000000000000000\")\n",
    "\n",
    "signature = tr.schnorr_sign(sighash, taproot_privkey, aux_rand)\n",
    "\n",
    "# Only append the sighash type if it is not SIGHASH_DEFAULT (0x00)\n",
    "if hash_type != b\"\\x00\":\n",
    "    signature += hash_type\n",
    "    \n",
    "signature.hex()"
   ]
  },
  {
   "cell_type": "code",
   "execution_count": 10,
   "metadata": {},
   "outputs": [
    {
     "name": "stdout",
     "output_type": "stream",
     "text": [
      "0140bef4c867f41e5c72ad8d74c474a1b57b7dae35ca30350bc4d904de98c697f57d5866aa225db438f127d1ffb528c86637f11242800594f29960eebe5e211559e8\n",
      "signed transaction:  020000000001018e415107bafbd6e865317720205cb52ca409718f5f7561875e3ae42df4fb6d2c0000000000ffffffff0280d1f00800000000160014fc7250a211deddc70ee5a2738de5f07817351cef80f0fa0200000000160014531260aa2a199e228c537dfa42c82bea2c7c1f4d0140bef4c867f41e5c72ad8d74c474a1b57b7dae35ca30350bc4d904de98c697f57d5866aa225db438f127d1ffb528c86637f11242800594f29960eebe5e211559e800000000\n"
     ]
    }
   ],
   "source": [
    "witness = (\n",
    "    bytes.fromhex(\"01\") # one stack item in the witness\n",
    "    + pushbytes(signature)\n",
    ")\n",
    "print(witness.hex())\n",
    "\n",
    "# the final signed transaction\n",
    "signed_tx = (\n",
    "    version\n",
    "    + marker\n",
    "    + flag\n",
    "    + input_count\n",
    "    + inputs\n",
    "    + output_count\n",
    "    + outputs\n",
    "    + witness\n",
    "    + locktime\n",
    ")\n",
    "\n",
    "print(\"signed transaction: \",signed_tx.hex())"
   ]
  },
  {
   "cell_type": "code",
   "execution_count": 11,
   "metadata": {},
   "outputs": [
    {
     "name": "stdout",
     "output_type": "stream",
     "text": [
      "[\n",
      "  {\n",
      "    \"txid\": \"4790f79e3ee3548002d986438f4300d1393223fd5c994c961bcdb08f0d764e55\",\n",
      "    \"wtxid\": \"6b181993a23069b6d3ea7e4b020fc63ba8c59cb0dff22da34cfd470120c5ee61\",\n",
      "    \"allowed\": true,\n",
      "    \"vsize\": 130,\n",
      "    \"fees\": {\n",
      "      \"base\": 0.00100000\n",
      "    }\n",
      "  }\n",
      "]\n"
     ]
    }
   ],
   "source": [
    "new_tx_txid = subprocess.getoutput(\"bitcoin-cli -regtest testmempoolaccept \" + \"'[\\\"\" +  signed_tx.hex() + \"\\\"]'\")\n",
    "print(new_tx_txid)"
   ]
  },
  {
   "cell_type": "markdown",
   "metadata": {},
   "source": [
    "## Part 3: Spending along the Script Path\n",
    "\n",
    "A Taproot output is spent along the script path with the following witness pattern:\n",
    "\n",
    "* Witness to spend TapScript_A:\n",
    "\n",
    "    * `[Stack element(s) satisfying TapScript_A]`\n",
    "    * `[TapScript_A]` \n",
    "    * `[Controlblock c]`\n",
    "\n",
    "Compared to the script spend path of a taproot with a single committed tapscript, the controlblock spending a taproot containing multiple tapscripts will also include a script inclusion proof.\n",
    "\n",
    "* Controlblock c contains:\n",
    "\n",
    "    * `[Tapscript Version]` \n",
    "        * `0xfe & c[0]`\n",
    "    * `[Parity bit (oddness of Q's y-coordinate)]`\n",
    "        * `0x01 & c[0]` \n",
    "    * `[Internal Public Key]` \n",
    "        * `c[1:33]`\n",
    "    * `[Script Inclusion Proof]` \n",
    "        * `n x 32Bytes`\n",
    "        \n",
    "Note that this script inclusion proof is a 32B multiple and its size will depend on the position of tapscript in the taptree structure."
   ]
  },
  {
   "cell_type": "code",
   "execution_count": 12,
   "metadata": {},
   "outputs": [],
   "source": [
    "spend_type = bytes.fromhex(\"02\")"
   ]
  },
  {
   "cell_type": "code",
   "execution_count": 13,
   "metadata": {},
   "outputs": [],
   "source": [
    "sighash_epoch = bytes.fromhex(\"00\")\n",
    "index_of_this_input = bytes.fromhex(\"0000 0000\")\n",
    "\n",
    "# Control\n",
    "hash_type = bytes.fromhex(\"00\") # SIGHASH_DEFAULT (a new sighash type meaning implied SIGHASH_ALL)\n",
    "\n",
    "# Transaction data\n",
    "sha_prevouts = sha256(txid + index)\n",
    "\n",
    "input_amount_sat = int(2.001 * 100_000_000)\n",
    "input_amounts = input_amount_sat.to_bytes(8, byteorder=\"little\", signed=False)\n",
    "sha_amounts = sha256(input_amounts)\n",
    "\n",
    "sha_scriptpubkeys = sha256(\n",
    "    varint_len(spk)\n",
    "    + spk\n",
    ")\n",
    "\n",
    "sha_sequences = sha256(sequence)\n",
    "\n",
    "sha_outputs = sha256(outputs) ######\n",
    "\n",
    "sig_msg = (\n",
    "    sighash_epoch\n",
    "    + hash_type\n",
    "    + version\n",
    "    + locktime\n",
    "    + sha_prevouts\n",
    "    + sha_amounts\n",
    "    + sha_scriptpubkeys\n",
    "    + sha_sequences\n",
    "    + sha_outputs\n",
    "    + spend_type # spend_type = 0x02 for script path\n",
    "    + index_of_this_input\n",
    "    # add script path information here\n",
    "    + tagged_hash(\"TapLeaf\", TAPSCRIPT_VER + pushbytes(scriptA))\n",
    "    + bytes.fromhex(\"00\") \n",
    "    + bytes.fromhex(\"ffffffff\") # codeseparator_pos?\n",
    ")"
   ]
  },
  {
   "cell_type": "code",
   "execution_count": 14,
   "metadata": {},
   "outputs": [
    {
     "name": "stdout",
     "output_type": "stream",
     "text": [
      "514266e477b0854e1a50c6cfc23af3c242be69eba0886637ec4d476b7802bdf0\n"
     ]
    }
   ],
   "source": [
    "tag_hash = sha256(\"TapSighash\".encode())\n",
    "sighash = sha256(tag_hash + tag_hash + sig_msg)\n",
    "print(sighash.hex())"
   ]
  },
  {
   "cell_type": "code",
   "execution_count": 15,
   "metadata": {},
   "outputs": [
    {
     "data": {
      "text/plain": [
       "'bef4c867f41e5c72ad8d74c474a1b57b7dae35ca30350bc4d904de98c697f57d5866aa225db438f127d1ffb528c86637f11242800594f29960eebe5e211559e8'"
      ]
     },
     "execution_count": 15,
     "metadata": {},
     "output_type": "execute_result"
    }
   ],
   "source": [
    "aux_rand = bytes.fromhex(\"0000000000000000000000000000000000000000000000000000000000000000\")\n",
    "\n",
    "signatureA = tr.schnorr_sign(sighash, privkeyA, aux_rand)\n",
    "\n",
    "# Only append the sighash type if it is not SIGHASH_DEFAULT (0x00)\n",
    "if hash_type != b\"\\x00\":\n",
    "    signature += hash_type\n",
    "    \n",
    "signature.hex()"
   ]
  },
  {
   "cell_type": "code",
   "execution_count": 16,
   "metadata": {},
   "outputs": [],
   "source": [
    "control_byte = (TAPSCRIPT_VER[0] | negated).to_bytes(1, \"big\")\n",
    "\n",
    "control_block = (\n",
    "    control_byte\n",
    "    + internal_pubkey\n",
    "    + taggedhash_leafB\n",
    "    + taggedhash_leafC\n",
    "    )"
   ]
  },
  {
   "cell_type": "code",
   "execution_count": 17,
   "metadata": {},
   "outputs": [
    {
     "name": "stdout",
     "output_type": "stream",
     "text": [
      "signed transaction:  020000000001018e415107bafbd6e865317720205cb52ca409718f5f7561875e3ae42df4fb6d2c0000000000ffffffff0280d1f00800000000160014fc7250a211deddc70ee5a2738de5f07817351cef80f0fa0200000000160014531260aa2a199e228c537dfa42c82bea2c7c1f4d0340229ccb3c23f371c76d937e4e54218d438e3e6847de3c49d35e3d64436a6e2ac4c8f4acc83b1a5e90e20953a3d9aebce04002d01164911190c3ff5fa04c0f0c312220731bbf2e7163d87b12d66d3795655790691e59802fd1c578c2e06287555e3c28ac61c1031845925dcca99bc5689ce422b9204ff9721de8416b984b8a6b930e30352225a1494f24cfdfc93532412675eece318c63414dd02b8750947177b141e082076e2b71b71e05a8cd9771485b9248025e46871caa6585164a1fdf9e634d61023fd800000000\n"
     ]
    }
   ],
   "source": [
    "witness = (\n",
    "    bytes.fromhex(\"03\") \n",
    "    + varint_len(signatureA)\n",
    "    + signatureA\n",
    "    + varint_len(scriptA)\n",
    "    + scriptA\n",
    "    + varint_len(control_block)\n",
    "    + control_block\n",
    ")\n",
    "\n",
    "# the final signed transaction\n",
    "signed_script_path_tx = (\n",
    "    version\n",
    "    + marker\n",
    "    + flag\n",
    "    + input_count\n",
    "    + inputs\n",
    "    + output_count\n",
    "    + outputs\n",
    "    + witness\n",
    "    + locktime\n",
    ")\n",
    "\n",
    "print(\"signed transaction: \",signed_script_path_tx.hex())"
   ]
  },
  {
   "cell_type": "code",
   "execution_count": 18,
   "metadata": {},
   "outputs": [
    {
     "name": "stdout",
     "output_type": "stream",
     "text": [
      "[\n",
      "  {\n",
      "    \"txid\": \"4790f79e3ee3548002d986438f4300d1393223fd5c994c961bcdb08f0d764e55\",\n",
      "    \"wtxid\": \"01846ae8e95c3522a27c123a9fc65b0cf877cba4fc7951151ee77e5e10ee1013\",\n",
      "    \"allowed\": true,\n",
      "    \"vsize\": 164,\n",
      "    \"fees\": {\n",
      "      \"base\": 0.00100000\n",
      "    }\n",
      "  }\n",
      "]\n"
     ]
    }
   ],
   "source": [
    "new_tx_txid = subprocess.getoutput(\"bitcoin-cli -regtest testmempoolaccept \" + \"'[\\\"\" +  signed_script_path_tx.hex() + \"\\\"]'\")\n",
    "print(new_tx_txid)"
   ]
  },
  {
   "cell_type": "markdown",
   "metadata": {},
   "source": [
    "## Quiz\n"
   ]
  },
  {
   "cell_type": "markdown",
   "metadata": {},
   "source": [
    " ## Answers\n",
    "    "
   ]
  },
  {
   "cell_type": "markdown",
   "metadata": {},
   "source": [
    "## Exercise\n"
   ]
  }
 ],
 "metadata": {
  "kernelspec": {
   "display_name": "Python 3",
   "language": "python",
   "name": "python3"
  },
  "language_info": {
   "codemirror_mode": {
    "name": "ipython",
    "version": 3
   },
   "file_extension": ".py",
   "mimetype": "text/x-python",
   "name": "python",
   "nbconvert_exporter": "python",
   "pygments_lexer": "ipython3",
   "version": "3.7.0"
  }
 },
 "nbformat": 4,
 "nbformat_minor": 2
}
