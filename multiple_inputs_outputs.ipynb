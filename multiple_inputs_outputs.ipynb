{
 "cells": [
  {
   "cell_type": "code",
   "execution_count": 1,
   "metadata": {
    "code_folding": [
     0
    ]
   },
   "outputs": [],
   "source": [
    "# Import libraries\n",
    "from functions import *\n",
    "\n",
    "import json\n",
    "import os\n",
    "import subprocess\n",
    "import time"
   ]
  },
  {
   "cell_type": "markdown",
   "metadata": {},
   "source": [
    "# Creating a transaction with multiple inputs and outputs"
   ]
  },
  {
   "cell_type": "markdown",
   "metadata": {},
   "source": [
    "In this section we'll create a P2WPKH transaction with multiple inputs and outputs. We'll go through each part of the transaction, how it's constructed, signed, and we'll test it using bitcoin core in regtest mode.\n",
    "\n",
    "This section assumes knowledge of creating a P2WPKH transaction with a single input.\n",
    "\n",
    "## Reading\n",
    "- Andreas Antonopoulos - Mastering Bitcoin Chapter 7\n",
    "- Jimmy Song - Programming Bitcoin Chapters 13"
   ]
  },
  {
   "cell_type": "markdown",
   "metadata": {},
   "source": [
    "### Scenario\n",
    "\n",
    "Andreas and Lisa both want to support three charities, all in foreign countries. The charities accept bitcoin donations, so they decide to send bitcoin jointly in a single transaction. Using a single transaction has a couple of advantages over each of them creating their own transactions:\n",
    "- The single transaction is smaller than two separate ones, saving Andreas and Lisa some btc on transaction fees.\n",
    "- The charities benefit by receiving one UTXO rather than two making it cheaper to spend from. \n",
    "\n",
    "Andreas has a UTXO for 0.3 btc, of which he wants to donate all of it. Lisa has a UTXO for 0.401 and she wants to match Andreas's donation of 0.3 btc. They want to donate 0.2 btc to the following addresses:\n",
    "`bcrt1ql3e9pgs3mmwuwrh95fecme0s0qtn2880hlwwpw`, `bcrt1q6mlqttg852e63uahyglwla55xusryqp08vx9w2`, `bcrt1qe9y40n9uwzh34mzj02w3xx9zkhgke6wxcql4lk`\n",
    "\n",
    "\n",
    "### Create Andreas and Anita's P2WPKH UTXOs\n",
    "\n",
    "We'll use bitcoind to create Andreas and Anita's P2WPKH UTXOs. Within this tutorial, to differentiate the variables for Andreas and Lisa by using the suffixes `_a` and `_l` respectively."
   ]
  },
  {
   "cell_type": "code",
   "execution_count": 2,
   "metadata": {},
   "outputs": [
    {
     "name": "stdout",
     "output_type": "stream",
     "text": [
      "Andreas's UTXO: 96d9881a73ce8cbab9c342c5484c57b6183126c7882457ffc90fcfa2d38bcb46, 1\n",
      "Lisa's UTXO: beee8ead0e38ab8fcdd54612ec54c5e311b4c18e2c4cc42d663ecbb9598a71c9, 0\n"
     ]
    }
   ],
   "source": [
    "# Create two private keys and P2WPKH addresses\n",
    "privkey_a = bytes.fromhex(\"1111111111111111111111111111111111111111111111111111111111111111\")\n",
    "pubkey_a = privkey_to_pubkey(privkey_a)\n",
    "p2wpkh_addr_a = pk_to_p2wpkh(pubkey_a, network = \"regtest\")\n",
    "\n",
    "privkey_l = bytes.fromhex(\"2222222222222222222222222222222222222222222222222222222222222222\")\n",
    "pubkey_l = privkey_to_pubkey(privkey_l)\n",
    "p2wpkh_addr_l = pk_to_p2wpkh(pubkey_l, network = \"regtest\")\n",
    "\n",
    "# Setup bitcoind and fund addresses\n",
    "setup_regtest_bitcoind()\n",
    "txid_a, index_a = fund_address(p2wpkh_addr_a, 0.3)\n",
    "txid_l, index_l = fund_address(p2wpkh_addr_l, 0.401)\n",
    "\n",
    "print(f\"Andreas's UTXO: {txid_a}, {index_a}\")\n",
    "print(f\"Lisa's UTXO: {txid_l}, {index_l}\")"
   ]
  },
  {
   "cell_type": "markdown",
   "metadata": {},
   "source": [
    "### Define our outputs\n",
    "\n",
    "Since Lisa is only donating 0.3 btc of her 0.401 btc utxo (and 0.001 btc is going towards the mining fee), Lisa wants to send the remaning 0.1 btc to her change address `bcrt1qqde3c4pmvrr9d3pav3v6hlpp9l3sm6rxnj8dcm`.\n",
    "\n",
    "Below we'll decode the output addresses so that we know the output scriptPubkeys. For more on decoding addresses, refer back to the 'Addresses' chapter."
   ]
  },
  {
   "cell_type": "code",
   "execution_count": 3,
   "metadata": {},
   "outputs": [],
   "source": [
    "# Lisa's change output\n",
    "lisa_change_value_sat = int(float(\"0.1\") * 100000000)\n",
    "lisa_change_spk = bech32_to_spk('bcrt', 'bcrt1qqde3c4pmvrr9d3pav3v6hlpp9l3sm6rxnj8dcm')\n",
    "\n",
    "# Outputs to charities\n",
    "output1_value_sat = int(float(\"0.2\") * 100000000)\n",
    "output1_spk = bech32_to_spk('bcrt', 'bcrt1ql3e9pgs3mmwuwrh95fecme0s0qtn2880hlwwpw')\n",
    "\n",
    "output2_value_sat = int(float(\"0.2\") * 100000000)\n",
    "output2_spk = bech32_to_spk('bcrt', 'bcrt1q6mlqttg852e63uahyglwla55xusryqp08vx9w2')\n",
    "\n",
    "output3_value_sat = int(float(\"0.2\") * 100000000)\n",
    "output3_spk = bech32_to_spk('bcrt', 'bcrt1qe9y40n9uwzh34mzj02w3xx9zkhgke6wxcql4lk')"
   ]
  },
  {
   "cell_type": "markdown",
   "metadata": {},
   "source": [
    "### Create an unsigned transaction\n",
    "\n",
    "As with the previous chapters, we'll fill in all the fields for our unsigned transaction but with our multiple inputs and outputs."
   ]
  },
  {
   "cell_type": "code",
   "execution_count": 4,
   "metadata": {},
   "outputs": [
    {
     "name": "stdout",
     "output_type": "stream",
     "text": [
      "unsigned_tx:  020000000246cb8bd3a2cf0fc9ff572488c7263118b6574c48c542c3b9ba8cce731a88d9960100000000ffffffffc9718a59b9cb3e662dc44c2c8ec1b411e3c554ec1246d5cd8fab380ead8eeebe0000000000ffffffff04002d310100000000160014fc7250a211deddc70ee5a2738de5f07817351cef002d310100000000160014d6fe05ad07a2b3a8f3b7223eeff694372032002f002d310100000000160014c94957ccbc70af1aec527a9d1318a2b5d16ce9c6809698000000000016001403731c543b60c656c43d6459abfc212fe30de86600000000\n"
     ]
    }
   ],
   "source": [
    "# VERSION\n",
    "# version '2' indicates that we may use relative timelocks (BIP68)\n",
    "version = bytes.fromhex(\"0200 0000\")\n",
    "\n",
    "# MARKER (new to segwit)\n",
    "marker = bytes.fromhex(\"00\")\n",
    "\n",
    "# FLAG (new to segwit)\n",
    "flag = bytes.fromhex(\"01\")\n",
    "\n",
    "# INPUTS\n",
    "# We have 2 input\n",
    "input_count = bytes.fromhex(\"02\")\n",
    "\n",
    "# Convert txid and index to bytes (little endian)\n",
    "txid_a = (bytes.fromhex(txid_a))[::-1]\n",
    "index_a = index_a.to_bytes(4, byteorder=\"little\", signed=False)\n",
    "\n",
    "txid_l = (bytes.fromhex(txid_l))[::-1]\n",
    "index_l = index_l.to_bytes(4, byteorder=\"little\", signed=False)\n",
    "\n",
    "\n",
    "# For the unsigned transaction we use an empty scriptSig\n",
    "scriptsig_a = bytes.fromhex(\"\")\n",
    "scriptsig_l = bytes.fromhex(\"\")\n",
    "\n",
    "# use 0xffffffff unless you are using OP_CHECKSEQUENCEVERIFY, locktime, or rbf\n",
    "sequence = bytes.fromhex(\"ffff ffff\")\n",
    "\n",
    "inputs = (\n",
    "    txid_a\n",
    "    + index_a\n",
    "    + varint_len(scriptsig_a)\n",
    "    + scriptsig_a\n",
    "    + sequence\n",
    "    + txid_l\n",
    "    + index_l\n",
    "    + varint_len(scriptsig_l)\n",
    "    + scriptsig_l\n",
    "    + sequence\n",
    ")\n",
    "\n",
    "# OUTPUTS\n",
    "# 0x02 for out two outputs\n",
    "output_count = bytes.fromhex(\"04\")\n",
    "\n",
    "# Convert the values to 8 length byte arrays\n",
    "output1_value = output1_value_sat.to_bytes(8, byteorder=\"little\", signed=False)\n",
    "output2_value = output2_value_sat.to_bytes(8, byteorder=\"little\", signed=False)\n",
    "output3_value = output3_value_sat.to_bytes(8, byteorder=\"little\", signed=False)\n",
    "lisa_change_value = lisa_change_value_sat.to_bytes(8, byteorder=\"little\", signed=False)\n",
    "\n",
    "\n",
    "outputs = (\n",
    "    output1_value\n",
    "    + varint_len(output1_spk)\n",
    "    + output1_spk\n",
    "    + output2_value\n",
    "    + varint_len(output2_spk)\n",
    "    + output2_spk\n",
    "    + output3_value\n",
    "    + varint_len(output3_spk)\n",
    "    + output3_spk\n",
    "    + lisa_change_value\n",
    "    + varint_len(lisa_change_spk)\n",
    "    + lisa_change_spk\n",
    ")\n",
    "\n",
    "# LOCKTIME\n",
    "locktime = bytes.fromhex(\"0000 0000\")\n",
    "\n",
    "unsigned_tx = (\n",
    "    version\n",
    "    + input_count\n",
    "    + inputs\n",
    "    + output_count\n",
    "    + outputs\n",
    "    + locktime\n",
    ")\n",
    "print(\"unsigned_tx: \", unsigned_tx.hex())"
   ]
  },
  {
   "cell_type": "markdown",
   "metadata": {},
   "source": [
    "We can decode this raw transaction to inspect it and see that it has all the information we need apart from the segwit fields (version, marker, and witness)."
   ]
  },
  {
   "cell_type": "code",
   "execution_count": 5,
   "metadata": {},
   "outputs": [
    {
     "name": "stdout",
     "output_type": "stream",
     "text": [
      "{\n",
      "  \"txid\": \"2c21f2a55ddaf50e2a65dd652339528387362146d568a414aa47e13b22991af8\",\n",
      "  \"hash\": \"2c21f2a55ddaf50e2a65dd652339528387362146d568a414aa47e13b22991af8\",\n",
      "  \"version\": 2,\n",
      "  \"size\": 216,\n",
      "  \"vsize\": 216,\n",
      "  \"weight\": 864,\n",
      "  \"locktime\": 0,\n",
      "  \"vin\": [\n",
      "    {\n",
      "      \"txid\": \"96d9881a73ce8cbab9c342c5484c57b6183126c7882457ffc90fcfa2d38bcb46\",\n",
      "      \"vout\": 1,\n",
      "      \"scriptSig\": {\n",
      "        \"asm\": \"\",\n",
      "        \"hex\": \"\"\n",
      "      },\n",
      "      \"sequence\": 4294967295\n",
      "    },\n",
      "    {\n",
      "      \"txid\": \"beee8ead0e38ab8fcdd54612ec54c5e311b4c18e2c4cc42d663ecbb9598a71c9\",\n",
      "      \"vout\": 0,\n",
      "      \"scriptSig\": {\n",
      "        \"asm\": \"\",\n",
      "        \"hex\": \"\"\n",
      "      },\n",
      "      \"sequence\": 4294967295\n",
      "    }\n",
      "  ],\n",
      "  \"vout\": [\n",
      "    {\n",
      "      \"value\": 0.20000000,\n",
      "      \"n\": 0,\n",
      "      \"scriptPubKey\": {\n",
      "        \"asm\": \"0 fc7250a211deddc70ee5a2738de5f07817351cef\",\n",
      "        \"desc\": \"addr(bcrt1ql3e9pgs3mmwuwrh95fecme0s0qtn2880hlwwpw)#luvpmd0q\",\n",
      "        \"hex\": \"0014fc7250a211deddc70ee5a2738de5f07817351cef\",\n",
      "        \"address\": \"bcrt1ql3e9pgs3mmwuwrh95fecme0s0qtn2880hlwwpw\",\n",
      "        \"type\": \"witness_v0_keyhash\"\n",
      "      }\n",
      "    },\n",
      "    {\n",
      "      \"value\": 0.20000000,\n",
      "      \"n\": 1,\n",
      "      \"scriptPubKey\": {\n",
      "        \"asm\": \"0 d6fe05ad07a2b3a8f3b7223eeff694372032002f\",\n",
      "        \"desc\": \"addr(bcrt1q6mlqttg852e63uahyglwla55xusryqp08vx9w2)#c2cp77px\",\n",
      "        \"hex\": \"0014d6fe05ad07a2b3a8f3b7223eeff694372032002f\",\n",
      "        \"address\": \"bcrt1q6mlqttg852e63uahyglwla55xusryqp08vx9w2\",\n",
      "        \"type\": \"witness_v0_keyhash\"\n",
      "      }\n",
      "    },\n",
      "    {\n",
      "      \"value\": 0.20000000,\n",
      "      \"n\": 2,\n",
      "      \"scriptPubKey\": {\n",
      "        \"asm\": \"0 c94957ccbc70af1aec527a9d1318a2b5d16ce9c6\",\n",
      "        \"desc\": \"addr(bcrt1qe9y40n9uwzh34mzj02w3xx9zkhgke6wxcql4lk)#t4m8q2ue\",\n",
      "        \"hex\": \"0014c94957ccbc70af1aec527a9d1318a2b5d16ce9c6\",\n",
      "        \"address\": \"bcrt1qe9y40n9uwzh34mzj02w3xx9zkhgke6wxcql4lk\",\n",
      "        \"type\": \"witness_v0_keyhash\"\n",
      "      }\n",
      "    },\n",
      "    {\n",
      "      \"value\": 0.10000000,\n",
      "      \"n\": 3,\n",
      "      \"scriptPubKey\": {\n",
      "        \"asm\": \"0 03731c543b60c656c43d6459abfc212fe30de866\",\n",
      "        \"desc\": \"addr(bcrt1qqde3c4pmvrr9d3pav3v6hlpp9l3sm6rxnj8dcm)#y7l0a0g8\",\n",
      "        \"hex\": \"001403731c543b60c656c43d6459abfc212fe30de866\",\n",
      "        \"address\": \"bcrt1qqde3c4pmvrr9d3pav3v6hlpp9l3sm6rxnj8dcm\",\n",
      "        \"type\": \"witness_v0_keyhash\"\n",
      "      }\n",
      "    }\n",
      "  ]\n",
      "}\n"
     ]
    }
   ],
   "source": [
    "decoded = subprocess.getoutput(\"bitcoin-cli -regtest decoderawtransaction \" + unsigned_tx.hex())\n",
    "print(decoded)"
   ]
  },
  {
   "cell_type": "markdown",
   "metadata": {},
   "source": [
    "Segwit transactions have a new signing scheme described in [BIP143](https://github.com/bitcoin/bips/blob/master/bip-0143.mediawiki)\n"
   ]
  },
  {
   "cell_type": "code",
   "execution_count": 6,
   "metadata": {},
   "outputs": [],
   "source": [
    "# pk_hash1 = hash160(pubkey1)\n",
    "# scriptcode1 = bytes.fromhex(\"76a914\" + pk_hash.hex() + \"88ac\")\n",
    "\n",
    "# input_amount_sat = int(0.101 * 100_000_000)\n",
    "# value = input_amount_sat.to_bytes(8, byteorder=\"little\", signed=False)\n",
    "\n",
    "# hashPrevOuts = hash256(txid_1 + index_1)\n",
    "# hashSequence = hash256(sequence)\n",
    "# hashOutputs = hash256(outputs)\n",
    "# sighash_type = bytes.fromhex(\"0100 0000\") # SIGHASH_ALL\n",
    "\n",
    "# tx_digest_preimage = (\n",
    "#     version\n",
    "#     + hashPrevOuts\n",
    "#     + hashSequence\n",
    "#     + txid_1\n",
    "#     + index_1\n",
    "#     + varint_len(scriptcode1)\n",
    "#     + scriptcode1\n",
    "#     + value1\n",
    "#     + sequence1\n",
    "#     + hashOutputs\n",
    "#     + locktime\n",
    "#     + sighash_type\n",
    "# )\n",
    "# print(tx_digest_preimage.hex())"
   ]
  },
  {
   "cell_type": "markdown",
   "metadata": {},
   "source": [
    "Now we are ready to hash this transaction and produce an ecdsa signature on it. \n",
    "\n",
    "Before hashing the transaction with hash256, we append the sighash flag. In this example we'll use the most commonly used SIGHASH_ALL flag, meaning the signature guarantees the input will only be used in a transaction with these exact inputs and outputs.\n",
    "\n",
    "Note that when we append the sighash flag to the transaction, we use 4 bytes, however when we append the sighash flag to the end of the signature itself we only use 1 byte."
   ]
  },
  {
   "cell_type": "code",
   "execution_count": 7,
   "metadata": {
    "code_folding": []
   },
   "outputs": [],
   "source": [
    "# # Create sigHash to be signed\n",
    "# sighash = hash256(tx_digest_preimage)\n",
    "\n",
    "# # Sign the sigHash with the input private key\n",
    "# signing_key = ecdsa.SigningKey.from_string(sender_privkey, curve=ecdsa.SECP256k1) \n",
    "# signature = signing_key.sign_digest(sighash, sigencode=ecdsa.util.sigencode_der_canonize)\n",
    "\n",
    "# # Append SIGHASH_ALL to the signature\n",
    "# signature = signature + bytes.fromhex(\"01\")\n",
    "\n",
    "# # Witness field\n",
    "# witness = (\n",
    "#     # indicate the number of stack items for the txin\n",
    "#     # 2 items for signature and pubkey\n",
    "#     bytes.fromhex(\"02\")\n",
    "#     + pushbytes(signature)\n",
    "#     + pushbytes(sender_pubkey)\n",
    "# )\n",
    "\n",
    "# # tx_in with our new sigScript containing the signature we just created\n",
    "# inputs_signed = (\n",
    "#     txid\n",
    "#     + index\n",
    "#     + varint_len(scriptsig)\n",
    "#     + scriptsig\n",
    "#     + sequence\n",
    "# )\n",
    "\n",
    "# # the final signed transaction\n",
    "# signed_tx = (\n",
    "#     version\n",
    "#     + marker\n",
    "#     + flag\n",
    "#     + input_count\n",
    "#     + inputs_signed\n",
    "#     + output_count\n",
    "#     + outputs\n",
    "#     + witness\n",
    "#     + locktime\n",
    "# )\n",
    "\n",
    "# print(\"signed transaction: \",signed_tx.hex())"
   ]
  },
  {
   "cell_type": "markdown",
   "metadata": {},
   "source": [
    "### Broadcast the transaction (on regtest mode)\n",
    "If we get back a txid (32 byte hash), then it means the tx was successfully broadcast! If we just want to see if the transaction would have been accepted, but without broadcasting it, we can use the `testmempoolaccept` command (commented out)."
   ]
  },
  {
   "cell_type": "code",
   "execution_count": 8,
   "metadata": {},
   "outputs": [],
   "source": [
    "# new_tx_txid = subprocess.getoutput(\"bitcoin-cli -regtest sendrawtransaction \" + signed_tx.hex())\n",
    "# # new_tx_txid = subprocess.getoutput(\"bitcoin-cli -regtest testmempoolaccept \" + \"'[\\\"\" +  signed_tx.hex()+ \"\\\"]'\")\n",
    "\n",
    "# print(new_tx_txid)"
   ]
  },
  {
   "cell_type": "markdown",
   "metadata": {},
   "source": [
    "We can decode the serialized transaction using ```decoderawtransaction```. Notice that our output addresses match the change and receiver addresses from earlier."
   ]
  },
  {
   "cell_type": "code",
   "execution_count": 9,
   "metadata": {},
   "outputs": [],
   "source": [
    "# print(\"receiver's p2pkh address: \" + receiver_address)\n",
    "# change_p2pkh_addr = pk_to_p2pkh(change_pubkey, network = \"regtest\")\n",
    "# print(\"sender's change p2pkh address: \" + change_p2pkh_addr)"
   ]
  },
  {
   "cell_type": "code",
   "execution_count": 10,
   "metadata": {},
   "outputs": [],
   "source": [
    "# decoded = subprocess.getoutput(\"bitcoin-cli -regtest decoderawtransaction \" + signed_tx.hex())\n",
    "# print(decoded)"
   ]
  },
  {
   "cell_type": "code",
   "execution_count": 11,
   "metadata": {},
   "outputs": [
    {
     "data": {
      "text/plain": [
       "'Bitcoin Core stopping'"
      ]
     },
     "execution_count": 11,
     "metadata": {},
     "output_type": "execute_result"
    }
   ],
   "source": [
    "# stop bitcoin core\n",
    "subprocess.getoutput(\"bitcoin-cli -regtest stop\")"
   ]
  },
  {
   "cell_type": "markdown",
   "metadata": {},
   "source": [
    "## Quiz\n"
   ]
  },
  {
   "cell_type": "markdown",
   "metadata": {},
   "source": [
    " ## Answers\n",
    "    "
   ]
  },
  {
   "cell_type": "markdown",
   "metadata": {},
   "source": [
    "## Exercise\n"
   ]
  }
 ],
 "metadata": {
  "kernelspec": {
   "display_name": "Python 3",
   "language": "python",
   "name": "python3"
  },
  "language_info": {
   "codemirror_mode": {
    "name": "ipython",
    "version": 3
   },
   "file_extension": ".py",
   "mimetype": "text/x-python",
   "name": "python",
   "nbconvert_exporter": "python",
   "pygments_lexer": "ipython3",
   "version": "3.7.0"
  }
 },
 "nbformat": 4,
 "nbformat_minor": 2
}
