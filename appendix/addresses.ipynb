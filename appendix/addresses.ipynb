{
 "cells": [
  {
   "cell_type": "code",
   "execution_count": 1,
   "id": "af49fa73",
   "metadata": {
    "code_folding": [
     0
    ]
   },
   "outputs": [],
   "source": [
    "# Useful functions (covered in previous sections of the course)\n",
    "import hashlib\n",
    "\n",
    "def hash256(data: bytes):\n",
    "    '''Two rounds of SHA256 (aka Hash256)'''\n",
    "    hash_1 = hashlib.sha256(data).digest()\n",
    "    hash_2 = hashlib.sha256(hash_1).digest()\n",
    "    return hash_2\n",
    "\n",
    "def hash160(data: bytes):\n",
    "    '''sha256 followed by ripemd160'''\n",
    "    hash_1 = hashlib.sha256(data).digest()\n",
    "    hash_2 = hashlib.new('ripemd160', hash_1).digest()\n",
    "    return hash_2"
   ]
  },
  {
   "cell_type": "markdown",
   "id": "e0b7043b",
   "metadata": {},
   "source": [
    "# Bitcoin scriptPubKey formats and addresses\n",
    "\n",
    "Here we will cover the different scriptPubKey formats as well as how they can be encoded and decoded.\n",
    "\n",
    "## Recommended reading\n",
    "- TODO _(suggestions/PRs welcome)_"
   ]
  },
  {
   "cell_type": "markdown",
   "id": "36d6b19a",
   "metadata": {},
   "source": [
    "## Introduction\n",
    "When Alice sends Bob bitcoin, Alice does so by creating a new transaction where one (or more) of the outputs has a scriptPubKey (aka 'locking script') specified by Bob. What makes the output effectively belong to Bob is that only he knows how to create a scriptSig that will unlock the locking script.\n",
    "\n",
    "If Bob were to send Alice the scriptPubKey as raw bytes, any error in communication could result in Alice sending the bitcoin to the wrong scriptPubKey, making the bitcoin impossible to recover.\n",
    "\n",
    "To help prevent this problem, there are common address formats for encoding scriptPubKeys. These addresses are designed to be easier to read and contain a checksum to help with error detection.\n",
    "\n",
    "Bitcoin uses three address types (base58, bech32, bech32m) that cover the standard scriptPubKey formats:\n",
    "- Base58\n",
    "    - p2pkh\n",
    "    - p2sh\n",
    "    - p2sh-p2wpkh\n",
    "- Bech32\n",
    "    - p2wpkh\n",
    "    - p2wsh\n",
    "- Bech32m\n",
    "    - p2tr\n",
    "\n",
    "### Address prefixes\n",
    "These address formats not only encode the scriptPubKey for the output, but they also encode a prefix that specifies which network (mainnet/testnet) the output is intended for. The same prefix is also used by other bitcoin forks (e.g. litecoin or zcash) to indicate which cryptocurrency the output is intended for. If a wallet implementation doesn't check that the prefix matches with the type of transaction being created, the wallet user may end up creating a transaction that for a different cryptocurrency than the one the user is intending to use.\n",
    "\n",
    "Here are some commonly used bitcoin address prefixes:\n",
    "- Mainnet\n",
    "    - P2PKH - `0x00`\n",
    "    - P2SH  - `0x05`\n",
    "- Testnet\n",
    "    - P2PKH - `0x00`\n",
    "    - P2SH  - `0x05`\n",
    "\n",
    "\n",
    "\n",
    "    if network == \"testnet\":\n",
    "        prefix = 'tb'\n",
    "    if network == \"regtest\":\n",
    "        prefix = 'bcrt'\n",
    "    elif network == \"mainnet\":\n",
    "        prefix = 'bc'\n",
    "\n",
    "A full list of bitcoin address prefixes can be found here: https://en.bitcoin.it/wiki/List_of_address_prefixes"
   ]
  },
  {
   "cell_type": "markdown",
   "id": "718f6534",
   "metadata": {},
   "source": [
    "## Base58\n",
    "\n",
    "TODO - cover base58 encoding"
   ]
  },
  {
   "cell_type": "code",
   "execution_count": 2,
   "id": "16534779",
   "metadata": {},
   "outputs": [],
   "source": [
    "import base58\n",
    "\n",
    "def encode_base58_checksum(b: bytes):\n",
    "    return base58.b58encode(b + hash256(b)[:4]).decode()\n",
    "\n",
    "def decode_base58(s: str):\n",
    "    return base58.b58decode(s)\n"
   ]
  },
  {
   "cell_type": "markdown",
   "id": "9756c214",
   "metadata": {},
   "source": [
    "### Creating a base58 P2PKH address from a pubkey\n",
    "Given the pubkey `02466d7fcae563e5cb09a0d1870bb580344804617879a14949cf22285f1bae3f27`, create a p2pkh address for regtest."
   ]
  },
  {
   "cell_type": "code",
   "execution_count": 3,
   "id": "3f26d1a8",
   "metadata": {},
   "outputs": [
    {
     "name": "stdout",
     "output_type": "stream",
     "text": [
      "mo6CPsdW8EsnWdmSSCrQ6225VVDtpMBTug\n"
     ]
    }
   ],
   "source": [
    "pubkey = bytes.fromhex(\"02466d7fcae563e5cb09a0d1870bb580344804617879a14949cf22285f1bae3f27\")\n",
    "\n",
    "# Take the hash (hash160) of the pubkey\n",
    "pk_hash = hash160(pubkey)\n",
    "\n",
    "# Set the address prefix. For regtest p2pkh we use 0x6f\n",
    "# a list of prefixes can be found at https://en.bitcoin.it/wiki/List_of_address_prefixes\n",
    "# In bitcoin core it is defined in chainparams.cpp\n",
    "# https://github.com/bitcoin/bitcoin/blob/767d825e27b452d6e846280256e5932e906da44d/src/chainparams.cpp#L241\n",
    "prefix = bytes.fromhex(\"6f\")\n",
    "\n",
    "# Append the prefix\n",
    "payload = prefix + pk_hash\n",
    "\n",
    "# Apply base58 encoding \n",
    "p2pkh_address = encode_base58_checksum(payload)\n",
    "\n",
    "print(p2pkh_address)"
   ]
  },
  {
   "cell_type": "markdown",
   "id": "278b9de1",
   "metadata": {},
   "source": [
    "For the rest of the notebooks we'll use the following function to convert pubkeys to base58 p2pkh addresses:"
   ]
  },
  {
   "cell_type": "code",
   "execution_count": 4,
   "id": "41f73038",
   "metadata": {},
   "outputs": [],
   "source": [
    "def pk_to_p2pkh(compressed: bytes, network: str):\n",
    "    '''Creates a p2pkh address from a compressed pubkey'''\n",
    "    pk_hash = hash160(compressed)\n",
    "    if network == \"regtest\" or network == \"testnet\":\n",
    "        prefix = bytes.fromhex(\"6f\")\n",
    "    elif network == \"mainnet\":\n",
    "        prefix = bytes.fromhex(\"00\")\n",
    "    else:\n",
    "        return \"Enter the network: testnet/regtest/mainnet\"\n",
    "    return encode_base58_checksum(prefix + pk_hash)"
   ]
  },
  {
   "cell_type": "markdown",
   "id": "ad662b04",
   "metadata": {},
   "source": [
    "### Creating a base58 P2SH address from a multisig script\n",
    "\n",
    "Here we'll create a 2-of-3 multisig script from 3 pubkeys and use that to generate a base58 P2SH address.\n",
    "\n",
    "Creating a P2SH base58 address is much like a P2PKH address, however we use the _redeemScript_ hash instead of a pubkey hash, and a different prefixes. \n",
    "\n",
    "The OP_CODES `02` and `03` are represented by `0x52` and `0x53`. For more on the multisig script, refer to the 'Bitcoin Script' chapter."
   ]
  },
  {
   "cell_type": "code",
   "execution_count": 5,
   "id": "e1e21810",
   "metadata": {},
   "outputs": [],
   "source": [
    "pubkey1 = bytes.fromhex(\"034f355bdcb7cc0af728ef3cceb9615d90684bb5b2ca5f859ab0f0b704075871aa\")\n",
    "pubkey2 = bytes.fromhex(\"02466d7fcae563e5cb09a0d1870bb580344804617879a14949cf22285f1bae3f27\")\n",
    "pubkey3 = bytes.fromhex(\"023c72addb4fdf09af94f0c94d7fe92a386a7e70cf8a1d85916386bb2535c7b1b1\")\n",
    "\n",
    "redeemScript = bytes.fromhex(\n",
    "    \"52\"            # OP_2\n",
    "    + \"21\"          # OP_PUSHBYTES_33 (\"21\" is the length of a 33 byte (compressed) pubkey in hex notation)\n",
    "    + pubkey1.hex() # pubkey1\n",
    "    + \"21\"          # OP_PUSHBYTES_33\n",
    "    + pubkey2.hex() # pubkey2\n",
    "    + \"21\"          # OP_PUSHBYTES_33\n",
    "    + pubkey3.hex() # pubkey3\n",
    "    + \"53\"          # OP_3\n",
    "    + \"ae\"          #OP_CHECKMULTISIG\n",
    ")\n"
   ]
  },
  {
   "cell_type": "markdown",
   "id": "c5e7c16a",
   "metadata": {},
   "source": [
    "Now that we have our redeemScript, we can convert it to a base58 regtest P2SH address:"
   ]
  },
  {
   "cell_type": "code",
   "execution_count": 6,
   "id": "57a48f4e",
   "metadata": {},
   "outputs": [
    {
     "name": "stdout",
     "output_type": "stream",
     "text": [
      "2MuXogRGTh7uADB2wKBqFcsPTprVKnChJe6\n"
     ]
    }
   ],
   "source": [
    "# Take the hash (hash160) of the redeemScript\n",
    "script_hash = hash160(redeemScript)\n",
    "\n",
    "# Set the address prefix. For regtest p2sh we use 0xc4\n",
    "prefix = bytes.fromhex(\"c4\")\n",
    "\n",
    "# Append the prefix\n",
    "payload = prefix + script_hash\n",
    "\n",
    "# Apply base58 encoding \n",
    "p2sh_address = encode_base58_checksum(payload)\n",
    "\n",
    "print(p2sh_address)"
   ]
  },
  {
   "cell_type": "markdown",
   "id": "01da1ebb",
   "metadata": {},
   "source": [
    "For the rest of the notebooks we'll use the following function for converting a P2SH redeemScript to a base58 address:"
   ]
  },
  {
   "cell_type": "code",
   "execution_count": 7,
   "id": "38b6b104",
   "metadata": {},
   "outputs": [],
   "source": [
    "def script_to_p2sh(redeemScript, network):\n",
    "    rs_hash = hash160(redeemScript)\n",
    "    if network == \"regtest\" or network == \"testnet\":\n",
    "        prefix = bytes.fromhex(\"c4\")\n",
    "    elif network == \"mainnet\":\n",
    "        prefix = bytes.fromhex(\"05\")\n",
    "    else:\n",
    "        return \"Enter the network: tesnet/regtest/mainnet\"\n",
    "    return encode_base58_checksum(prefix + rs_hash)"
   ]
  },
  {
   "cell_type": "markdown",
   "id": "1dff0517",
   "metadata": {},
   "source": [
    "### Decoding a base58 address\n",
    "Now let's do the reverse. Given a base58 address, decode it to get the prefix and scriptPubkey."
   ]
  },
  {
   "cell_type": "code",
   "execution_count": 8,
   "id": "af590d6c",
   "metadata": {},
   "outputs": [
    {
     "name": "stdout",
     "output_type": "stream",
     "text": [
      "Does the checksum match:  True\n",
      "prefix:  0x6f\n",
      "pubkey hash:  531260aa2a199e228c537dfa42c82bea2c7c1f4d\n"
     ]
    }
   ],
   "source": [
    "address = 'mo6CPsdW8EsnWdmSSCrQ6225VVDtpMBTug'\n",
    "address_decoded = decode_base58(address)\n",
    "\n",
    "# Check the checksum is valid\n",
    "decoded = address_decoded[:-4] # everything before the last 4 bytes is the message\n",
    "checksum = address_decoded[-4:] # last 4 bytes are the checksum\n",
    "\n",
    "# Check that the first four bytes of the hash are equal to the checksum\n",
    "print(\"Does the checksum match: \", hash256(decoded)[:4] == checksum)\n",
    "\n",
    "print(\"prefix: \", hex(decoded[0]))\n",
    "\n",
    "pk_hash = decoded[1:]\n",
    "print(\"pubkey hash: \", pk_hash.hex())"
   ]
  },
  {
   "cell_type": "markdown",
   "id": "690c2e6d",
   "metadata": {},
   "source": [
    "#### Pubkey hash to scriptPubkey\n",
    "- The checksum was valid, so it is safe to assume the data was received and read accurately. \n",
    "- The prefix `0x6f` tells us we are creating a scriptPubKey for a P2PKH output on bitcoin regtest.\n",
    "- The last part of the data therefore encodes the pubkey hash, and we can create a P2PKH script with it.\n",
    "\n",
    "To turn the pubkey hash it into a P2PKH scriptPubkey we inset it into the standard P2PKH script format:\n",
    "\n",
    "`OP_DUP OP_HASH160 <pubKeyHash> OP_EQUALVERIFY OP_CHECKSIG`\n",
    "\n",
    "We can look up the corresponding op codes bytes from https://en.bitcoin.it/wiki/Script.\n",
    "\n",
    "Note that in front of `<pubKeyHash>` we need to add an opcode for the length of the hash. Since the pubkey hash is taken from hash160, we have a 20 byte hash, which is `0x14` in hex notation."
   ]
  },
  {
   "cell_type": "code",
   "execution_count": 9,
   "id": "54696584",
   "metadata": {},
   "outputs": [
    {
     "name": "stdout",
     "output_type": "stream",
     "text": [
      "scriptPubkey:  76a914531260aa2a199e228c537dfa42c82bea2c7c1f4d88ac\n"
     ]
    }
   ],
   "source": [
    "scriptPubkey = bytes.fromhex(\"76a914\" + pk_hash.hex() + \"88ac\")\n",
    "print(\"scriptPubkey: \", scriptPubkey.hex())"
   ]
  },
  {
   "cell_type": "markdown",
   "id": "22c6ee29",
   "metadata": {},
   "source": [
    "## Bech32\n",
    "\n",
    "TODO"
   ]
  },
  {
   "cell_type": "markdown",
   "id": "0ef472d7",
   "metadata": {},
   "source": [
    "## Segwit"
   ]
  },
  {
   "cell_type": "code",
   "execution_count": 10,
   "id": "170b511d",
   "metadata": {},
   "outputs": [],
   "source": [
    "# Segwit\n",
    "def pk_to_p2wpkh(compressed, network):\n",
    "    '''generates a p2wpkh bech32 address corresponding to a compressed pubkey'''\n",
    "    pk_hash = hash160(compressed)\n",
    "    spk = bytes.fromhex(\"0014\") + pk_hash\n",
    "    version = spk[0] - 0x50 if spk[0] else 0\n",
    "    program = spk[2:]\n",
    "    if network == \"testnet\":\n",
    "        prefix = 'tb'\n",
    "    if network == \"regtest\":\n",
    "        prefix = 'bcrt'\n",
    "    elif network == \"mainnet\":\n",
    "        prefix = 'bc'\n",
    "    else:\n",
    "        return \"Enter the network: testnet/regtest/mainnet\"\n",
    "    return bech32.encode(prefix, version, program)\n",
    "\n",
    "\n",
    "def script_to_p2wsh(redeemScript, network):\n",
    "    '''Creates a p2wsh bech32 address corresponding to a redeemScript'''\n",
    "    script_hash = hashlib.sha256(redeemScript).digest()\n",
    "    spk = bytes.fromhex(\"0020\") + script_hash\n",
    "    version = spk[0] - 0x50 if spk[0] else 0\n",
    "    program = spk[2:]\n",
    "    if network == \"testnet\":\n",
    "        prefix = 'tb'\n",
    "    if network == \"regtest\":\n",
    "        prefix = 'bcrt'\n",
    "    elif network == \"mainnet\":\n",
    "        prefix = 'bc'\n",
    "    else:\n",
    "        return \"Enter the network: testnet/regtest/mainnet\"\n",
    "    return bech32.encode(prefix, version, program)\n",
    "\n",
    "\n",
    "def pk_to_p2sh_p2wpkh(compressed, network):\n",
    "    pk_hash = hash160(compressed)\n",
    "    redeemScript = bytes.fromhex(\"0014\"+str(pk_hash.hex()))\n",
    "    rs_hash = hash160(redeemScript)\n",
    "    if network == \"regtest\" or network == \"testnet\":\n",
    "        prefix = b\"\\xc4\"\n",
    "    elif network == \"mainnet\":\n",
    "        prefix = b\"\\x05\"\n",
    "    else:\n",
    "        return \"Enter the network: tesnet/regtest/mainnet\"\n",
    "    return encode_base58_checksum(prefix + rs_hash)\n",
    "\n",
    "def bech32_to_spk(hrp, address):\n",
    "    witver, witprog = bech32.decode(hrp, address)\n",
    "    pubkey_hash = bytearray(witprog)\n",
    "    return (\n",
    "        witver.to_bytes(1, byteorder=\"little\", signed=False)\n",
    "        + varint_len(pubkey_hash)\n",
    "        + pubkey_hash\n",
    "    )"
   ]
  },
  {
   "cell_type": "markdown",
   "id": "f137130c",
   "metadata": {},
   "source": [
    "## Bech32m\n",
    "\n",
    "TODO"
   ]
  },
  {
   "cell_type": "code",
   "execution_count": 11,
   "id": "ff466d1c",
   "metadata": {},
   "outputs": [],
   "source": [
    "# Taproot\n",
    "# def pk_to_p2tr()"
   ]
  },
  {
   "cell_type": "markdown",
   "id": "b284ae82",
   "metadata": {},
   "source": [
    "## Quiz\n",
    "\n",
    "What is the scriptPubkey encoded by this address `<address>`? What network is it intended for (mainnet/testnet)?\n",
    "\n"
   ]
  },
  {
   "cell_type": "code",
   "execution_count": null,
   "id": "4b4a2e3f",
   "metadata": {},
   "outputs": [],
   "source": []
  }
 ],
 "metadata": {
  "kernelspec": {
   "display_name": "Python 3",
   "language": "python",
   "name": "python3"
  },
  "language_info": {
   "codemirror_mode": {
    "name": "ipython",
    "version": 3
   },
   "file_extension": ".py",
   "mimetype": "text/x-python",
   "name": "python",
   "nbconvert_exporter": "python",
   "pygments_lexer": "ipython3",
   "version": "3.7.0"
  }
 },
 "nbformat": 4,
 "nbformat_minor": 5
}
