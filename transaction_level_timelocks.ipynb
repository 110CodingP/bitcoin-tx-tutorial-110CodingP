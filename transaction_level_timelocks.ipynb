{
 "cells": [
  {
   "cell_type": "code",
   "execution_count": 1,
   "metadata": {
    "code_folding": [
     0
    ]
   },
   "outputs": [],
   "source": [
    "# Import libraries\n",
    "from functions import *\n",
    "\n",
    "import json\n",
    "import os\n",
    "import subprocess\n",
    "import time"
   ]
  },
  {
   "cell_type": "markdown",
   "metadata": {},
   "source": [
    "# Transaction level timelocks (nLocktime and nSequence)"
   ]
  },
  {
   "cell_type": "markdown",
   "metadata": {},
   "source": [
    "In this section we'll cover how to create a transaction level timelocks with `nLocktime` and `nSequence`.\n",
    "\n",
    "Absolute timelocks are used for protection against [fee sniping](https://bitcoinops.org/en/topics/fee-sniping/#:~:text=Fee%20sniping%20occurs%20when%20a,who%20originally%20created%20those%20blocks.). Both absolute and relative timelocks are used in layer 2 protocols such lightning HTLC transactions, cross chain atomic swaps, however in those they are used in conjunction with the OP_CODES OP_CHECKLOCKTIMEVERIFY and OP_CHECKSEQUENCEVERIFY. We will cover those op codes in the next section.\n",
    "\n",
    "This section assumes knowledge of P2WPKH transactions.\n",
    "\n",
    "\n",
    "### Reading\n",
    "- https://medium.com/summa-technology/bitcoins-time-locks-27e0c362d7a1\n",
    "\n",
    "### Scenario\n",
    "Kim is an old grandmother who wants to pass some of her wealth (0.1 btc) on to her grandson, Peter. However, Peter is still a child and Kim doesn't trust Peter to spend his bitcoin wisely. Kim would rather wait until Peter turns 18 before he's able to spend his bitcoin. Kim doesn't know how much longer she'll be around for, and she doesn't trust anyone else to handle her money. To give Peter bitcoin in a way which will only allow him to spend it once he's 18, Kim will do this by giving Peter a signed transaction for 0.1 btc with an absolute timelock set to expire on his 18th birthday.\n",
    "\n",
    "Note that 1 year corresponds to about 50,000 blocks. To save us having to mine tens of thousands of regtest blocks (which may take a few minutes), we'll instead suppose Peter's 18th birthday is happening much sooner, at block 500."
   ]
  },
  {
   "cell_type": "markdown",
   "metadata": {},
   "source": [
    "### Create a P2WPKH UTXO\n",
    "\n",
    "For this example, Kim is spending from a P2WPKH output, although the same mechanism would work with any other type of output. We'll use the same code from the P2WPKH example to create the utxo."
   ]
  },
  {
   "cell_type": "code",
   "execution_count": 2,
   "metadata": {},
   "outputs": [
    {
     "name": "stdout",
     "output_type": "stream",
     "text": [
      "sender's p2wpkh address: bcrt1ql3e9pgs3mmwuwrh95fecme0s0qtn2880hlwwpw\n"
     ]
    }
   ],
   "source": [
    "sender_privkey = bytes.fromhex(\"1111111111111111111111111111111111111111111111111111111111111111\")\n",
    "sender_pubkey = privkey_to_pubkey(sender_privkey)\n",
    "sender_p2wpkh_addr = pk_to_p2wpkh(sender_pubkey, network = \"regtest\")\n",
    "print(\"sender's p2wpkh address: \" + sender_p2wpkh_addr)"
   ]
  },
  {
   "cell_type": "markdown",
   "metadata": {},
   "source": [
    "#### Create Kim's utxo with 0.101 btc (0.001 btc is for the next tx fee)\n",
    "\n",
    "Now that we have the address, we'll fund it using the python code we used in the previous sections, `create_regtest_utxo.py`."
   ]
  },
  {
   "cell_type": "code",
   "execution_count": 3,
   "metadata": {},
   "outputs": [
    {
     "name": "stdout",
     "output_type": "stream",
     "text": [
      "txid: 4ee55ffb72279c9647669dc47044444e8f6bc85d99af533c53f745079d203369, 1\n"
     ]
    }
   ],
   "source": [
    "txid_to_spend, index_to_spend = create_regtest_utxo(sender_p2wpkh_addr, 0.101)\n",
    "print(f\"txid: {txid_to_spend}, {index_to_spend}\")"
   ]
  },
  {
   "cell_type": "markdown",
   "metadata": {},
   "source": [
    "#### Set the output scriptPubkey and amount\n",
    "\n",
    "Now that we have created Kim's P2WPKH utxo, we can create her timelocked transaction spending from it. Let's say Peter's address is `bcrt1ql3e9pgs3mmwuwrh95fecme0s0qtn2880hlwwpw`, which corresponds to the scriptPubkey `0014fc7250a211deddc70ee5a2738de5f07817351cef`. We'll also set the amount to spend the entire utxo, excluding the miner fee (of 0.001 btc)."
   ]
  },
  {
   "cell_type": "code",
   "execution_count": 4,
   "metadata": {},
   "outputs": [],
   "source": [
    "output1_spk = bytes.fromhex(\"0014fc7250a211deddc70ee5a2738de5f07817351cef\")\n",
    "output1_value_sat = int(float(\"0.1\") * 100000000)"
   ]
  },
  {
   "cell_type": "markdown",
   "metadata": {},
   "source": [
    "## Absolute timelocks (nLocktime)\n",
    "\n",
    "Times are expressed as an unsigned 32 bit (4 byte) integer. If time_lock is 0, it's ignored. If it is 500,000,000 or above, it's treated as a unix timestamp. To set nLocktime, we'll use the built in python method `to_bytes` to convert the integer value for the blockheight into an unsigned 32 bit integer."
   ]
  },
  {
   "cell_type": "code",
   "execution_count": 5,
   "metadata": {},
   "outputs": [
    {
     "name": "stdout",
     "output_type": "stream",
     "text": [
      "nLocktime:  f4010000\n"
     ]
    }
   ],
   "source": [
    "# let's suppose Peter's 18th birthday is estimated to happen at block 500\n",
    "locktime_int = 500\n",
    "locktime = locktime_int.to_bytes(4, byteorder=\"little\", signed=False)\n",
    "print(\"nLocktime: \", locktime.hex())"
   ]
  },
  {
   "cell_type": "markdown",
   "metadata": {},
   "source": [
    "Note that `nLocktime` will be ignored if `nSequence` is set to the largest value (`0xffffffff`). Using `nSequence` to signal in this way is an artifact from Satoshi's half-baked time-lock implementation and at this point it would require a hardfork to change it. To enable `nLocktime` we'll set `nSequence` to `0xffff fffe`. Note that this value for `nSequence` is also the default set by bitcoin core."
   ]
  },
  {
   "cell_type": "code",
   "execution_count": 6,
   "metadata": {},
   "outputs": [
    {
     "name": "stdout",
     "output_type": "stream",
     "text": [
      "sequence:  fffffffe\n"
     ]
    }
   ],
   "source": [
    "sequence = bytes.fromhex(\"ffff fffe\")\n",
    "print(\"sequence: \", sequence.hex())"
   ]
  },
  {
   "cell_type": "markdown",
   "metadata": {},
   "source": [
    "### Create an unsigned transaction"
   ]
  },
  {
   "cell_type": "markdown",
   "metadata": {},
   "source": [
    "Using the values for `nLocktime` that we set above `nSequence`, we'll create the unsigned transaction and sign it in the same way we did when creating a regular P2WPKH transaction."
   ]
  },
  {
   "cell_type": "code",
   "execution_count": 7,
   "metadata": {},
   "outputs": [
    {
     "name": "stdout",
     "output_type": "stream",
     "text": [
      "unsigned_tx:  02000000016933209d0745f7533c53af995dc86b8f4e444470c49d6647969c2772fb5fe54e0100000000fffffffe018096980000000000160014fc7250a211deddc70ee5a2738de5f07817351ceff4010000\n"
     ]
    }
   ],
   "source": [
    "# VERSION\n",
    "# version '2' indicates that we may use relative timelocks (BIP68)\n",
    "version = bytes.fromhex(\"0200 0000\")\n",
    "\n",
    "# MARKER (new to segwit)\n",
    "marker = bytes.fromhex(\"00\")\n",
    "\n",
    "# FLAG (new to segwit)\n",
    "flag = bytes.fromhex(\"01\")\n",
    "\n",
    "# INPUTS\n",
    "# We have just 1 input\n",
    "input_count = bytes.fromhex(\"01\")\n",
    "\n",
    "# Convert txid and index to bytes (little endian)\n",
    "txid = (bytes.fromhex(txid_to_spend))[::-1]\n",
    "index = index_to_spend.to_bytes(4, byteorder=\"little\", signed=False)\n",
    "\n",
    "# For the unsigned transaction we use an empty scriptSig\n",
    "scriptsig = bytes.fromhex(\"\")\n",
    "\n",
    "# SEQUENCE\n",
    "# set above\n",
    "\n",
    "inputs = (\n",
    "    txid\n",
    "    + index\n",
    "    + varint_len(scriptsig)\n",
    "    + scriptsig\n",
    "    + sequence\n",
    ")\n",
    "\n",
    "# OUTPUTS\n",
    "# 0x02 for out two outputs\n",
    "output_count = bytes.fromhex(\"01\")\n",
    "\n",
    "# OUTPUT 1 \n",
    "output1_value = output1_value_sat.to_bytes(8, byteorder=\"little\", signed=True)\n",
    "# 'output1_spk' already defined at the start of the script\n",
    "\n",
    "outputs = (\n",
    "    output1_value\n",
    "    + varint_len(output1_spk)\n",
    "    + output1_spk\n",
    ")\n",
    "\n",
    "# LOCKTIME\n",
    "# set above\n",
    "\n",
    "unsigned_tx = (\n",
    "    version\n",
    "    + input_count\n",
    "    + inputs\n",
    "    + output_count\n",
    "    + outputs\n",
    "    + locktime\n",
    ")\n",
    "print(\"unsigned_tx: \", unsigned_tx.hex())"
   ]
  },
  {
   "cell_type": "markdown",
   "metadata": {},
   "source": [
    "### Signing the transaction\n",
    "\n",
    "Segwit transaction signing scheme described in [BIP143](https://github.com/bitcoin/bips/blob/master/bip-0143.mediawiki)\n"
   ]
  },
  {
   "cell_type": "code",
   "execution_count": 8,
   "metadata": {},
   "outputs": [
    {
     "name": "stdout",
     "output_type": "stream",
     "text": [
      "020000001af22c42d1068f4db0df6fe15e0546f2b87d5ebfd4fb31e96acdea6a62d44769bbdebfac1cd12080fb29f8919f7f8be7bdb21a89c8d09e8a59fc7bb1d2a737966933209d0745f7533c53af995dc86b8f4e444470c49d6647969c2772fb5fe54e010000001976a914fc7250a211deddc70ee5a2738de5f07817351cef88ac201d9a0000000000fffffffe62580c97423350cc6d13c95a8203b8dd1962f9f34ecaa00a7542aa14f6e2b1a3f401000001000000\n"
     ]
    }
   ],
   "source": [
    "pk_hash = hash160(sender_pubkey)\n",
    "scriptcode = bytes.fromhex(\"76a914\" + pk_hash.hex() + \"88ac\")\n",
    "\n",
    "input_amount_sat = int(0.101 * 100_000_000)\n",
    "value = input_amount_sat.to_bytes(8, byteorder=\"little\", signed=False)\n",
    "\n",
    "hashPrevOuts = hash256(txid + index)\n",
    "hashSequence = hash256(sequence)\n",
    "hashOutputs = hash256(outputs)\n",
    "sighash_type = bytes.fromhex(\"0100 0000\") # SIGHASH_ALL\n",
    "\n",
    "tx_digest_preimage = (\n",
    "    version\n",
    "    + hashPrevOuts\n",
    "    + hashSequence\n",
    "    + txid\n",
    "    + index\n",
    "    + varint_len(scriptcode)\n",
    "    + scriptcode\n",
    "    + value\n",
    "    + sequence\n",
    "    + hashOutputs\n",
    "    + locktime\n",
    "    + sighash_type\n",
    ")\n",
    "print(tx_digest_preimage.hex())"
   ]
  },
  {
   "cell_type": "markdown",
   "metadata": {},
   "source": [
    "Hash this transaction and produce an ecdsa signature on it. "
   ]
  },
  {
   "cell_type": "code",
   "execution_count": 9,
   "metadata": {
    "code_folding": []
   },
   "outputs": [
    {
     "name": "stdout",
     "output_type": "stream",
     "text": [
      "signed transaction:  020000000001016933209d0745f7533c53af995dc86b8f4e444470c49d6647969c2772fb5fe54e0100000000fffffffe018096980000000000160014fc7250a211deddc70ee5a2738de5f07817351cef0247304402205a09ec5e8b5dbb9e0817bfe0d1c6eaefcc06fb8c97d5a89e58f8b3536c7a18f902203408197b920c30487dddc9182b9d7d39d73044ae42fe07cc6e3afe03ca4714e40121034f355bdcb7cc0af728ef3cceb9615d90684bb5b2ca5f859ab0f0b704075871aaf4010000\n"
     ]
    }
   ],
   "source": [
    "# Create sigHash to be signed\n",
    "sighash = hash256(tx_digest_preimage)\n",
    "\n",
    "# Sign the sigHash with the input private key\n",
    "signing_key = ecdsa.SigningKey.from_string(sender_privkey, curve=ecdsa.SECP256k1) \n",
    "signature = signing_key.sign_digest(sighash, sigencode=ecdsa.util.sigencode_der_canonize)\n",
    "\n",
    "# Append SIGHASH_ALL to the signature\n",
    "signature = signature + bytes.fromhex(\"01\")\n",
    "\n",
    "# Witness field\n",
    "witness = (\n",
    "    # indicate the number of stack items for the txin\n",
    "    # 2 items for signature and pubkey\n",
    "    bytes.fromhex(\"02\")\n",
    "    + pushbytes(signature)\n",
    "    + pushbytes(sender_pubkey)\n",
    ")\n",
    "\n",
    "# tx_in with our new sigScript containing the signature we just created\n",
    "inputs_signed = (\n",
    "    txid\n",
    "    + index\n",
    "    + varint_len(scriptsig)\n",
    "    + scriptsig\n",
    "    + sequence\n",
    ")\n",
    "\n",
    "# the final signed transaction\n",
    "signed_tx = (\n",
    "    version\n",
    "    + marker\n",
    "    + flag\n",
    "    + input_count\n",
    "    + inputs_signed\n",
    "    + output_count\n",
    "    + outputs\n",
    "    + witness\n",
    "    + locktime\n",
    ")\n",
    "\n",
    "print(\"signed transaction: \",signed_tx.hex())"
   ]
  },
  {
   "cell_type": "markdown",
   "metadata": {},
   "source": [
    "### Scenario\n",
    "Kim has now successfully created a transaction which can only be spent by Peter after his 18th birthday (block 500)! Note that Peter won't be able to broadcast this transaction until the block height has been reached.\n",
    "\n",
    "If he were to try broadcasting the transaction, it would result in the following `non-final` error."
   ]
  },
  {
   "cell_type": "code",
   "execution_count": 10,
   "metadata": {},
   "outputs": [
    {
     "name": "stdout",
     "output_type": "stream",
     "text": [
      "102\n",
      "[\n",
      "  {\n",
      "    \"txid\": \"a70bdd4e3c50e5802f20621632bba67ebd25dccf37eb6b034fe52a07c7258525\",\n",
      "    \"wtxid\": \"d050cb3a87a3b3f625e39bb229076a5aac447062a1075f26448cf22dbb9a0439\",\n",
      "    \"allowed\": false,\n",
      "    \"reject-reason\": \"non-final\"\n",
      "  }\n",
      "]\n"
     ]
    }
   ],
   "source": [
    "height = subprocess.getoutput(\"bitcoin-cli -regtest getblockcount \")\n",
    "print(height)\n",
    "\n",
    "invalid_attempt = subprocess.getoutput(f\"bitcoin-cli -regtest testmempoolaccept '[\\\"{signed_tx.hex()}\\\"]'\")\n",
    "print(invalid_attempt)"
   ]
  },
  {
   "cell_type": "markdown",
   "metadata": {},
   "source": [
    "Now we'll simulate 398 blocks passing (to reach block 502), and see what happens if Peter tries to broadcast his transaction again."
   ]
  },
  {
   "cell_type": "code",
   "execution_count": 11,
   "metadata": {},
   "outputs": [
    {
     "name": "stdout",
     "output_type": "stream",
     "text": [
      "blockheight:  500\n",
      "[\n",
      "  {\n",
      "    \"txid\": \"a70bdd4e3c50e5802f20621632bba67ebd25dccf37eb6b034fe52a07c7258525\",\n",
      "    \"wtxid\": \"d050cb3a87a3b3f625e39bb229076a5aac447062a1075f26448cf22dbb9a0439\",\n",
      "    \"allowed\": true,\n",
      "    \"vsize\": 110,\n",
      "    \"fees\": {\n",
      "      \"base\": 0.00100000\n",
      "    }\n",
      "  }\n",
      "]\n"
     ]
    }
   ],
   "source": [
    "subprocess.getoutput(f\"bitcoin-cli -regtest -generate 398\")\n",
    "height = subprocess.getoutput(\"bitcoin-cli -regtest getblockcount \")\n",
    "print(\"blockheight: \", height)\n",
    "\n",
    "valid_spend = subprocess.getoutput(f\"bitcoin-cli -regtest testmempoolaccept '[\\\"{signed_tx.hex()}\\\"]'\")\n",
    "print(valid_spend)"
   ]
  },
  {
   "cell_type": "markdown",
   "metadata": {},
   "source": [
    "This time the transaction is successfully broadcasted and Peter has full ownership of his gift. \n",
    "\n",
    "To view the decoded transaction, uncomment the lines below."
   ]
  },
  {
   "cell_type": "code",
   "execution_count": 12,
   "metadata": {},
   "outputs": [],
   "source": [
    "# decoded = subprocess.getoutput(\"bitcoin-cli -regtest decoderawtransaction \" + signed_tx.hex())\n",
    "# print(decoded)"
   ]
  },
  {
   "cell_type": "code",
   "execution_count": 13,
   "metadata": {},
   "outputs": [
    {
     "data": {
      "text/plain": [
       "'Bitcoin Core stopping'"
      ]
     },
     "execution_count": 13,
     "metadata": {},
     "output_type": "execute_result"
    }
   ],
   "source": [
    "# stop bitcoin core\n",
    "subprocess.getoutput(\"bitcoin-cli -regtest stop\")"
   ]
  },
  {
   "cell_type": "markdown",
   "metadata": {},
   "source": [
    "## Relative timelocks (nSequence)\n",
    "\n",
    "Relative timelocks allow the user to set a delay from when the input was confirmed. Note that this means each input has it's own `nSequence` field which must be satisfied for the transaction to be considered 'final'.\n",
    "\n",
    "In the scenario we just covered, Kim could have achieved the same outcome but using a relative timelock instead. The only difference would be that the delay would be specified relative to when the input was confirmed, rather than the absolute block height. Note however, that if anything happens to Kim's input (e.g. a reorg changes the block height of the input), this would affect the transaction using `nSequence`, but not the one using `nLocktime`. \n",
    "\n",
    "Note that `version` must be set to **`2`** for relative timelocks to be enabled.\n",
    "\n",
    "### Exercise\n",
    "Repeat the scenario above, but setting `nLocktime` to 0 instead, and relying on `nSequence`.\n",
    "\n",
    "Hint: the block chain starts off at block 102, so the relative timelock should be set to 398 blocks for the transaction to be broadcastable at block 500.\n",
    "\n",
    "Hint 2: nSequence is a 32 bit unsigned integer, so you can use the same `.to_bytes` method used to convert `locktime_int` to `locktime` in the previous example.\n",
    "\n",
    "\n",
    "#### Solution for running with nSequence\n",
    "```\n",
    "# locktime_int = 0\n",
    "# locktime = locktime_int.to_bytes(4, byteorder=\"little\", signed=False)\n",
    "\n",
    "# sequence_int = 398\n",
    "# sequence = sequence_int.to_bytes(4, byteorder=\"little\", signed=False)\n",
    "# print(\"sequence: \", sequence.hex())\n",
    "```"
   ]
  },
  {
   "cell_type": "markdown",
   "metadata": {},
   "source": [
    "## Quiz\n",
    "\n",
    "- 1. What would happen if Kim had created the transaction with `nSequence` set to `0xffffffff`?\n",
    "- 2. In Peter guaranteed to be able to broadcast the timelocked transaction (signed by Kim) after block 500?\n",
    "- 3. What would happen if you tried using a relative timelock with `version` set to `0x01000000`?\n",
    "- 4. Is it possible to use an absolute timelock and a relative timelock in the same transaction?"
   ]
  },
  {
   "cell_type": "markdown",
   "metadata": {},
   "source": [
    "## Answers\n",
    "- 1. nLocktime would not have been enforced, meaning Peter would have been able to broadcast the transaction immediately.\n",
    "- 2. No. Kim may create a new transaction that spends the input before Peter has a chance to broadcast his transaction.\n",
    "- 3. Version 1 transactions do not enforce relative timelocks. The node would therefore ignore the relative timelock and allow it to be broadcast.\n",
    "- 4. Yes."
   ]
  },
  {
   "cell_type": "markdown",
   "metadata": {},
   "source": [
    "## Exercise\n",
    "- Try creating a timelock using the unix timestamp instead of the blockheight. Note that the timestamp in regtest blocks is taken from the system's clock. Also, since [BIP-113](https://github.com/bitcoin/bips/blob/master/bip-0113.mediawiki), time-locked transactions are compared to the median of the last 11 blocks."
   ]
  },
  {
   "cell_type": "code",
   "execution_count": null,
   "metadata": {},
   "outputs": [],
   "source": []
  }
 ],
 "metadata": {
  "kernelspec": {
   "display_name": "Python 3",
   "language": "python",
   "name": "python3"
  },
  "language_info": {
   "codemirror_mode": {
    "name": "ipython",
    "version": 3
   },
   "file_extension": ".py",
   "mimetype": "text/x-python",
   "name": "python",
   "nbconvert_exporter": "python",
   "pygments_lexer": "ipython3",
   "version": "3.7.0"
  }
 },
 "nbformat": 4,
 "nbformat_minor": 2
}
