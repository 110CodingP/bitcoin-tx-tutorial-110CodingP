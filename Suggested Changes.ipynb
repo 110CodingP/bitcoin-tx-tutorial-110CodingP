{
 "cells": [
  {
   "cell_type": "markdown",
   "id": "e228156a",
   "metadata": {},
   "source": [
    "broken ecdsa link"
   ]
  },
  {
   "cell_type": "markdown",
   "id": "5bb3b1ac",
   "metadata": {},
   "source": [
    "base58 prefixes in src/kernel/chainparams.cpp"
   ]
  },
  {
   "cell_type": "markdown",
   "id": "fa51f697",
   "metadata": {},
   "source": [
    "in malleability lesson : txid (while creating unsigned txn) should be in normal byte order"
   ]
  },
  {
   "cell_type": "markdown",
   "id": "b0055a00",
   "metadata": {},
   "source": [
    "varint to compact size"
   ]
  },
  {
   "cell_type": "markdown",
   "id": "25b48f2c",
   "metadata": {},
   "source": [
    "complete demonstration of sighash flags"
   ]
  },
  {
   "cell_type": "markdown",
   "id": "0dd86ea8",
   "metadata": {},
   "source": [
    "complete answer exercises"
   ]
  },
  {
   "cell_type": "code",
   "execution_count": null,
   "id": "f3ec0038",
   "metadata": {},
   "outputs": [],
   "source": []
  }
 ],
 "metadata": {
  "kernelspec": {
   "display_name": "Python 3 (ipykernel)",
   "language": "python",
   "name": "python3"
  },
  "language_info": {
   "codemirror_mode": {
    "name": "ipython",
    "version": 3
   },
   "file_extension": ".py",
   "mimetype": "text/x-python",
   "name": "python",
   "nbconvert_exporter": "python",
   "pygments_lexer": "ipython3",
   "version": "3.10.12"
  }
 },
 "nbformat": 4,
 "nbformat_minor": 5
}
