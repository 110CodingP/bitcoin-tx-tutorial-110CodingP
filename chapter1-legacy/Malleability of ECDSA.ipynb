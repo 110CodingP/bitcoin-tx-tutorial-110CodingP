{
 "cells": [
  {
   "cell_type": "markdown",
   "metadata": {},
   "source": [
    "# Malleability of ECDSA Signatures"
   ]
  },
  {
   "cell_type": "markdown",
   "metadata": {},
   "source": [
    "https://www.derpturkey.com/inherent-malleability-of-ecdsa-signatures"
   ]
  },
  {
   "cell_type": "markdown",
   "metadata": {},
   "source": [
    "## Setup \n",
    "\n",
    "### Requirements\n",
    "For this exercise we'll need Bitcoin Core. This notebook has been tested with [v24.0.1](https://github.com/bitcoin/bitcoin/releases/tag/v24.0.1).\n",
    "\n",
    "Below, set the paths for:\n",
    "1. The bitcoin core functional test framework directory.\n",
    "2. The directory containing bitcoin-tx-tutorial.\n",
    "\n",
    "**You'll need to edit these next two lines for your local setup.**"
   ]
  },
  {
   "cell_type": "code",
   "execution_count": 58,
   "metadata": {},
   "outputs": [],
   "source": [
    "path_to_bitcoin_functional_test = \"/home/codingp110/bitcoin/test/functional\"\n",
    "path_to_bitcoin_tx_tutorial = \"/home/codingp110/bitcoin-tx-tutorial\""
   ]
  },
  {
   "cell_type": "markdown",
   "metadata": {},
   "source": [
    "### Setup bitcoin core test framework\n",
    "Start up regtest mode, delete any regtest network history so we are starting from scratch. "
   ]
  },
  {
   "cell_type": "code",
   "execution_count": 59,
   "metadata": {},
   "outputs": [
    {
     "name": "stdout",
     "output_type": "stream",
     "text": [
      "2024-06-20T11:52:13.123000Z TestFramework (INFO): PRNG seed is: 563947586455348620\n",
      "2024-06-20T11:52:13.125000Z TestFramework (INFO): Initializing test directory /tmp/bitcoin_func_test_a8e6k8l_\n"
     ]
    }
   ],
   "source": [
    "import sys\n",
    "\n",
    "# Add the functional test framework to our PATH\n",
    "sys.path.insert(0, path_to_bitcoin_functional_test)\n",
    "from test_framework.test_shell import TestShell\n",
    "\n",
    "# Add the bitcoin-tx-tutorial functions to our PATH\n",
    "sys.path.insert(0, path_to_bitcoin_tx_tutorial)\n",
    "from functions import *\n",
    "\n",
    "import json\n",
    "\n",
    "# Setup our regtest environment\n",
    "test = TestShell().setup(\n",
    "    num_nodes=1, \n",
    "    setup_clean_chain=True\n",
    ")\n",
    "\n",
    "node = test.nodes[0]\n",
    "\n",
    "# Create a new wallet and address to send mining rewards so we can fund our transactions\n",
    "node.createwallet(wallet_name='mywallet')\n",
    "address = node.getnewaddress()\n",
    "\n",
    "# Generate 101 blocks so that the first block subsidy reaches maturity\n",
    "result = node.generatetoaddress(nblocks=101, address=address, invalid_call=False)\n",
    "\n",
    "# Check that we were able to mine 101 blocks\n",
    "assert(node.getblockcount() == 101)"
   ]
  },
  {
   "cell_type": "markdown",
   "metadata": {},
   "source": [
    "### Create a P2PKH UTXO\n",
    "\n",
    "In order to create a transaction spending from a P2PKH UTXO, we'll first need to create the UTXO that is locked with a p2pkh script. To do that, we'll create a P2PKH address from a private key, and fund it using the bitcoind wallet created in the setup step."
   ]
  },
  {
   "cell_type": "markdown",
   "metadata": {},
   "source": [
    "#### Create a p2pkh address \n",
    "For more on this step, review the 'Addresses' notebook."
   ]
  },
  {
   "cell_type": "code",
   "execution_count": 60,
   "metadata": {},
   "outputs": [
    {
     "name": "stdout",
     "output_type": "stream",
     "text": [
      "sender's pubkey: 034f355bdcb7cc0af728ef3cceb9615d90684bb5b2ca5f859ab0f0b704075871aa\n",
      "sender's p2pkh address: n4XmX91N5FfccY678vaG1ELNtXh6skVES7\n"
     ]
    }
   ],
   "source": [
    "sender_privkey = bytes.fromhex(\"1111111111111111111111111111111111111111111111111111111111111111\")\n",
    "sender_pubkey = privkey_to_pubkey(sender_privkey)\n",
    "sender_p2pkh_addr = pk_to_p2pkh(sender_pubkey, network = \"regtest\")\n",
    "print(\"sender's pubkey: \" + sender_pubkey.hex())\n",
    "print(\"sender's p2pkh address: \" + sender_p2pkh_addr)"
   ]
  },
  {
   "cell_type": "markdown",
   "metadata": {},
   "source": [
    "#### Fund the 'sender' with 2.001 btc (0.001 btc is for the next tx fee)"
   ]
  },
  {
   "cell_type": "code",
   "execution_count": 61,
   "metadata": {},
   "outputs": [
    {
     "name": "stdout",
     "output_type": "stream",
     "text": [
      "587c0e516553169903f61883b6e2fd1a73968c85f4c092aa7fcef8dbea4db0f0\n"
     ]
    }
   ],
   "source": [
    "txid_to_spend = node.sendtoaddress(sender_p2pkh_addr, 5.001)\n",
    "print(txid_to_spend)"
   ]
  },
  {
   "cell_type": "markdown",
   "metadata": {},
   "source": [
    "We can view the transaction using the bitcoin-cli commands `getrawtransaction` and `decoderawtransaction` as follows:"
   ]
  },
  {
   "cell_type": "code",
   "execution_count": 62,
   "metadata": {},
   "outputs": [
    {
     "name": "stdout",
     "output_type": "stream",
     "text": [
      "{\n",
      "  \"txid\": \"587c0e516553169903f61883b6e2fd1a73968c85f4c092aa7fcef8dbea4db0f0\",\n",
      "  \"hash\": \"16d3c183df741378699aa005c2f1b687c613bc325e4d03bc97d1609268385201\",\n",
      "  \"version\": 2,\n",
      "  \"size\": 228,\n",
      "  \"vsize\": 147,\n",
      "  \"weight\": 585,\n",
      "  \"locktime\": 101,\n",
      "  \"vin\": [\n",
      "    {\n",
      "      \"txid\": \"c92ff949e703fc34080bd00b7594bb7dab1e78263240cda21dbb77720ef02f1b\",\n",
      "      \"vout\": 0,\n",
      "      \"scriptSig\": {\n",
      "        \"asm\": \"\",\n",
      "        \"hex\": \"\"\n",
      "      },\n",
      "      \"txinwitness\": [\n",
      "        \"3044022067ebf66d25a54df7373dbeaf04d124677a0873a9cbb364cbfef7e55f716b5ef30220010ef5eab090abc42e77bcc59c740f41ac4745030147c3973f1b74e1f18d9c5001\",\n",
      "        \"02c24fd402009f6c7efe55b0d6901314dfed893eb4940b6469bf7d3161fba0ae53\"\n",
      "      ],\n",
      "      \"sequence\": 4294967293\n",
      "    }\n",
      "  ],\n",
      "  \"vout\": [\n",
      "    {\n",
      "      \"value\": \"5.00100000\",\n",
      "      \"n\": 0,\n",
      "      \"scriptPubKey\": {\n",
      "        \"asm\": \"OP_DUP OP_HASH160 fc7250a211deddc70ee5a2738de5f07817351cef OP_EQUALVERIFY OP_CHECKSIG\",\n",
      "        \"desc\": \"addr(n4XmX91N5FfccY678vaG1ELNtXh6skVES7)#n2xufj4n\",\n",
      "        \"hex\": \"76a914fc7250a211deddc70ee5a2738de5f07817351cef88ac\",\n",
      "        \"address\": \"n4XmX91N5FfccY678vaG1ELNtXh6skVES7\",\n",
      "        \"type\": \"pubkeyhash\"\n",
      "      }\n",
      "    },\n",
      "    {\n",
      "      \"value\": \"44.99897060\",\n",
      "      \"n\": 1,\n",
      "      \"scriptPubKey\": {\n",
      "        \"asm\": \"OP_DUP OP_HASH160 14755dfc54947a699767a793a6c7207c381943b9 OP_EQUALVERIFY OP_CHECKSIG\",\n",
      "        \"desc\": \"addr(mhP8QhfQoiEVeaFFcCxSZipsoqeVgv1gJo)#ejmswun8\",\n",
      "        \"hex\": \"76a91414755dfc54947a699767a793a6c7207c381943b988ac\",\n",
      "        \"address\": \"mhP8QhfQoiEVeaFFcCxSZipsoqeVgv1gJo\",\n",
      "        \"type\": \"pubkeyhash\"\n",
      "      }\n",
      "    }\n",
      "  ]\n",
      "}\n"
     ]
    }
   ],
   "source": [
    "raw_tx = node.getrawtransaction(txid_to_spend)\n",
    "decoded = node.decoderawtransaction(raw_tx)\n",
    "print(json.dumps(decoded, indent=2, default=str))"
   ]
  },
  {
   "cell_type": "markdown",
   "metadata": {},
   "source": [
    "#### Find which output index the btc was sent to\n",
    "Since we only sent 2.001 btc of the coinbase transaction (50 btc) to our address, bitcoind creates a change output to send the rest of the btc. By looking at the outputs we can see which is the change output and which was sent to our address. To do this in python we can do the following:"
   ]
  },
  {
   "cell_type": "code",
   "execution_count": 63,
   "metadata": {},
   "outputs": [
    {
     "name": "stdout",
     "output_type": "stream",
     "text": [
      "index to spend from: 0\n"
     ]
    }
   ],
   "source": [
    "if decoded[\"vout\"][0][\"scriptPubKey\"][\"address\"] == sender_p2pkh_addr:\n",
    "    index_to_spend = 0\n",
    "elif decoded[\"vout\"][1][\"scriptPubKey\"][\"address\"] == sender_p2pkh_addr:\n",
    "    index_to_spend = 1\n",
    "else:\n",
    "    raise Exception(\"couldn't find output\")\n",
    "print(\"index to spend from: \" + str(index_to_spend))"
   ]
  },
  {
   "cell_type": "markdown",
   "metadata": {},
   "source": [
    "#### Mine a block so that the funding tx gets confirmed"
   ]
  },
  {
   "cell_type": "code",
   "execution_count": 64,
   "metadata": {},
   "outputs": [],
   "source": [
    "node.generatetoaddress(1, address, invalid_call=False);"
   ]
  },
  {
   "cell_type": "markdown",
   "metadata": {},
   "source": [
    "## Spending a p2pkh UTXO\n",
    "\n",
    "Now that we have some funds locked up in a p2pkh utxo, we can create a transaction spending from it. Let's say we want to send 1.5 btc to the address `mkxwE7XtVYJKepoD2hbHnDjftuMQ1k6deE`.\n",
    "\n",
    "### Decoding a base58 address\n",
    "\n",
    "The first thing we need to do is decode the address. This lets us:  \n",
    "1 - validate the checksum to know the address was transmitted without error  \n",
    "2 - make sure we are sending btc on the correct network (testnet/mainnet)  \n",
    "3 - know what to put in the scriptPubkey\n",
    "\n",
    "For more on addresses, refer back to the '[Addresses](https://github.com/DariusParvin/bitcoin-tx-tutorial/blob/main/appendix/addresses.ipynb)' chapter."
   ]
  },
  {
   "cell_type": "code",
   "execution_count": 65,
   "metadata": {},
   "outputs": [
    {
     "name": "stdout",
     "output_type": "stream",
     "text": [
      "0x6f\n",
      "3bc28d6d92d9073fb5e3adf481795eaf446bceed\n",
      "ee2161b7\n"
     ]
    }
   ],
   "source": [
    "receiver_address = 'mkxwE7XtVYJKepoD2hbHnDjftuMQ1k6deE'\n",
    "receiver_address_decoded = decode_base58(receiver_address)\n",
    "# TODO: create a function in the address chapter to validate and parse addresses and use here\n",
    "\n",
    "prefix = receiver_address_decoded[0]  \n",
    "pubkey_hash = receiver_address_decoded[1:-4] \n",
    "checksum = receiver_address_decoded[-4:]\n",
    "print(hex(prefix))\n",
    "print(pubkey_hash.hex())\n",
    "print(checksum.hex())"
   ]
  },
  {
   "cell_type": "markdown",
   "metadata": {},
   "source": [
    "The first byte , in our case `6f`, tells us that this address corresponds to a p2pkh output for testnet. For more on decoding addresses, refer back to the 'Addresses' chapter.\n",
    "\n",
    "Now we can create the receiver's output scriptPubkey:"
   ]
  },
  {
   "cell_type": "code",
   "execution_count": 66,
   "metadata": {},
   "outputs": [],
   "source": [
    "receiver_spk = bytes.fromhex(\"76a914\") + pubkey_hash + bytes.fromhex(\"88ac\")"
   ]
  },
  {
   "cell_type": "markdown",
   "metadata": {},
   "source": [
    "### Create an unsigned p2pkh transaction\n",
    "\n",
    "The first thing we'll do is define the inputs and outputs of our transaction."
   ]
  },
  {
   "cell_type": "code",
   "execution_count": 67,
   "metadata": {},
   "outputs": [],
   "source": [
    "# Note we have already defined a few variables we need to create our transaction:\n",
    "# The input utxo txid and index: `txid_to_spend` and `index_to_spend`\n",
    "# The input private key and public key: `sender_privkey` and `sender_pubkey`\n",
    "\n",
    "# Set our outputs\n",
    "# Create a new pubkey to use as a change output.\n",
    "change_privkey = bytes.fromhex(\"2222222222222222222222222222222222222222222222222222222222222222\")\n",
    "change_pubkey = privkey_to_pubkey(change_privkey)\n",
    "\n",
    "# Determine our output scriptPubkeys and amounts (in satoshis)\n",
    "output1_value_sat = int(float(\"4.8\") * 100000000)\n",
    "output1_spk = receiver_spk\n",
    "output2_value_sat = int(float(\"0.2\") * 100000000)\n",
    "output2_spk = bytes.fromhex(\"76a914\") + hash160(change_pubkey) + bytes.fromhex(\"88ac\")"
   ]
  },
  {
   "cell_type": "markdown",
   "metadata": {},
   "source": [
    "Now that we've defined everything we need, we can fill in the fields we need to create our unsigned transaction. What makes a transaction 'unsigned' is that the input's scriptSig, the field where the signature goes, is empty. This first step is necessary as the signature will cover the whole transaction (using SIGHASH_ALL). In a later chapter we will cover other sighash types and how they are signed."
   ]
  },
  {
   "cell_type": "code",
   "execution_count": 68,
   "metadata": {},
   "outputs": [
    {
     "name": "stdout",
     "output_type": "stream",
     "text": [
      "unsigned_tx:  0200000001f0b04deadbf8ce7faa92c0f4858c96731afde2b68318f60399165365510e7c580000000000ffffffff0200389c1c000000001976a9143bc28d6d92d9073fb5e3adf481795eaf446bceed88ac002d3101000000001976a914531260aa2a199e228c537dfa42c82bea2c7c1f4d88ac00000000\n"
     ]
    }
   ],
   "source": [
    "# VERSION\n",
    "# version '2' indicates that we may use relative timelocks (BIP68)\n",
    "version = bytes.fromhex(\"0200 0000\")\n",
    "\n",
    "# INPUTS\n",
    "# We have just 1 input\n",
    "input_count = bytes.fromhex(\"01\")\n",
    "\n",
    "# Convert txid and index to bytes (little endian)\n",
    "txid = (bytes.fromhex(txid_to_spend))[::-1]\n",
    "index = index_to_spend.to_bytes(4, byteorder=\"little\", signed=False)\n",
    "\n",
    "# For the unsigned transaction we use an empty scriptSig\n",
    "scriptsig = bytes.fromhex(\"\")\n",
    "\n",
    "# use 0xffffffff unless you are using OP_CHECKSEQUENCEVERIFY, locktime, or rbf\n",
    "sequence = bytes.fromhex(\"ffff ffff\")\n",
    "\n",
    "inputs = (\n",
    "    txid\n",
    "    + index\n",
    "    + varint_len(scriptsig)\n",
    "    + scriptsig\n",
    "    + sequence\n",
    ")\n",
    "\n",
    "# OUTPUTS\n",
    "# 0x02 for out two outputs\n",
    "output_count = bytes.fromhex(\"02\")\n",
    "\n",
    "# OUTPUT 1 \n",
    "output1_value = output1_value_sat.to_bytes(8, byteorder=\"little\", signed=True)\n",
    "# 'output1_spk' already defined at the start of the script\n",
    "\n",
    "# OUTPUT 2\n",
    "output2_value = output2_value_sat.to_bytes(8, byteorder=\"little\", signed=True)\n",
    "# 'output2_spk' already defined at the start of the script\n",
    "\n",
    "outputs = (\n",
    "    output1_value\n",
    "    + varint_len(output1_spk)\n",
    "    + output1_spk\n",
    "    + output2_value\n",
    "    + varint_len(output2_spk)\n",
    "    + output2_spk\n",
    ")\n",
    "\n",
    "# LOCKTIME\n",
    "locktime = bytes.fromhex(\"0000 0000\")\n",
    "\n",
    "unsigned_tx = (\n",
    "    version\n",
    "    + input_count\n",
    "    + inputs\n",
    "    + output_count\n",
    "    + outputs\n",
    "    + locktime\n",
    ")\n",
    "print(\"unsigned_tx: \", unsigned_tx.hex())"
   ]
  },
  {
   "cell_type": "markdown",
   "metadata": {},
   "source": [
    "Before we can sign this transaction there is one final step we need to do. We need to replace the empty scriptSig with the scriptPubkey of the input we are signing over. If we had multiple inputs, we would need to do this step for each input. We will cover signing transactions with multiple inputs in a later chapter.\n",
    "\n",
    "Since we are spending from a p2pkh utxo, we will create the scriptPubkey in the same way as we did for the outputs, but using the sender's pubkey:"
   ]
  },
  {
   "cell_type": "code",
   "execution_count": 69,
   "metadata": {},
   "outputs": [],
   "source": [
    "pk_hash = hash160(sender_pubkey)\n",
    "input_spk = bytes.fromhex(\"76a914\" + pk_hash.hex() + \"88ac\")\n",
    "\n",
    "inputs = (\n",
    "    txid\n",
    "    + index\n",
    "    + varint_len(input_spk)\n",
    "    + input_spk # replace the empty scriptSig with the input scriptPubkey\n",
    "    + sequence\n",
    ")\n",
    "\n",
    "# tx hex to sign\n",
    "tx_to_sign = (\n",
    "    version\n",
    "    + input_count\n",
    "    + inputs\n",
    "    + output_count\n",
    "    + outputs\n",
    "    + locktime\n",
    ")"
   ]
  },
  {
   "cell_type": "markdown",
   "metadata": {},
   "source": [
    "Now we are ready to hash this transaction and produce an ecdsa signature on it. \n",
    "\n",
    "Before hashing the transaction with hash256, we append the sighash flag. In this example we'll use the most commonly used SIGHASH_ALL flag, meaning the signature guarantees the input will only be used in a transaction with these exact inputs and outputs.\n",
    "\n",
    "Note that when we append the sighash flag to the transaction, we use 4 bytes, however when we append the sighash flag to the end of the signature itself we only use 1 byte."
   ]
  },
  {
   "cell_type": "code",
   "execution_count": 70,
   "metadata": {
    "code_folding": []
   },
   "outputs": [
    {
     "name": "stdout",
     "output_type": "stream",
     "text": [
      "signed transaction:  0200000001f0b04deadbf8ce7faa92c0f4858c96731afde2b68318f60399165365510e7c58000000006b483045022100f3681b62b7c70f8dbb4018f16cd7303c447c869e09175970ab900424ed9d45ad02202687075e02fced7751b4155376eee309ef498f6ece4fe0b982943aa3613da7990121034f355bdcb7cc0af728ef3cceb9615d90684bb5b2ca5f859ab0f0b704075871aaffffffff0200389c1c000000001976a9143bc28d6d92d9073fb5e3adf481795eaf446bceed88ac002d3101000000001976a914531260aa2a199e228c537dfa42c82bea2c7c1f4d88ac00000000\n"
     ]
    }
   ],
   "source": [
    "# Append the sighash flag to the transaction\n",
    "sighash_flag = bytes.fromhex(\"0100 0000\") # SIGHASH_ALL\n",
    "sighash_preimage = tx_to_sign + sighash_flag\n",
    "\n",
    "# Create sigHash to be signed\n",
    "sighash = hash256(sighash_preimage)\n",
    "\n",
    "# Sign the sigHash with the input private key\n",
    "signing_key = ecdsa.SigningKey.from_string(sender_privkey, curve=ecdsa.SECP256k1) \n",
    "signature = signing_key.sign_digest(sighash, sigencode=ecdsa.util.sigencode_der_canonize)\n",
    "\n",
    "# save the original for debugging purposes\n",
    "original_signature = signature \n",
    "\n",
    "# Append SIGHASH_ALL to the signature\n",
    "signature = signature + bytes.fromhex(\"01\")\n",
    "\n",
    "# Signature\n",
    "sig_script_signed = (\n",
    "    pushbytes(signature)\n",
    "    + pushbytes(sender_pubkey)\n",
    ")\n",
    "\n",
    "# tx_in with our new sigScript containing the signature we just created\n",
    "inputs_signed = (\n",
    "    txid\n",
    "    + index\n",
    "    + varint_len(sig_script_signed)\n",
    "    + sig_script_signed\n",
    "    + sequence\n",
    ")\n",
    "\n",
    "# the final signed transaction\n",
    "signed_tx = (\n",
    "    version\n",
    "    + input_count\n",
    "    + inputs_signed\n",
    "    + output_count\n",
    "    + outputs\n",
    "    + locktime\n",
    ")\n",
    "\n",
    "print(\"signed transaction: \",signed_tx.hex())"
   ]
  },
  {
   "cell_type": "markdown",
   "metadata": {},
   "source": [
    "### Broadcast the transaction (on regtest mode)\n",
    "If we get back a txid (32 byte hash), then it means the tx was successfully broadcast! If we just want to see if the transaction would have been accepted, but without broadcasting it, we can use the `testmempoolaccept` command (commented out)."
   ]
  },
  {
   "cell_type": "code",
   "execution_count": 71,
   "metadata": {},
   "outputs": [
    {
     "data": {
      "text/plain": [
       "'cf5df26c2a4f99d9b1beea06bd119c73d9f724afcd33269b56a93665637ed60f'"
      ]
     },
     "execution_count": 71,
     "metadata": {},
     "output_type": "execute_result"
    }
   ],
   "source": [
    "# Do not brodcast, try changing it first \n",
    "# print(signed_tx.hex())\n",
    "node.sendrawtransaction(signed_tx.hex())\n",
    "# node.testmempoolaccept(signed_tx.hex())\n"
   ]
  },
  {
   "cell_type": "markdown",
   "metadata": {},
   "source": [
    "## Intercept transaction and change its txid\n",
    "\n",
    "Assume we received a raw transaction via p2p from our victim. Decode, extract the signature and change it."
   ]
  },
  {
   "cell_type": "code",
   "execution_count": 72,
   "metadata": {},
   "outputs": [
    {
     "name": "stdout",
     "output_type": "stream",
     "text": [
      "{\n",
      "  \"txid\": \"cf5df26c2a4f99d9b1beea06bd119c73d9f724afcd33269b56a93665637ed60f\",\n",
      "  \"hash\": \"cf5df26c2a4f99d9b1beea06bd119c73d9f724afcd33269b56a93665637ed60f\",\n",
      "  \"version\": 2,\n",
      "  \"size\": 226,\n",
      "  \"vsize\": 226,\n",
      "  \"weight\": 904,\n",
      "  \"locktime\": 0,\n",
      "  \"vin\": [\n",
      "    {\n",
      "      \"txid\": \"587c0e516553169903f61883b6e2fd1a73968c85f4c092aa7fcef8dbea4db0f0\",\n",
      "      \"vout\": 0,\n",
      "      \"scriptSig\": {\n",
      "        \"asm\": \"3045022100f3681b62b7c70f8dbb4018f16cd7303c447c869e09175970ab900424ed9d45ad02202687075e02fced7751b4155376eee309ef498f6ece4fe0b982943aa3613da799[ALL] 034f355bdcb7cc0af728ef3cceb9615d90684bb5b2ca5f859ab0f0b704075871aa\",\n",
      "        \"hex\": \"483045022100f3681b62b7c70f8dbb4018f16cd7303c447c869e09175970ab900424ed9d45ad02202687075e02fced7751b4155376eee309ef498f6ece4fe0b982943aa3613da7990121034f355bdcb7cc0af728ef3cceb9615d90684bb5b2ca5f859ab0f0b704075871aa\"\n",
      "      },\n",
      "      \"sequence\": 4294967295\n",
      "    }\n",
      "  ],\n",
      "  \"vout\": [\n",
      "    {\n",
      "      \"value\": \"4.80000000\",\n",
      "      \"n\": 0,\n",
      "      \"scriptPubKey\": {\n",
      "        \"asm\": \"OP_DUP OP_HASH160 3bc28d6d92d9073fb5e3adf481795eaf446bceed OP_EQUALVERIFY OP_CHECKSIG\",\n",
      "        \"desc\": \"addr(mkxwE7XtVYJKepoD2hbHnDjftuMQ1k6deE)#xlnzfr97\",\n",
      "        \"hex\": \"76a9143bc28d6d92d9073fb5e3adf481795eaf446bceed88ac\",\n",
      "        \"address\": \"mkxwE7XtVYJKepoD2hbHnDjftuMQ1k6deE\",\n",
      "        \"type\": \"pubkeyhash\"\n",
      "      }\n",
      "    },\n",
      "    {\n",
      "      \"value\": \"0.20000000\",\n",
      "      \"n\": 1,\n",
      "      \"scriptPubKey\": {\n",
      "        \"asm\": \"OP_DUP OP_HASH160 531260aa2a199e228c537dfa42c82bea2c7c1f4d OP_EQUALVERIFY OP_CHECKSIG\",\n",
      "        \"desc\": \"addr(mo6CPsdW8EsnWdmSSCrQ6225VVDtpMBTug)#cvzzm9uf\",\n",
      "        \"hex\": \"76a914531260aa2a199e228c537dfa42c82bea2c7c1f4d88ac\",\n",
      "        \"address\": \"mo6CPsdW8EsnWdmSSCrQ6225VVDtpMBTug\",\n",
      "        \"type\": \"pubkeyhash\"\n",
      "      }\n",
      "    }\n",
      "  ]\n",
      "}\n"
     ]
    }
   ],
   "source": [
    "intercepted_tx = signed_tx.hex()\n",
    "decoded = node.decoderawtransaction(intercepted_tx)\n",
    "\n",
    "# save original txid to compare\n",
    "original_txid = decoded[\"txid\"]\n",
    "\n",
    "print(json.dumps(decoded, indent=2, default=str))"
   ]
  },
  {
   "cell_type": "code",
   "execution_count": 73,
   "metadata": {},
   "outputs": [
    {
     "name": "stdout",
     "output_type": "stream",
     "text": [
      "True\n"
     ]
    }
   ],
   "source": [
    "# Extract signature and public key from scriptSig\n",
    "# it is in Distinguished Encoding Rules (DER) format\n",
    "scriptSig = decoded[\"vin\"][0][\"scriptSig\"][\"hex\"]\n",
    "\n",
    "signature_bytes = bytes.fromhex(scriptSig[2:len(scriptSig)-70])\n",
    "pubkey_bytes = bytes.fromhex(scriptSig[-66:])\n",
    "\n",
    "# debug: compare the extracted and original signature\n",
    "print(signature_bytes.hex() == original_signature.hex())"
   ]
  },
  {
   "cell_type": "code",
   "execution_count": 74,
   "metadata": {},
   "outputs": [
    {
     "name": "stdout",
     "output_type": "stream",
     "text": [
      "n: 115792089237316195423570985008687907852837564279074904382605163141518161494337\n",
      "r: 110095963309050859291785464195504355421895909865294989127860934047254557050285\n",
      "s: 17426463446683291852530025012393132561645162545255579049092087106880835266457\n"
     ]
    }
   ],
   "source": [
    "# Decode the DER-encoded signature to obtain 'r' and 's' values\n",
    "n = ecdsa.SECP256k1.order\n",
    "r, s = ecdsa.util.sigdecode_der(signature_bytes, n)\n",
    "\n",
    "print(\"n:\", n)\n",
    "print(\"r:\", r)\n",
    "print(\"s:\", s)"
   ]
  },
  {
   "cell_type": "code",
   "execution_count": 75,
   "metadata": {},
   "outputs": [
    {
     "name": "stdout",
     "output_type": "stream",
     "text": [
      "Old signature: 3045022100f3681b62b7c70f8dbb4018f16cd7303c447c869e09175970ab900424ed9d45ad02202687075e02fced7751b4155376eee309ef498f6ece4fe0b982943aa3613da799\n",
      "New signature: 3046022100f3681b62b7c70f8dbb4018f16cd7303c447c869e09175970ab900424ed9d45ad022100d978f8a1fd031288ae4beaac89111cf4cb654d77e0f8bf823d3e23e96ef899a8\n"
     ]
    }
   ],
   "source": [
    "# flip the s parameter, calculate new signature, replace it in the decoded transaction\n",
    "# sigencode_der will allow large s, but sigencode_der_canonize will flip it back\n",
    "\n",
    "new_s = n - s\n",
    "new_signature = ecdsa.util.sigencode_der(r, new_s, n)\n",
    "\n",
    "# in actual wallets the canonize version is used to produce a proper (smaller s) signature\n",
    "# new_signature = ecdsa.util.sigencode_der_canonize(r, new_s, signing_key.curve.order)\n",
    "\n",
    "print(\"Old signature:\", original_signature.hex())\n",
    "print(\"New signature:\", new_signature.hex())"
   ]
  },
  {
   "cell_type": "code",
   "execution_count": 76,
   "metadata": {},
   "outputs": [
    {
     "name": "stdout",
     "output_type": "stream",
     "text": [
      "{\n",
      "  \"txid\": \"e6df2fce8285f72e836dd0474f18fb1a5439573988f486e54dcf019024f9e9a6\",\n",
      "  \"hash\": \"e6df2fce8285f72e836dd0474f18fb1a5439573988f486e54dcf019024f9e9a6\",\n",
      "  \"version\": 2,\n",
      "  \"size\": 227,\n",
      "  \"vsize\": 227,\n",
      "  \"weight\": 908,\n",
      "  \"locktime\": 0,\n",
      "  \"vin\": [\n",
      "    {\n",
      "      \"txid\": \"587c0e516553169903f61883b6e2fd1a73968c85f4c092aa7fcef8dbea4db0f0\",\n",
      "      \"vout\": 0,\n",
      "      \"scriptSig\": {\n",
      "        \"asm\": \"3046022100f3681b62b7c70f8dbb4018f16cd7303c447c869e09175970ab900424ed9d45ad022100d978f8a1fd031288ae4beaac89111cf4cb654d77e0f8bf823d3e23e96ef899a8[ALL] 034f355bdcb7cc0af728ef3cceb9615d90684bb5b2ca5f859ab0f0b704075871aa\",\n",
      "        \"hex\": \"493046022100f3681b62b7c70f8dbb4018f16cd7303c447c869e09175970ab900424ed9d45ad022100d978f8a1fd031288ae4beaac89111cf4cb654d77e0f8bf823d3e23e96ef899a80121034f355bdcb7cc0af728ef3cceb9615d90684bb5b2ca5f859ab0f0b704075871aa\"\n",
      "      },\n",
      "      \"sequence\": 4294967295\n",
      "    }\n",
      "  ],\n",
      "  \"vout\": [\n",
      "    {\n",
      "      \"value\": \"4.80000000\",\n",
      "      \"n\": 0,\n",
      "      \"scriptPubKey\": {\n",
      "        \"asm\": \"OP_DUP OP_HASH160 3bc28d6d92d9073fb5e3adf481795eaf446bceed OP_EQUALVERIFY OP_CHECKSIG\",\n",
      "        \"desc\": \"addr(mkxwE7XtVYJKepoD2hbHnDjftuMQ1k6deE)#xlnzfr97\",\n",
      "        \"hex\": \"76a9143bc28d6d92d9073fb5e3adf481795eaf446bceed88ac\",\n",
      "        \"address\": \"mkxwE7XtVYJKepoD2hbHnDjftuMQ1k6deE\",\n",
      "        \"type\": \"pubkeyhash\"\n",
      "      }\n",
      "    },\n",
      "    {\n",
      "      \"value\": \"0.20000000\",\n",
      "      \"n\": 1,\n",
      "      \"scriptPubKey\": {\n",
      "        \"asm\": \"OP_DUP OP_HASH160 531260aa2a199e228c537dfa42c82bea2c7c1f4d OP_EQUALVERIFY OP_CHECKSIG\",\n",
      "        \"desc\": \"addr(mo6CPsdW8EsnWdmSSCrQ6225VVDtpMBTug)#cvzzm9uf\",\n",
      "        \"hex\": \"76a914531260aa2a199e228c537dfa42c82bea2c7c1f4d88ac\",\n",
      "        \"address\": \"mo6CPsdW8EsnWdmSSCrQ6225VVDtpMBTug\",\n",
      "        \"type\": \"pubkeyhash\"\n",
      "      }\n",
      "    }\n",
      "  ]\n",
      "}\n"
     ]
    }
   ],
   "source": [
    "# Append SIGHASH_ALL to the signature\n",
    "new_signature = new_signature + bytes.fromhex(\"01\")\n",
    "\n",
    "# Signature\n",
    "new_sig_script_signed = (\n",
    "    pushbytes(new_signature)\n",
    "    + pushbytes(pubkey_bytes)\n",
    ")\n",
    "\n",
    "# tx_in with our new sigScript containing the signature we just created\n",
    "inputs_signed = (\n",
    "    txid\n",
    "    + index\n",
    "    + varint_len(new_sig_script_signed)\n",
    "    + new_sig_script_signed\n",
    "    + sequence\n",
    ")\n",
    "\n",
    "# the final signed transaction\n",
    "new_tx = (\n",
    "    version\n",
    "    + input_count\n",
    "    + inputs_signed\n",
    "    + output_count\n",
    "    + outputs\n",
    "    + locktime\n",
    ")\n",
    "\n",
    "new_tx_decoded = node.decoderawtransaction(new_tx.hex())\n",
    "print(json.dumps(new_tx_decoded, indent=2, default=str))"
   ]
  },
  {
   "cell_type": "markdown",
   "metadata": {},
   "source": [
    "## Try broadcasting the amended transaction\n",
    "\n",
    "This will work if the BIP 146 check is disabled in reference client:\n",
    "https://github.com/bitcoin/bitcoin/blob/35fe0393f216aa6020fc929272118eade5628636/src/script/interpreter.cpp#L185\n",
    "\n",
    "I commented out return `set_error(serror, SCRIPT_ERR_SIG_HIGH_S);` line in `IsLowDERSignature`\n",
    "\n",
    "Otherwise, this should raise JSONRPCException:\n",
    "non-mandatory-script-verify-flag (Non-canonical signature: S value is unnecessarily high) (-26)"
   ]
  },
  {
   "cell_type": "code",
   "execution_count": 77,
   "metadata": {},
   "outputs": [
    {
     "name": "stdout",
     "output_type": "stream",
     "text": [
      "Old txid: cf5df26c2a4f99d9b1beea06bd119c73d9f724afcd33269b56a93665637ed60f\n"
     ]
    },
    {
     "ename": "JSONRPCException",
     "evalue": "txn-mempool-conflict (-26)",
     "output_type": "error",
     "traceback": [
      "\u001b[0;31m---------------------------------------------------------------------------\u001b[0m",
      "\u001b[0;31mJSONRPCException\u001b[0m                          Traceback (most recent call last)",
      "Cell \u001b[0;32mIn[77], line 2\u001b[0m\n\u001b[1;32m      1\u001b[0m \u001b[38;5;28mprint\u001b[39m(\u001b[38;5;124m\"\u001b[39m\u001b[38;5;124mOld txid: \u001b[39m\u001b[38;5;124m\"\u001b[39m \u001b[38;5;241m+\u001b[39m original_txid)\n\u001b[0;32m----> 2\u001b[0m \u001b[43mnode\u001b[49m\u001b[38;5;241;43m.\u001b[39;49m\u001b[43msendrawtransaction\u001b[49m\u001b[43m(\u001b[49m\u001b[43mnew_tx\u001b[49m\u001b[38;5;241;43m.\u001b[39;49m\u001b[43mhex\u001b[49m\u001b[43m(\u001b[49m\u001b[43m)\u001b[49m\u001b[43m)\u001b[49m\n",
      "File \u001b[0;32m~/bitcoin/test/functional/test_framework/coverage.py:50\u001b[0m, in \u001b[0;36mAuthServiceProxyWrapper.__call__\u001b[0;34m(self, *args, **kwargs)\u001b[0m\n\u001b[1;32m     44\u001b[0m \u001b[38;5;28;01mdef\u001b[39;00m \u001b[38;5;21m__call__\u001b[39m(\u001b[38;5;28mself\u001b[39m, \u001b[38;5;241m*\u001b[39margs, \u001b[38;5;241m*\u001b[39m\u001b[38;5;241m*\u001b[39mkwargs):\n\u001b[1;32m     45\u001b[0m \u001b[38;5;250m    \u001b[39m\u001b[38;5;124;03m\"\"\"\u001b[39;00m\n\u001b[1;32m     46\u001b[0m \u001b[38;5;124;03m    Delegates to AuthServiceProxy, then writes the particular RPC method\u001b[39;00m\n\u001b[1;32m     47\u001b[0m \u001b[38;5;124;03m    called to a file.\u001b[39;00m\n\u001b[1;32m     48\u001b[0m \n\u001b[1;32m     49\u001b[0m \u001b[38;5;124;03m    \"\"\"\u001b[39;00m\n\u001b[0;32m---> 50\u001b[0m     return_val \u001b[38;5;241m=\u001b[39m \u001b[38;5;28;43mself\u001b[39;49m\u001b[38;5;241;43m.\u001b[39;49m\u001b[43mauth_service_proxy_instance\u001b[49m\u001b[38;5;241;43m.\u001b[39;49m\u001b[38;5;21;43m__call__\u001b[39;49m\u001b[43m(\u001b[49m\u001b[38;5;241;43m*\u001b[39;49m\u001b[43margs\u001b[49m\u001b[43m,\u001b[49m\u001b[43m \u001b[49m\u001b[38;5;241;43m*\u001b[39;49m\u001b[38;5;241;43m*\u001b[39;49m\u001b[43mkwargs\u001b[49m\u001b[43m)\u001b[49m\n\u001b[1;32m     51\u001b[0m     \u001b[38;5;28mself\u001b[39m\u001b[38;5;241m.\u001b[39m_log_call()\n\u001b[1;32m     52\u001b[0m     \u001b[38;5;28;01mreturn\u001b[39;00m return_val\n",
      "File \u001b[0;32m~/bitcoin/test/functional/test_framework/authproxy.py:129\u001b[0m, in \u001b[0;36mAuthServiceProxy.__call__\u001b[0;34m(self, *args, **argsn)\u001b[0m\n\u001b[1;32m    127\u001b[0m response, status \u001b[38;5;241m=\u001b[39m \u001b[38;5;28mself\u001b[39m\u001b[38;5;241m.\u001b[39m_request(\u001b[38;5;124m'\u001b[39m\u001b[38;5;124mPOST\u001b[39m\u001b[38;5;124m'\u001b[39m, \u001b[38;5;28mself\u001b[39m\u001b[38;5;241m.\u001b[39m__url\u001b[38;5;241m.\u001b[39mpath, postdata\u001b[38;5;241m.\u001b[39mencode(\u001b[38;5;124m'\u001b[39m\u001b[38;5;124mutf-8\u001b[39m\u001b[38;5;124m'\u001b[39m))\n\u001b[1;32m    128\u001b[0m \u001b[38;5;28;01mif\u001b[39;00m response[\u001b[38;5;124m'\u001b[39m\u001b[38;5;124merror\u001b[39m\u001b[38;5;124m'\u001b[39m] \u001b[38;5;129;01mis\u001b[39;00m \u001b[38;5;129;01mnot\u001b[39;00m \u001b[38;5;28;01mNone\u001b[39;00m:\n\u001b[0;32m--> 129\u001b[0m     \u001b[38;5;28;01mraise\u001b[39;00m JSONRPCException(response[\u001b[38;5;124m'\u001b[39m\u001b[38;5;124merror\u001b[39m\u001b[38;5;124m'\u001b[39m], status)\n\u001b[1;32m    130\u001b[0m \u001b[38;5;28;01melif\u001b[39;00m \u001b[38;5;124m'\u001b[39m\u001b[38;5;124mresult\u001b[39m\u001b[38;5;124m'\u001b[39m \u001b[38;5;129;01mnot\u001b[39;00m \u001b[38;5;129;01min\u001b[39;00m response:\n\u001b[1;32m    131\u001b[0m     \u001b[38;5;28;01mraise\u001b[39;00m JSONRPCException({\n\u001b[1;32m    132\u001b[0m         \u001b[38;5;124m'\u001b[39m\u001b[38;5;124mcode\u001b[39m\u001b[38;5;124m'\u001b[39m: \u001b[38;5;241m-\u001b[39m\u001b[38;5;241m343\u001b[39m, \u001b[38;5;124m'\u001b[39m\u001b[38;5;124mmessage\u001b[39m\u001b[38;5;124m'\u001b[39m: \u001b[38;5;124m'\u001b[39m\u001b[38;5;124mmissing JSON-RPC result\u001b[39m\u001b[38;5;124m'\u001b[39m}, status)\n",
      "\u001b[0;31mJSONRPCException\u001b[0m: txn-mempool-conflict (-26)"
     ]
    }
   ],
   "source": [
    "print(\"Old txid: \" + original_txid)\n",
    "node.sendrawtransaction(new_tx.hex())"
   ]
  },
  {
   "cell_type": "code",
   "execution_count": 57,
   "metadata": {},
   "outputs": [
    {
     "name": "stdout",
     "output_type": "stream",
     "text": [
      "2024-06-20T11:47:31.668000Z TestFramework (INFO): Stopping nodes\n",
      "2024-06-20T11:47:31.773000Z TestFramework (INFO): Cleaning up /tmp/bitcoin_func_test_a8e6k8l_ on exit\n",
      "2024-06-20T11:47:31.775000Z TestFramework (INFO): Tests successful\n"
     ]
    }
   ],
   "source": [
    "# stop bitcoin core\n",
    "test.shutdown()"
   ]
  },
  {
   "cell_type": "code",
   "execution_count": null,
   "metadata": {},
   "outputs": [],
   "source": []
  }
 ],
 "metadata": {
  "kernelspec": {
   "display_name": "Python 3 (ipykernel)",
   "language": "python",
   "name": "python3"
  },
  "language_info": {
   "codemirror_mode": {
    "name": "ipython",
    "version": 3
   },
   "file_extension": ".py",
   "mimetype": "text/x-python",
   "name": "python",
   "nbconvert_exporter": "python",
   "pygments_lexer": "ipython3",
   "version": "3.10.12"
  }
 },
 "nbformat": 4,
 "nbformat_minor": 2
}
