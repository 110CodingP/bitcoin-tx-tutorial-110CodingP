{
 "cells": [
  {
   "cell_type": "markdown",
   "id": "639efd2b",
   "metadata": {},
   "source": [
    "# Bitcoin Script Basics\n",
    "\n",
    "## Reading \n",
    "- https://en.bitcoin.it/wiki/Script\n",
    "\n",
    "### Serialization\n",
    "Scripts consist of OP codes, and each OP code has a corresponding byte value. A full list of OP_CODES can be found [here](https://en.bitcoin.it/wiki/Script).\n",
    "\n",
    "### A note on OP_PUSHBYTES\n",
    "Bitcoin script has a list of defined OP_CODES, but it can also work with data of arbitrary lengths, e.g. hashes or signatures. In order to differentiate bytes that are part of data of arbitrary length vs bytes that represent OP_CODES, whenever data with an arbitrary length is pushed onto the stack, it is preceeded by a byte (or bytes) indicating the length of the data. The bytes indicating the length of data to be pushed are called `OP_PUSHBYTESX` (also known as `OP_PUSHDATAX`). Note that \n",
    "\n",
    "Note when notating scripts, data that is to be pushed onto the stack are generally enclosed in angled brackets e.g. `<pubkey hash>`, and the data push commands are ommitted.\n",
    "\n",
    "For example, the following script (taken from a p2pkh scriptPubkey) can be written in either of the following ways.\n",
    "- omitting OP_PUSHBYTES: `OP_DUP` `OP_HASH160` `<pubkey_hash>` `OP_EQUALVERIFY` `OP_CHECKSIG`\n",
    "- including OP_PUSHBYTES:`OP_DUP` `OP_HASH160` `OP_PUSHBYTES20` `[20_byte_hash]` `OP_EQUALVERIFY` `OP_CHECKSIG`\n",
    "- hex: `76` `a9` `14` `fc7250a211deddc70ee5a2738de5f07817351cef`  `88` `ac`\n",
    "\n",
    "## Script debugger\n",
    "\n",
    "This website (https://wschae.github.io/build/editor.html) is a great for visualizing how bitcoin scripts get evaluated. For each transaction type we go through underneath, you can copy and paste the final script (scriptSig + scriptPubkey) into the debugger and click through step by step to see how it gets evaluated. You'll need copy and paste the hex string into the 'Assembly' tab for the online editor to parse it correctly. \n",
    "\n",
    "*Note that there are some [known issues](https://github.com/siminchen/bitcoinIDE/issues) with the debugger, particularly around the hash op codes.*\n",
    "\n",
    "Here is an example using the script debugger to go through the example P2PKH script in the section below.\n",
    "![script_debugger](script_debugger.gif \"script_debugger\")\n"
   ]
  },
  {
   "cell_type": "markdown",
   "id": "305ddf9d",
   "metadata": {},
   "source": [
    "## P2PKH\n",
    "\n",
    "scriptPubkey: `OP_DUP` `OP_HASH160` `<pubkey hash>` `OP_EQUALVERIFY` `OP_CHECKSIG`\n",
    "\n",
    "\n",
    "scriptSig: `<pubkey>` `<signature>`\n",
    "\n",
    "### Example serialized script\n",
    "\n",
    "scriptPubkey hex: `76` `a9` `14` `fc7250a211deddc70ee5a2738de5f07817351cef` `88` `ac`\n",
    "\n",
    "scriptSig hex: `48` `3045022100fda17d7d49101c7eaa8c2ed98a434d1098584fd780577e989b52fbf077a6fd8b0220050305f4cf3013026004062e75074969963b9b6fecae905980e5616b876bde9d01` `21` `034f355bdcb7cc0af728ef3cceb9615d90684bb5b2ca5f859ab0f0b704075871aa`\n",
    "\n",
    "final scriptSig followed by the scriptPubkey:\n",
    "`483045022100fda17d7d49101c7eaa8c2ed98a434d1098584fd780577e989b52fbf077a6fd8b0220050305f4cf3013026004062e75074969963b9b6fecae905980e5616b876bde9d0121034f355bdcb7cc0af728ef3cceb9615d90684bb5b2ca5f859ab0f0b704075871aa76a914fc7250a211deddc70ee5a2738de5f07817351cef88ac`"
   ]
  },
  {
   "cell_type": "markdown",
   "id": "012e1105",
   "metadata": {},
   "source": [
    "## P2SH\n",
    "\n",
    "scriptPubkey: `OP_HASH160` `<redeem_script_hash>` `OP_EQUAL`\n",
    "\n",
    "scriptSig: `<redeem_script>`"
   ]
  },
  {
   "cell_type": "markdown",
   "id": "52c3cadb",
   "metadata": {},
   "source": [
    "## P2SH redeemScript (n of m multisig)\n",
    "\n",
    "The first number 'n' (in this example `OP_2`) represents the number of signatures needed, the second number 'm' (here `OP_3`) represents the total number of pubkeys. The order of the signatures in the scriptSig must be in the same order as the pubkeys in the redeemScript. \n",
    "\n",
    "Note that it is possible to create a transaction with the scriptPubkey encoding the multisig logic directly, referred to as 'bare multisig'. However, a transaction 'non-standard'.\n",
    "\n",
    "Here is an example of a 2 of 3 multisig.\n",
    "\n",
    "scriptPubkey: `OP_HASH160` `<redeem_script_hash>` `OP_EQUAL`\n",
    "\n",
    "redeemScript : `OP_2` `<pubkey1>` `<pubkey2>` `<pubkey3>` `OP_3` `OP_CHECKMULTISIG>`\n",
    "\n",
    "scriptSig: `OP_0` `<signature1>` `<signature2>`\n",
    "\n",
    "### Example serialized script\n",
    "\n",
    "TODO"
   ]
  },
  {
   "cell_type": "markdown",
   "id": "b43db848",
   "metadata": {},
   "source": [
    "### Quiz\n",
    "Given these locking scripts, which scriptSigs would allow the output to be spendable?\n",
    "Q1. `02 OP_ADD 03 OP_EQUALVERIFY`\n",
    "- A. `01`\n",
    "- B. `02`\n",
    "- C. `03`\n",
    "- D. `04`\n",
    "\n",
    "A: `01`\n",
    "\n",
    "Q2. `OP_DUP OP_ADD 08 OP_EQUALVERIFY`\n",
    "- A. `03`\n",
    "- B. `04` \n",
    "- C. `05`\n",
    "- D. `06`\n",
    "\n",
    "B: `04`"
   ]
  },
  {
   "cell_type": "code",
   "execution_count": null,
   "id": "ad09c2f1",
   "metadata": {},
   "outputs": [],
   "source": []
  }
 ],
 "metadata": {
  "kernelspec": {
   "display_name": "Python 3",
   "language": "python",
   "name": "python3"
  },
  "language_info": {
   "codemirror_mode": {
    "name": "ipython",
    "version": 3
   },
   "file_extension": ".py",
   "mimetype": "text/x-python",
   "name": "python",
   "nbconvert_exporter": "python",
   "pygments_lexer": "ipython3",
   "version": "3.7.0"
  }
 },
 "nbformat": 4,
 "nbformat_minor": 5
}
