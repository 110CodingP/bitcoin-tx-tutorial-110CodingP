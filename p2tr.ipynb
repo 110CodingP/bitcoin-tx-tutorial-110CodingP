{
 "cells": [
  {
   "cell_type": "code",
   "execution_count": 1,
   "metadata": {
    "code_folding": [
     0
    ]
   },
   "outputs": [],
   "source": [
    "# Import libraries\n",
    "from functions import *\n",
    "\n",
    "import json\n",
    "import os\n",
    "import subprocess\n",
    "import time"
   ]
  },
  {
   "cell_type": "markdown",
   "metadata": {},
   "source": [
    "# Creating a P2TR transaction"
   ]
  },
  {
   "cell_type": "markdown",
   "metadata": {},
   "source": [
    "In this section we'll create a P2TR transaction from scratch in python. This section assumes familiarity with legacy or segwit transactions.\n",
    "\n",
    "## Reading\n",
    "- https://github.com/bitcoin/bips/blob/master/bip-0341.mediawiki\n",
    "- https://bitcoinops.org/en/preparing-for-taproot/#from-p2wpkh-to-single-sig-p2tr\n",
    "- https://bitcoin.stackexchange.com/questions/111098/what-is-the-script-assembly-and-execution-in-p2tr-spend-spend-from-taproot"
   ]
  },
  {
   "cell_type": "markdown",
   "metadata": {},
   "source": [
    "### Create a P2TR UTXO\n",
    "\n",
    "In order to create a transaction spending from a P2TR UTXO, we'll first need to create the UTXO that is locked with a p2tr script. To do that, we'll define a private key, use it to generate a pubkey, then convert the pubkey to a p2tr address."
   ]
  },
  {
   "cell_type": "markdown",
   "metadata": {},
   "source": [
    "#### Create a P2TR pubkey\n",
    "So far the public keys we have used in bitcoin were 33 bytes long. The last 32 bytes corresponded to the x coordinate of the point on the curve, and the first byte corresponded to whether the y coordinate was odd or even.\n",
    "\n",
    "Now with taproot public keys, the keys are just the x coordinate, which makes it only 32 bytes long. To generate a public key from a private key we'll use code from the bip 340 python reference code imported as `tr`. A consequence of this is that every public key has two corresponding private keys."
   ]
  },
  {
   "cell_type": "code",
   "execution_count": 2,
   "metadata": {},
   "outputs": [
    {
     "name": "stdout",
     "output_type": "stream",
     "text": [
      "Pubkey:  4f355bdcb7cc0af728ef3cceb9615d90684bb5b2ca5f859ab0f0b704075871aa\n",
      "Note the length of pubkeys used for taproot:  32\n"
     ]
    }
   ],
   "source": [
    "privkey = bytes.fromhex(\"1111111111111111111111111111111111111111111111111111111111111111\")\n",
    "pubkey = tr.pubkey_gen(privkey)\n",
    "print(\"Pubkey: \", pubkey.hex())\n",
    "print(\"Note the length of pubkeys used for taproot: \", len(pubkey))"
   ]
  },
  {
   "cell_type": "code",
   "execution_count": 27,
   "metadata": {},
   "outputs": [
    {
     "name": "stdout",
     "output_type": "stream",
     "text": [
      "33 byte legacy/segwitv0 pubkey:  034f355bdcb7cc0af728ef3cceb9615d90684bb5b2ca5f859ab0f0b704075871aa\n"
     ]
    }
   ],
   "source": [
    "# For comparison, here is the function we used to generate pubkeys for legacy and segwit v0 transactions\n",
    "pubkey_legacy = privkey_to_pubkey(privkey)\n",
    "print(\"33 byte legacy/segwitv0 pubkey: \", pubkey_legacy.hex())\n",
    "\n",
    "# Taproot pubkeys are the same as legacy pubkeys but without the first byte.\n",
    "assert(pubkey == pubkey_legacy[1:])"
   ]
  },
  {
   "cell_type": "markdown",
   "metadata": {},
   "source": [
    "#### Tweaking the internal pubkey and secret key\n",
    "\n",
    "TODO: is this step necessary to create a valid transaction?"
   ]
  },
  {
   "cell_type": "markdown",
   "metadata": {},
   "source": [
    "#### Convert the pubkey to a scriptPubkey and P2TR address"
   ]
  },
  {
   "cell_type": "code",
   "execution_count": 3,
   "metadata": {},
   "outputs": [
    {
     "name": "stdout",
     "output_type": "stream",
     "text": [
      "P2TR bech32m address:  bcrt1pfu64hh9hes90w2808n8tjc2ajp5yhddjef0ctx4s7zmsgp6cwx4q344m0j\n"
     ]
    }
   ],
   "source": [
    "spk = bytes.fromhex(\"5120\") + pubkey\n",
    "p2tr_addr = spk_to_bech32(spk, 'regtest')\n",
    "print(\"P2TR bech32m address: \", p2tr_addr)"
   ]
  },
  {
   "cell_type": "code",
   "execution_count": 4,
   "metadata": {},
   "outputs": [
    {
     "name": "stdout",
     "output_type": "stream",
     "text": [
      "UTXO: 2dc6cf82a4eed6b37af95a98355e8d0a3364952fdd4be08d570e7ae0986f4cdd, 1\n"
     ]
    }
   ],
   "source": [
    "# Setup bitcoind and fund the address\n",
    "setup_regtest_bitcoind()\n",
    "txid_to_spend, index_to_spend = fund_address(p2tr_addr, 2.01)\n",
    "print(f\"UTXO: {txid_to_spend}, {index_to_spend}\")"
   ]
  },
  {
   "cell_type": "markdown",
   "metadata": {},
   "source": [
    "## Spending a P2TR UTXO\n",
    "\n",
    "Now that we have some funds locked up in a p2wpkh utxo, we can create a transaction spending from it. Let's say we want to send 1.5 btc to the address `bcrt1ql3e9pgs3mmwuwrh95fecme0s0qtn2880hlwwpw`. We can decode the scriptPubkey from the address. For more on this step, refer to the previous chapters."
   ]
  },
  {
   "cell_type": "code",
   "execution_count": 5,
   "metadata": {},
   "outputs": [],
   "source": [
    "receiver_address = 'bcrt1ql3e9pgs3mmwuwrh95fecme0s0qtn2880hlwwpw'\n",
    "\n",
    "hrp = 'bcrt'\n",
    "witver, witprog = bech32.decode(hrp, receiver_address)\n",
    "pubkey_hash = bytearray(witprog)\n",
    "receiver_spk = bytes.fromhex(\"0014\") + pubkey_hash"
   ]
  },
  {
   "cell_type": "markdown",
   "metadata": {},
   "source": [
    "### Create an unsigned P2TR transaction\n",
    "\n",
    "The first thing we'll do is define the inputs and outputs of our transaction."
   ]
  },
  {
   "cell_type": "code",
   "execution_count": 6,
   "metadata": {},
   "outputs": [],
   "source": [
    "# Set our outputs\n",
    "# Create a new pubkey to use as a change output.\n",
    "change_privkey = bytes.fromhex(\"2222222222222222222222222222222222222222222222222222222222222222\")\n",
    "change_pubkey = privkey_to_pubkey(change_privkey)\n",
    "\n",
    "# Determine our output scriptPubkeys and amounts (in satoshis)\n",
    "output1_value_sat = int(float(\"1.5\") * 100000000)\n",
    "output1_spk = receiver_spk\n",
    "output2_value_sat = int(float(\"0.5\") * 100000000)\n",
    "output2_spk = bytes.fromhex(\"0014\") + hash160(change_pubkey)"
   ]
  },
  {
   "cell_type": "markdown",
   "metadata": {},
   "source": [
    "Now that we've defined everything we need, we can fill in the fields we need to create our unsigned transaction. What makes a transaction 'unsigned' is that the witness field is empty. This first step is necessary as the signature will cover the whole transaction (using SIGHASH_ALL). In a later chapter we will cover other sighash types and how they are signed."
   ]
  },
  {
   "cell_type": "code",
   "execution_count": 7,
   "metadata": {},
   "outputs": [
    {
     "name": "stdout",
     "output_type": "stream",
     "text": [
      "unsigned_tx:  0200000001dd4c6f98e07a0e578de04bdd2f9564330a8d5e35985af97ab3d6eea482cfc62d0100000000ffffffff0280d1f00800000000160014fc7250a211deddc70ee5a2738de5f07817351cef80f0fa0200000000160014531260aa2a199e228c537dfa42c82bea2c7c1f4d00000000\n"
     ]
    }
   ],
   "source": [
    "# VERSION\n",
    "# version '2' indicates that we may use relative timelocks (BIP68)\n",
    "version = bytes.fromhex(\"0200 0000\")\n",
    "\n",
    "# MARKER (new to segwit)\n",
    "marker = bytes.fromhex(\"00\")\n",
    "\n",
    "# FLAG (new to segwit)\n",
    "flag = bytes.fromhex(\"01\")\n",
    "\n",
    "# INPUTS\n",
    "# We have just 1 input\n",
    "input_count = bytes.fromhex(\"01\")\n",
    "\n",
    "# Convert txid and index to bytes (little endian)\n",
    "txid = (bytes.fromhex(txid_to_spend))[::-1]\n",
    "index = index_to_spend.to_bytes(4, byteorder=\"little\", signed=False)\n",
    "\n",
    "# For the unsigned transaction we use an empty scriptSig\n",
    "scriptsig = bytes.fromhex(\"\")\n",
    "\n",
    "# use 0xffffffff unless you are using OP_CHECKSEQUENCEVERIFY, locktime, or rbf\n",
    "sequence = bytes.fromhex(\"ffff ffff\")\n",
    "\n",
    "inputs = (\n",
    "    txid\n",
    "    + index\n",
    "    + varint_len(scriptsig)\n",
    "    + scriptsig\n",
    "    + sequence\n",
    ")\n",
    "\n",
    "# OUTPUTS\n",
    "# 0x02 for out two outputs\n",
    "output_count = bytes.fromhex(\"02\")\n",
    "\n",
    "# OUTPUT 1 \n",
    "output1_value = output1_value_sat.to_bytes(8, byteorder=\"little\", signed=True)\n",
    "# 'output1_spk' already defined at the start of the script\n",
    "\n",
    "# OUTPUT 2\n",
    "output2_value = output2_value_sat.to_bytes(8, byteorder=\"little\", signed=True)\n",
    "# 'output2_spk' already defined at the start of the script\n",
    "\n",
    "outputs = (\n",
    "    output1_value\n",
    "    + varint_len(output1_spk)\n",
    "    + output1_spk\n",
    "    + output2_value\n",
    "    + varint_len(output2_spk)\n",
    "    + output2_spk\n",
    ")\n",
    "\n",
    "# LOCKTIME\n",
    "locktime = bytes.fromhex(\"0000 0000\")\n",
    "\n",
    "unsigned_tx = (\n",
    "    version\n",
    "    + input_count\n",
    "    + inputs\n",
    "    + output_count\n",
    "    + outputs\n",
    "    + locktime\n",
    ")\n",
    "print(\"unsigned_tx: \", unsigned_tx.hex())"
   ]
  },
  {
   "cell_type": "markdown",
   "metadata": {},
   "source": [
    "We can decode this raw transaction to inspect it and see that it has all the information we need apart from the segwit fields (version, marker, and witness)."
   ]
  },
  {
   "cell_type": "code",
   "execution_count": 8,
   "metadata": {},
   "outputs": [
    {
     "name": "stdout",
     "output_type": "stream",
     "text": [
      "{\n",
      "  \"txid\": \"d9a705c4f27cf37fb74b599eebee51e71e8bf0b5d251f32b030186d3c8f16cc1\",\n",
      "  \"hash\": \"d9a705c4f27cf37fb74b599eebee51e71e8bf0b5d251f32b030186d3c8f16cc1\",\n",
      "  \"version\": 2,\n",
      "  \"size\": 113,\n",
      "  \"vsize\": 113,\n",
      "  \"weight\": 452,\n",
      "  \"locktime\": 0,\n",
      "  \"vin\": [\n",
      "    {\n",
      "      \"txid\": \"2dc6cf82a4eed6b37af95a98355e8d0a3364952fdd4be08d570e7ae0986f4cdd\",\n",
      "      \"vout\": 1,\n",
      "      \"scriptSig\": {\n",
      "        \"asm\": \"\",\n",
      "        \"hex\": \"\"\n",
      "      },\n",
      "      \"sequence\": 4294967295\n",
      "    }\n",
      "  ],\n",
      "  \"vout\": [\n",
      "    {\n",
      "      \"value\": 1.50000000,\n",
      "      \"n\": 0,\n",
      "      \"scriptPubKey\": {\n",
      "        \"asm\": \"0 fc7250a211deddc70ee5a2738de5f07817351cef\",\n",
      "        \"desc\": \"addr(bcrt1ql3e9pgs3mmwuwrh95fecme0s0qtn2880hlwwpw)#luvpmd0q\",\n",
      "        \"hex\": \"0014fc7250a211deddc70ee5a2738de5f07817351cef\",\n",
      "        \"address\": \"bcrt1ql3e9pgs3mmwuwrh95fecme0s0qtn2880hlwwpw\",\n",
      "        \"type\": \"witness_v0_keyhash\"\n",
      "      }\n",
      "    },\n",
      "    {\n",
      "      \"value\": 0.50000000,\n",
      "      \"n\": 1,\n",
      "      \"scriptPubKey\": {\n",
      "        \"asm\": \"0 531260aa2a199e228c537dfa42c82bea2c7c1f4d\",\n",
      "        \"desc\": \"addr(bcrt1q2vfxp232rx0z9rzn0hay9jptagk8c86ddphpjv)#f3wckqp8\",\n",
      "        \"hex\": \"0014531260aa2a199e228c537dfa42c82bea2c7c1f4d\",\n",
      "        \"address\": \"bcrt1q2vfxp232rx0z9rzn0hay9jptagk8c86ddphpjv\",\n",
      "        \"type\": \"witness_v0_keyhash\"\n",
      "      }\n",
      "    }\n",
      "  ]\n",
      "}\n"
     ]
    }
   ],
   "source": [
    "decoded = subprocess.getoutput(\"bitcoin-cli -regtest decoderawtransaction \" + unsigned_tx.hex())\n",
    "print(decoded)"
   ]
  },
  {
   "cell_type": "markdown",
   "metadata": {},
   "source": [
    "#### Create the sighash\n",
    "TODO - create the sighash using https://github.com/bitcoin/bips/blob/master/bip-0341.mediawiki#common-signature-message\n",
    "\n",
    "**For now we will use bitcoind to sign our transaction. If you are reading this and are familiar with this step, please let me know!**"
   ]
  },
  {
   "cell_type": "code",
   "execution_count": 9,
   "metadata": {},
   "outputs": [],
   "source": [
    "# pk_hash = hash160(sender_pubkey)\n",
    "# scriptcode = bytes.fromhex(\"76a914\" + pk_hash.hex() + \"88ac\")\n",
    "\n",
    "# input_amount_sat = int(2.001 * 100_000_000)\n",
    "# value = input_amount_sat.to_bytes(8, byteorder=\"little\", signed=False)\n",
    "\n",
    "# hashPrevOuts = hash256(txid + index)\n",
    "# hashSequence = hash256(sequence)\n",
    "# hashOutputs = hash256(outputs)\n",
    "# sighash_type = bytes.fromhex(\"0100 0000\") # SIGHASH_ALL\n",
    "\n",
    "# tx_digest_preimage = (\n",
    "#     version\n",
    "#     + hashPrevOuts\n",
    "#     + hashSequence\n",
    "#     + txid\n",
    "#     + index\n",
    "#     + varint_len(scriptcode)\n",
    "#     + scriptcode\n",
    "#     + value\n",
    "#     + sequence\n",
    "#     + hashOutputs\n",
    "#     + locktime\n",
    "#     + sighash_type\n",
    "# )\n",
    "# print(tx_digest_preimage.hex())"
   ]
  },
  {
   "cell_type": "markdown",
   "metadata": {},
   "source": [
    "TODO - sign with schnorr signature"
   ]
  },
  {
   "cell_type": "code",
   "execution_count": 10,
   "metadata": {
    "code_folding": []
   },
   "outputs": [],
   "source": [
    "# # Create sigHash to be signed\n",
    "# sighash = hash256(tx_digest_preimage)\n",
    "\n",
    "# # Sign the sigHash with the input private key\n",
    "# signing_key = ecdsa.SigningKey.from_string(sender_privkey, curve=ecdsa.SECP256k1) \n",
    "# signature = signing_key.sign_digest(sighash, sigencode=ecdsa.util.sigencode_der_canonize)\n",
    "\n",
    "# # Append SIGHASH_ALL to the signature\n",
    "# signature = signature + bytes.fromhex(\"01\")\n",
    "\n",
    "# # Witness field\n",
    "# witness = (\n",
    "#     # indicate the number of stack items for the txin\n",
    "#     # 2 items for signature and pubkey\n",
    "#     bytes.fromhex(\"02\")\n",
    "#     + pushbytes(signature)\n",
    "#     + pushbytes(sender_pubkey)\n",
    "# )\n",
    "\n",
    "# # tx_in with our new sigScript containing the signature we just created\n",
    "# inputs_signed = (\n",
    "#     txid\n",
    "#     + index\n",
    "#     + varint_len(scriptsig)\n",
    "#     + scriptsig\n",
    "#     + sequence\n",
    "# )\n",
    "\n",
    "# # the final signed transaction\n",
    "# signed_tx = (\n",
    "#     version\n",
    "#     + marker\n",
    "#     + flag\n",
    "#     + input_count\n",
    "#     + inputs_signed\n",
    "#     + output_count\n",
    "#     + outputs\n",
    "#     + witness\n",
    "#     + locktime\n",
    "# )\n",
    "\n",
    "# print(\"signed transaction: \",signed_tx.hex())"
   ]
  },
  {
   "cell_type": "code",
   "execution_count": 11,
   "metadata": {},
   "outputs": [
    {
     "name": "stdout",
     "output_type": "stream",
     "text": [
      "{\n",
      "  \"hex\": \"02000000000101dd4c6f98e07a0e578de04bdd2f9564330a8d5e35985af97ab3d6eea482cfc62d0100000000ffffffff0280d1f00800000000160014fc7250a211deddc70ee5a2738de5f07817351cef80f0fa0200000000160014531260aa2a199e228c537dfa42c82bea2c7c1f4d0140812ce5285b684bff0556f87d3f19fc54c4792e9b81249a8d1fa99ff584b064056eab7213a7e6caf62fe298a7c2b7e0c58bb06b073d7f5f05993df321a31868a800000000\",\n",
      "  \"complete\": true\n",
      "}\n"
     ]
    }
   ],
   "source": [
    "# Convert the private key to wallet import format for bitcoind\n",
    "wif = privkey_to_wif(privkey, compressed_pubkey = True, testnet = True)\n",
    "\n",
    "out = subprocess.getoutput(\"bitcoin-cli -regtest signrawtransactionwithkey \\\"\" + unsigned_tx.hex() + \"\\\" '[\\\"\" + wif + \"\\\"]'\")\n",
    "print(out)"
   ]
  },
  {
   "cell_type": "code",
   "execution_count": 12,
   "metadata": {},
   "outputs": [],
   "source": [
    "# save the hex string as signed_tx\n",
    "j = json.loads(out)\n",
    "signed_tx = j['hex']"
   ]
  },
  {
   "cell_type": "markdown",
   "metadata": {},
   "source": [
    "### Broadcast the transaction (on regtest mode)\n",
    "If we get back a txid (32 byte hash), then it means the tx was successfully broadcast! If we just want to see if the transaction would have been accepted, but without broadcasting it, we can use the `testmempoolaccept` command (commented out)."
   ]
  },
  {
   "cell_type": "code",
   "execution_count": 13,
   "metadata": {},
   "outputs": [
    {
     "name": "stdout",
     "output_type": "stream",
     "text": [
      "[\n",
      "  {\n",
      "    \"txid\": \"d9a705c4f27cf37fb74b599eebee51e71e8bf0b5d251f32b030186d3c8f16cc1\",\n",
      "    \"wtxid\": \"156e6d9a252857634e3756039fbb37e117d92e36396bade90b9fe8ac1ac7b2b8\",\n",
      "    \"allowed\": true,\n",
      "    \"vsize\": 130,\n",
      "    \"fees\": {\n",
      "      \"base\": 0.01000000\n",
      "    }\n",
      "  }\n",
      "]\n"
     ]
    }
   ],
   "source": [
    "new_tx_txid = subprocess.getoutput(\"bitcoin-cli -regtest testmempoolaccept \" + \"'[\\\"\" +  signed_tx + \"\\\"]'\")\n",
    "print(new_tx_txid)"
   ]
  },
  {
   "cell_type": "markdown",
   "metadata": {},
   "source": [
    "We can decode the serialized transaction using ```decoderawtransaction```. Notice that our output addresses match the change and receiver addresses from earlier."
   ]
  },
  {
   "cell_type": "code",
   "execution_count": 14,
   "metadata": {},
   "outputs": [],
   "source": [
    "# print(\"receiver's p2pkh address: \" + receiver_address)\n",
    "# change_p2pkh_addr = pk_to_p2pkh(change_pubkey, network = \"regtest\")\n",
    "# print(\"sender's change p2pkh address: \" + change_p2pkh_addr)"
   ]
  },
  {
   "cell_type": "code",
   "execution_count": 15,
   "metadata": {},
   "outputs": [
    {
     "name": "stdout",
     "output_type": "stream",
     "text": [
      "{\n",
      "  \"txid\": \"d9a705c4f27cf37fb74b599eebee51e71e8bf0b5d251f32b030186d3c8f16cc1\",\n",
      "  \"hash\": \"156e6d9a252857634e3756039fbb37e117d92e36396bade90b9fe8ac1ac7b2b8\",\n",
      "  \"version\": 2,\n",
      "  \"size\": 181,\n",
      "  \"vsize\": 130,\n",
      "  \"weight\": 520,\n",
      "  \"locktime\": 0,\n",
      "  \"vin\": [\n",
      "    {\n",
      "      \"txid\": \"2dc6cf82a4eed6b37af95a98355e8d0a3364952fdd4be08d570e7ae0986f4cdd\",\n",
      "      \"vout\": 1,\n",
      "      \"scriptSig\": {\n",
      "        \"asm\": \"\",\n",
      "        \"hex\": \"\"\n",
      "      },\n",
      "      \"txinwitness\": [\n",
      "        \"812ce5285b684bff0556f87d3f19fc54c4792e9b81249a8d1fa99ff584b064056eab7213a7e6caf62fe298a7c2b7e0c58bb06b073d7f5f05993df321a31868a8\"\n",
      "      ],\n",
      "      \"sequence\": 4294967295\n",
      "    }\n",
      "  ],\n",
      "  \"vout\": [\n",
      "    {\n",
      "      \"value\": 1.50000000,\n",
      "      \"n\": 0,\n",
      "      \"scriptPubKey\": {\n",
      "        \"asm\": \"0 fc7250a211deddc70ee5a2738de5f07817351cef\",\n",
      "        \"desc\": \"addr(bcrt1ql3e9pgs3mmwuwrh95fecme0s0qtn2880hlwwpw)#luvpmd0q\",\n",
      "        \"hex\": \"0014fc7250a211deddc70ee5a2738de5f07817351cef\",\n",
      "        \"address\": \"bcrt1ql3e9pgs3mmwuwrh95fecme0s0qtn2880hlwwpw\",\n",
      "        \"type\": \"witness_v0_keyhash\"\n",
      "      }\n",
      "    },\n",
      "    {\n",
      "      \"value\": 0.50000000,\n",
      "      \"n\": 1,\n",
      "      \"scriptPubKey\": {\n",
      "        \"asm\": \"0 531260aa2a199e228c537dfa42c82bea2c7c1f4d\",\n",
      "        \"desc\": \"addr(bcrt1q2vfxp232rx0z9rzn0hay9jptagk8c86ddphpjv)#f3wckqp8\",\n",
      "        \"hex\": \"0014531260aa2a199e228c537dfa42c82bea2c7c1f4d\",\n",
      "        \"address\": \"bcrt1q2vfxp232rx0z9rzn0hay9jptagk8c86ddphpjv\",\n",
      "        \"type\": \"witness_v0_keyhash\"\n",
      "      }\n",
      "    }\n",
      "  ]\n",
      "}\n"
     ]
    }
   ],
   "source": [
    "decoded = subprocess.getoutput(\"bitcoin-cli -regtest decoderawtransaction \" + signed_tx)\n",
    "print(decoded)"
   ]
  },
  {
   "cell_type": "code",
   "execution_count": 16,
   "metadata": {},
   "outputs": [
    {
     "data": {
      "text/plain": [
       "'Bitcoin Core stopping'"
      ]
     },
     "execution_count": 16,
     "metadata": {},
     "output_type": "execute_result"
    }
   ],
   "source": [
    "# stop bitcoin core\n",
    "subprocess.getoutput(\"bitcoin-cli -regtest stop\")"
   ]
  },
  {
   "cell_type": "markdown",
   "metadata": {},
   "source": [
    "## Quiz\n"
   ]
  },
  {
   "cell_type": "markdown",
   "metadata": {},
   "source": [
    " ## Answers\n",
    "    "
   ]
  },
  {
   "cell_type": "markdown",
   "metadata": {},
   "source": [
    "## Exercise\n"
   ]
  }
 ],
 "metadata": {
  "kernelspec": {
   "display_name": "Python 3",
   "language": "python",
   "name": "python3"
  },
  "language_info": {
   "codemirror_mode": {
    "name": "ipython",
    "version": 3
   },
   "file_extension": ".py",
   "mimetype": "text/x-python",
   "name": "python",
   "nbconvert_exporter": "python",
   "pygments_lexer": "ipython3",
   "version": "3.7.0"
  }
 },
 "nbformat": 4,
 "nbformat_minor": 2
}
