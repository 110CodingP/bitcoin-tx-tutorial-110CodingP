{
 "cells": [
  {
   "cell_type": "code",
   "execution_count": 1,
   "metadata": {
    "code_folding": [
     0
    ]
   },
   "outputs": [],
   "source": [
    "# Import libraries\n",
    "from functions import *\n",
    "\n",
    "import json\n",
    "import os\n",
    "import subprocess\n",
    "import time"
   ]
  },
  {
   "cell_type": "markdown",
   "metadata": {},
   "source": [
    "# Creating a P2TR transaction [wip]"
   ]
  },
  {
   "cell_type": "markdown",
   "metadata": {},
   "source": [
    "## TODO - Tweak key and include a script path\n",
    "\n",
    "In this section we'll create a P2TR transaction from scratch in python. This section assumes familiarity with legacy or segwit transactions.\n",
    "\n",
    "## Reading\n",
    "- https://github.com/bitcoin/bips/blob/master/bip-0341.mediawiki\n",
    "- https://bitcoinops.org/en/preparing-for-taproot/#from-p2wpkh-to-single-sig-p2tr\n",
    "- https://bitcoin.stackexchange.com/questions/111098/what-is-the-script-assembly-and-execution-in-p2tr-spend-spend-from-taproot"
   ]
  },
  {
   "cell_type": "markdown",
   "metadata": {},
   "source": [
    "### Create a P2TR UTXO\n",
    "\n",
    "In order to create a transaction spending from a P2TR UTXO, we'll first need to create the UTXO that is locked with a p2tr script. To do that, we'll define a private key, use it to generate a pubkey, then convert the pubkey to a p2tr address."
   ]
  },
  {
   "cell_type": "markdown",
   "metadata": {},
   "source": [
    "#### Create a P2TR pubkey\n",
    "So far the public keys we have used in bitcoin were 33 bytes long. The last 32 bytes corresponded to the x coordinate of the point on the curve, and the first byte corresponded to whether the y coordinate was odd or even.\n",
    "\n",
    "Now with taproot public keys, the keys are just the x coordinate, which makes it only 32 bytes long. To generate a public key from a private key we'll use code from the bip 340 python reference code imported as `tr`. A consequence of this is that every public key has two corresponding private keys."
   ]
  },
  {
   "cell_type": "code",
   "execution_count": 2,
   "metadata": {},
   "outputs": [
    {
     "name": "stdout",
     "output_type": "stream",
     "text": [
      "Pubkey:  4f355bdcb7cc0af728ef3cceb9615d90684bb5b2ca5f859ab0f0b704075871aa\n",
      "Note the length of pubkeys used for taproot:  32\n"
     ]
    }
   ],
   "source": [
    "privkey = bytes.fromhex(\"1111111111111111111111111111111111111111111111111111111111111111\")\n",
    "pubkey = tr.pubkey_gen(privkey)\n",
    "print(\"Pubkey: \", pubkey.hex())\n",
    "print(\"Note the length of pubkeys used for taproot: \", len(pubkey))"
   ]
  },
  {
   "cell_type": "code",
   "execution_count": 3,
   "metadata": {},
   "outputs": [
    {
     "name": "stdout",
     "output_type": "stream",
     "text": [
      "33 byte legacy/segwitv0 pubkey:  034f355bdcb7cc0af728ef3cceb9615d90684bb5b2ca5f859ab0f0b704075871aa\n"
     ]
    }
   ],
   "source": [
    "# For comparison, here is the function we used to generate pubkeys for legacy and segwit v0 transactions\n",
    "pubkey_legacy = privkey_to_pubkey(privkey)\n",
    "print(\"33 byte legacy/segwitv0 pubkey: \", pubkey_legacy.hex())\n",
    "\n",
    "# Taproot pubkeys are the same as legacy pubkeys but without the first byte.\n",
    "assert(pubkey == pubkey_legacy[1:])"
   ]
  },
  {
   "cell_type": "markdown",
   "metadata": {},
   "source": [
    "#### Tweaking the internal pubkey and secret key\n",
    "\n",
    "TODO"
   ]
  },
  {
   "cell_type": "markdown",
   "metadata": {},
   "source": [
    "#### Convert the pubkey to a scriptPubkey and P2TR address\n",
    "\n",
    "P2TR Addresses are segwit V1 transactions. The first byte of the script pubkey is `OP_1` (`0x51`), followed by `0x20` to push the 32-byte public key. Note that unlike previous transaction types, we are including the direct public key rather than the hash of it, or a script.\n",
    "\n",
    "The function `spk_to_bech32` converts the script pubkey to a bech32m address. The function differentiates between segwit v0 and v1 scriptPubkeys by inspecting the first byte."
   ]
  },
  {
   "cell_type": "code",
   "execution_count": 4,
   "metadata": {},
   "outputs": [
    {
     "name": "stdout",
     "output_type": "stream",
     "text": [
      "P2TR bech32m address:  bcrt1pfu64hh9hes90w2808n8tjc2ajp5yhddjef0ctx4s7zmsgp6cwx4q344m0j\n"
     ]
    }
   ],
   "source": [
    "spk = bytes.fromhex(\"5120\") + pubkey\n",
    "p2tr_addr = spk_to_bech32(spk, 'regtest')\n",
    "print(\"P2TR bech32m address: \", p2tr_addr)"
   ]
  },
  {
   "cell_type": "code",
   "execution_count": 5,
   "metadata": {},
   "outputs": [
    {
     "name": "stdout",
     "output_type": "stream",
     "text": [
      "UTXO: 0cdbad7f63792c1273bd68b59567664c20620f1ede54c73e68159df41433a252, 0\n"
     ]
    }
   ],
   "source": [
    "# Setup bitcoind and fund the address\n",
    "setup_regtest_bitcoind()\n",
    "txid_to_spend, index_to_spend = fund_address(p2tr_addr, 2.001)\n",
    "print(f\"UTXO: {txid_to_spend}, {index_to_spend}\")"
   ]
  },
  {
   "cell_type": "markdown",
   "metadata": {},
   "source": [
    "Here we can take a look at the transaction funding our P2TR \"`witness_v1_taproot`\" output. "
   ]
  },
  {
   "cell_type": "code",
   "execution_count": 6,
   "metadata": {},
   "outputs": [
    {
     "name": "stdout",
     "output_type": "stream",
     "text": [
      "original_tx:  02000000000101570983a9d34704d0e540e63ea41c4f5a3a2ca8f371b6c84c2adfd3f4c433e5290000000000fdffffff02a048ed0b000000002251204f355bdcb7cc0af728ef3cceb9615d90684bb5b2ca5f859ab0f0b704075871aa7c9c181e01000000225120b7346b53b2107561d64b3b97713abba4faea4f6d05e54ecab3652838dab1b15e0247304402205a12eb720ccfd9d051e9df89baa2a7a5d99fd607fa6303958bab50a141d5631e022066194a1652b04d16ef3010031d4e0727e2405be53ab7a18058323e0a681b8d82012102692907c36c7e0ea90b505ea922a62450a5f95f6307049d9356b263f7e12d976665000000\n",
      "{\n",
      "  \"txid\": \"0cdbad7f63792c1273bd68b59567664c20620f1ede54c73e68159df41433a252\",\n",
      "  \"hash\": \"f9127f143845b38eddc0f6cfe1f7c9bb5eeaa742a0f3f228014241a97263c9a4\",\n",
      "  \"version\": 2,\n",
      "  \"size\": 246,\n",
      "  \"vsize\": 165,\n",
      "  \"weight\": 657,\n",
      "  \"locktime\": 101,\n",
      "  \"vin\": [\n",
      "    {\n",
      "      \"txid\": \"29e533c4f4d3df2a4cc8b671f3a82c3a5a4f1ca43ee640e5d00447d3a9830957\",\n",
      "      \"vout\": 0,\n",
      "      \"scriptSig\": {\n",
      "        \"asm\": \"\",\n",
      "        \"hex\": \"\"\n",
      "      },\n",
      "      \"txinwitness\": [\n",
      "        \"304402205a12eb720ccfd9d051e9df89baa2a7a5d99fd607fa6303958bab50a141d5631e022066194a1652b04d16ef3010031d4e0727e2405be53ab7a18058323e0a681b8d8201\",\n",
      "        \"02692907c36c7e0ea90b505ea922a62450a5f95f6307049d9356b263f7e12d9766\"\n",
      "      ],\n",
      "      \"sequence\": 4294967293\n",
      "    }\n",
      "  ],\n",
      "  \"vout\": [\n",
      "    {\n",
      "      \"value\": 2.00100000,\n",
      "      \"n\": 0,\n",
      "      \"scriptPubKey\": {\n",
      "        \"asm\": \"1 4f355bdcb7cc0af728ef3cceb9615d90684bb5b2ca5f859ab0f0b704075871aa\",\n",
      "        \"desc\": \"rawtr(4f355bdcb7cc0af728ef3cceb9615d90684bb5b2ca5f859ab0f0b704075871aa)#6t3l7fj2\",\n",
      "        \"hex\": \"51204f355bdcb7cc0af728ef3cceb9615d90684bb5b2ca5f859ab0f0b704075871aa\",\n",
      "        \"address\": \"bcrt1pfu64hh9hes90w2808n8tjc2ajp5yhddjef0ctx4s7zmsgp6cwx4q344m0j\",\n",
      "        \"type\": \"witness_v1_taproot\"\n",
      "      }\n",
      "    },\n",
      "    {\n",
      "      \"value\": 47.99896700,\n",
      "      \"n\": 1,\n",
      "      \"scriptPubKey\": {\n",
      "        \"asm\": \"1 b7346b53b2107561d64b3b97713abba4faea4f6d05e54ecab3652838dab1b15e\",\n",
      "        \"desc\": \"rawtr(b7346b53b2107561d64b3b97713abba4faea4f6d05e54ecab3652838dab1b15e)#kq4j6lca\",\n",
      "        \"hex\": \"5120b7346b53b2107561d64b3b97713abba4faea4f6d05e54ecab3652838dab1b15e\",\n",
      "        \"address\": \"bcrt1pku6xk5ajzp6kr4jt8wthzw4m5naw5nmdqhj5aj4nv55r3k43k90qgm9vj5\",\n",
      "        \"type\": \"witness_v1_taproot\"\n",
      "      }\n",
      "    }\n",
      "  ]\n",
      "}\n"
     ]
    }
   ],
   "source": [
    "original_tx = subprocess.getoutput(\"bitcoin-cli -regtest getrawtransaction \" + txid_to_spend)\n",
    "print(\"original_tx: \", original_tx)\n",
    "decoded = subprocess.getoutput(\"bitcoin-cli -regtest decoderawtransaction \" + original_tx)\n",
    "print(decoded)"
   ]
  },
  {
   "cell_type": "markdown",
   "metadata": {},
   "source": [
    "## Spending a P2TR UTXO using the 'key path'\n",
    "\n",
    "Now that we have some funds locked up in a P2TR utxo, we can create a transaction spending from it. Let's say we want to send 1.5 btc to the address `bcrt1ql3e9pgs3mmwuwrh95fecme0s0qtn2880hlwwpw`. We can decode the scriptPubkey from the address. For more on this step, refer to the previous chapters."
   ]
  },
  {
   "cell_type": "code",
   "execution_count": 7,
   "metadata": {},
   "outputs": [],
   "source": [
    "receiver_address = 'bcrt1ql3e9pgs3mmwuwrh95fecme0s0qtn2880hlwwpw'\n",
    "\n",
    "hrp = 'bcrt'\n",
    "witver, witprog = bech32.decode(hrp, receiver_address)\n",
    "pubkey_hash = bytearray(witprog)\n",
    "receiver_spk = bytes.fromhex(\"0014\") + pubkey_hash"
   ]
  },
  {
   "cell_type": "markdown",
   "metadata": {},
   "source": [
    "### Create an unsigned P2TR transaction\n",
    "\n",
    "The first thing we'll do is define the inputs and outputs of our transaction."
   ]
  },
  {
   "cell_type": "code",
   "execution_count": 8,
   "metadata": {},
   "outputs": [],
   "source": [
    "# Set our outputs\n",
    "# Create a new pubkey to use as a change output.\n",
    "change_privkey = bytes.fromhex(\"2222222222222222222222222222222222222222222222222222222222222222\")\n",
    "change_pubkey = privkey_to_pubkey(change_privkey)\n",
    "\n",
    "# Determine our output scriptPubkeys and amounts (in satoshis)\n",
    "output1_value_sat = int(float(\"1.5\") * 100000000)\n",
    "output1_spk = receiver_spk\n",
    "output2_value_sat = int(float(\"0.5\") * 100000000)\n",
    "output2_spk = bytes.fromhex(\"0014\") + hash160(change_pubkey)"
   ]
  },
  {
   "cell_type": "markdown",
   "metadata": {},
   "source": [
    "Now that we've defined everything we need, we can fill in the fields we need to create our unsigned transaction. What makes a transaction 'unsigned' is that the witness field is empty."
   ]
  },
  {
   "cell_type": "code",
   "execution_count": 9,
   "metadata": {},
   "outputs": [
    {
     "name": "stdout",
     "output_type": "stream",
     "text": [
      "unsigned_tx:  020000000152a23314f49d15683ec754de1e0f62204c666795b568bd73122c79637faddb0c0000000000ffffffff0280d1f00800000000160014fc7250a211deddc70ee5a2738de5f07817351cef80f0fa0200000000160014531260aa2a199e228c537dfa42c82bea2c7c1f4d00000000\n"
     ]
    }
   ],
   "source": [
    "# VERSION\n",
    "# version '2' indicates that we may use relative timelocks (BIP68)\n",
    "version = bytes.fromhex(\"0200 0000\")\n",
    "\n",
    "# MARKER (new to segwit)\n",
    "marker = bytes.fromhex(\"00\")\n",
    "\n",
    "# FLAG (new to segwit)\n",
    "flag = bytes.fromhex(\"01\")\n",
    "\n",
    "# INPUTS\n",
    "# We have just 1 input\n",
    "input_count = bytes.fromhex(\"01\")\n",
    "\n",
    "# Convert txid and index to bytes (little endian)\n",
    "txid = (bytes.fromhex(txid_to_spend))[::-1]\n",
    "index = index_to_spend.to_bytes(4, byteorder=\"little\", signed=False)\n",
    "\n",
    "# For the unsigned transaction we use an empty scriptSig\n",
    "scriptsig = bytes.fromhex(\"\")\n",
    "\n",
    "# use 0xffffffff unless you are using OP_CHECKSEQUENCEVERIFY, locktime, or rbf\n",
    "sequence = bytes.fromhex(\"ffff ffff\")\n",
    "\n",
    "inputs = (\n",
    "    txid\n",
    "    + index\n",
    "    + varint_len(scriptsig)\n",
    "    + scriptsig\n",
    "    + sequence\n",
    ")\n",
    "\n",
    "# OUTPUTS\n",
    "# 0x02 for out two outputs\n",
    "output_count = bytes.fromhex(\"02\")\n",
    "\n",
    "# OUTPUT 1 \n",
    "output1_value = output1_value_sat.to_bytes(8, byteorder=\"little\", signed=True)\n",
    "# 'output1_spk' already defined at the start of the script\n",
    "\n",
    "# OUTPUT 2\n",
    "output2_value = output2_value_sat.to_bytes(8, byteorder=\"little\", signed=True)\n",
    "# 'output2_spk' already defined at the start of the script\n",
    "\n",
    "outputs = (\n",
    "    output1_value\n",
    "    + varint_len(output1_spk)\n",
    "    + output1_spk\n",
    "    + output2_value\n",
    "    + varint_len(output2_spk)\n",
    "    + output2_spk\n",
    ")\n",
    "\n",
    "# LOCKTIME\n",
    "locktime = bytes.fromhex(\"0000 0000\")\n",
    "\n",
    "unsigned_tx = (\n",
    "    version\n",
    "    + input_count\n",
    "    + inputs\n",
    "    + output_count\n",
    "    + outputs\n",
    "    + locktime\n",
    ")\n",
    "print(\"unsigned_tx: \", unsigned_tx.hex())"
   ]
  },
  {
   "cell_type": "markdown",
   "metadata": {},
   "source": [
    "We can decode this raw transaction to inspect it and see that it has all the information we need apart from the segwit fields (version, marker, and witness)."
   ]
  },
  {
   "cell_type": "code",
   "execution_count": 10,
   "metadata": {},
   "outputs": [
    {
     "name": "stdout",
     "output_type": "stream",
     "text": [
      "{\n",
      "  \"txid\": \"cda3848b630f2f7e03e72c50a90078386b77e882d3b4a4cff22ca5996b904483\",\n",
      "  \"hash\": \"cda3848b630f2f7e03e72c50a90078386b77e882d3b4a4cff22ca5996b904483\",\n",
      "  \"version\": 2,\n",
      "  \"size\": 113,\n",
      "  \"vsize\": 113,\n",
      "  \"weight\": 452,\n",
      "  \"locktime\": 0,\n",
      "  \"vin\": [\n",
      "    {\n",
      "      \"txid\": \"0cdbad7f63792c1273bd68b59567664c20620f1ede54c73e68159df41433a252\",\n",
      "      \"vout\": 0,\n",
      "      \"scriptSig\": {\n",
      "        \"asm\": \"\",\n",
      "        \"hex\": \"\"\n",
      "      },\n",
      "      \"sequence\": 4294967295\n",
      "    }\n",
      "  ],\n",
      "  \"vout\": [\n",
      "    {\n",
      "      \"value\": 1.50000000,\n",
      "      \"n\": 0,\n",
      "      \"scriptPubKey\": {\n",
      "        \"asm\": \"0 fc7250a211deddc70ee5a2738de5f07817351cef\",\n",
      "        \"desc\": \"addr(bcrt1ql3e9pgs3mmwuwrh95fecme0s0qtn2880hlwwpw)#luvpmd0q\",\n",
      "        \"hex\": \"0014fc7250a211deddc70ee5a2738de5f07817351cef\",\n",
      "        \"address\": \"bcrt1ql3e9pgs3mmwuwrh95fecme0s0qtn2880hlwwpw\",\n",
      "        \"type\": \"witness_v0_keyhash\"\n",
      "      }\n",
      "    },\n",
      "    {\n",
      "      \"value\": 0.50000000,\n",
      "      \"n\": 1,\n",
      "      \"scriptPubKey\": {\n",
      "        \"asm\": \"0 531260aa2a199e228c537dfa42c82bea2c7c1f4d\",\n",
      "        \"desc\": \"addr(bcrt1q2vfxp232rx0z9rzn0hay9jptagk8c86ddphpjv)#f3wckqp8\",\n",
      "        \"hex\": \"0014531260aa2a199e228c537dfa42c82bea2c7c1f4d\",\n",
      "        \"address\": \"bcrt1q2vfxp232rx0z9rzn0hay9jptagk8c86ddphpjv\",\n",
      "        \"type\": \"witness_v0_keyhash\"\n",
      "      }\n",
      "    }\n",
      "  ]\n",
      "}\n"
     ]
    }
   ],
   "source": [
    "decoded = subprocess.getoutput(\"bitcoin-cli -regtest decoderawtransaction \" + unsigned_tx.hex())\n",
    "print(decoded)"
   ]
  },
  {
   "cell_type": "markdown",
   "metadata": {},
   "source": [
    "#### Create the sighash\n",
    "TODO - create the sighash using https://github.com/bitcoin/bips/blob/master/bip-0341.mediawiki#common-signature-message\n"
   ]
  },
  {
   "cell_type": "markdown",
   "metadata": {},
   "source": [
    "#### Changes with Taproot signatures\n",
    "\n",
    "The message to get signed in taproot transactions is specified in [BIP341](https://github.com/bitcoin/bips/blob/master/bip-0341.mediawiki#common-signature-message). Below we will sign the transaction manually according to the BIP, but some notable changes are:\n",
    "\n",
    "- Hashes that go into the signature message use SHA256, rather than double SHA256 (HASH256). There's no gain in doing two rounds as there's no secret data, therefore a single round is more efficient.\n",
    "- Signature message commits to scriptPubkeys and total amount. This prevents offline signers being lied to about where transactions are being sent to and the fee.\n",
    "- The sighash is calculated using a tagged hash \"hash<sub>TapSighash</sub>()\". For more on tagged hashes, see the intro to taproot chapter. \n",
    "\n",
    "#### SIGHASH_DEFAULT\n",
    "Taproot introduces a new type of sighash called `SIGHASH_DEFAULT`. The hash type is denoted by `0x00` and signs over the same fields as `SIGHASH_ALL`, except the sighash flag is not appended to the signature, saving one byte."
   ]
  },
  {
   "cell_type": "code",
   "execution_count": 11,
   "metadata": {},
   "outputs": [],
   "source": [
    "sighash_epoch = bytes.fromhex(\"00\")\n",
    "index_of_this_input = bytes.fromhex(\"0000 0000\")\n",
    "\n",
    "# Control\n",
    "hash_type = bytes.fromhex(\"00\") # SIGHASH_DEFAULT (a new sighash type meaning implied SIGHASH_ALL)\n",
    "\n",
    "# Transaction data\n",
    "sha_prevouts = sha256(txid + index)\n",
    "\n",
    "input_amount_sat = int(2.001 * 100_000_000)\n",
    "input_amounts = input_amount_sat.to_bytes(8, byteorder=\"little\", signed=False)\n",
    "sha_amounts = sha256(input_amounts)\n",
    "\n",
    "sha_scriptpubkeys = sha256(\n",
    "    varint_len(spk)\n",
    "    + spk\n",
    ")\n",
    "\n",
    "sha_sequences = sha256(sequence)\n",
    "\n",
    "sha_outputs = sha256(outputs) ######\n",
    "\n",
    "# Data about this input\n",
    "spend_type = bytes.fromhex(\"00\") # no annex present\n",
    "\n",
    "sig_msg = (\n",
    "    sighash_epoch\n",
    "    + hash_type\n",
    "    + version\n",
    "    + locktime\n",
    "    + sha_prevouts\n",
    "    + sha_amounts\n",
    "    + sha_scriptpubkeys\n",
    "    + sha_sequences\n",
    "    + sha_outputs\n",
    "    + spend_type\n",
    "    + index_of_this_input\n",
    ")"
   ]
  },
  {
   "cell_type": "markdown",
   "metadata": {},
   "source": [
    "Now we'll create the sighash using a tagged hash with `\"TapSighash\"` as the string. The tagged hash created by prepending SHA256(\"TapSighash\") twice to the message, then hashing the whole thing with SHA256."
   ]
  },
  {
   "cell_type": "code",
   "execution_count": 12,
   "metadata": {},
   "outputs": [
    {
     "name": "stdout",
     "output_type": "stream",
     "text": [
      "6b6d2c9c010701ddb019b66e29ecbbd828f93a0b402a8fe26bb22aba7ba3472f\n"
     ]
    }
   ],
   "source": [
    "tag_hash = sha256(\"TapSighash\".encode())\n",
    "sighash = sha256(tag_hash + tag_hash + sig_msg)\n",
    "print(sighash.hex())"
   ]
  },
  {
   "cell_type": "markdown",
   "metadata": {},
   "source": [
    "Great, now we are ready to create our schnorr signature! In addition to the message and the private key, we'll include a value for `auxilary randomness`. This value is used to help create a _synthetic nonce_ for the signature. The advantages of this method for nonce selection are described in this [stack exchange answer](https://bitcoin.stackexchange.com/questions/95762/k-selection-for-schnorr-signatures/95763#95763).\n",
    "\n",
    "For our example we'll just use all zeros (32 bytes)."
   ]
  },
  {
   "cell_type": "code",
   "execution_count": 13,
   "metadata": {},
   "outputs": [],
   "source": [
    "aux_rand = bytes.fromhex(\"0000000000000000000000000000000000000000000000000000000000000000\")"
   ]
  },
  {
   "cell_type": "markdown",
   "metadata": {},
   "source": [
    "We'll use the `schnorr_sign` code from the [BIP340 reference code](https://github.com/bitcoin/bips/blob/master/bip-0340/reference.py) to create our schnorr signature. Since we are using `SIGHASH_DEFAULT` (`0x00`), we will not append the sighash type to the signature."
   ]
  },
  {
   "cell_type": "code",
   "execution_count": 14,
   "metadata": {},
   "outputs": [
    {
     "data": {
      "text/plain": [
       "'6f8d5d7ad2bdb17c520075083a333c096e928355d1d30bc027267f8ad2ed4a585bee6e8103b96f9d83092f0265b736c9e4af8ecc04c14d4f9c11e170bd863634'"
      ]
     },
     "execution_count": 14,
     "metadata": {},
     "output_type": "execute_result"
    }
   ],
   "source": [
    "signature = tr.schnorr_sign(sighash, privkey, aux_rand)\n",
    "\n",
    "# Only append the sighash type if it is not SIGHASH_DEFAULT (0x00)\n",
    "if hash_type != b\"\\x00\":\n",
    "    signature += hash_type\n",
    "    \n",
    "signature.hex()"
   ]
  },
  {
   "cell_type": "markdown",
   "metadata": {},
   "source": [
    "Now all we need to do is add the signature to the witness field."
   ]
  },
  {
   "cell_type": "code",
   "execution_count": 15,
   "metadata": {},
   "outputs": [
    {
     "name": "stdout",
     "output_type": "stream",
     "text": [
      "01406f8d5d7ad2bdb17c520075083a333c096e928355d1d30bc027267f8ad2ed4a585bee6e8103b96f9d83092f0265b736c9e4af8ecc04c14d4f9c11e170bd863634\n",
      "signed transaction:  0200000000010152a23314f49d15683ec754de1e0f62204c666795b568bd73122c79637faddb0c0000000000ffffffff0280d1f00800000000160014fc7250a211deddc70ee5a2738de5f07817351cef80f0fa0200000000160014531260aa2a199e228c537dfa42c82bea2c7c1f4d01406f8d5d7ad2bdb17c520075083a333c096e928355d1d30bc027267f8ad2ed4a585bee6e8103b96f9d83092f0265b736c9e4af8ecc04c14d4f9c11e170bd86363400000000\n"
     ]
    }
   ],
   "source": [
    "witness = (\n",
    "    bytes.fromhex(\"01\") # one stack item in the witness\n",
    "    + pushbytes(signature)\n",
    ")\n",
    "print(witness.hex())\n",
    "\n",
    "# the final signed transaction\n",
    "signed_tx = (\n",
    "    version\n",
    "    + marker\n",
    "    + flag\n",
    "    + input_count\n",
    "    + inputs\n",
    "    + output_count\n",
    "    + outputs\n",
    "    + witness\n",
    "    + locktime\n",
    ")\n",
    "\n",
    "print(\"signed transaction: \",signed_tx.hex())"
   ]
  },
  {
   "cell_type": "markdown",
   "metadata": {},
   "source": [
    "### Broadcast the transaction (on regtest mode)\n",
    "If we get back a txid (32 byte hash), then it means the tx was successfully broadcast! If we just want to see if the transaction would have been accepted, but without broadcasting it, we can use the `testmempoolaccept` command (commented out)."
   ]
  },
  {
   "cell_type": "code",
   "execution_count": 16,
   "metadata": {},
   "outputs": [
    {
     "name": "stdout",
     "output_type": "stream",
     "text": [
      "[\n",
      "  {\n",
      "    \"txid\": \"cda3848b630f2f7e03e72c50a90078386b77e882d3b4a4cff22ca5996b904483\",\n",
      "    \"wtxid\": \"c6e90402f30ca7b9bf6da0501cd1b64785f628fd642cf7b8c246cfd8b22da20b\",\n",
      "    \"allowed\": true,\n",
      "    \"vsize\": 130,\n",
      "    \"fees\": {\n",
      "      \"base\": 0.00100000\n",
      "    }\n",
      "  }\n",
      "]\n"
     ]
    }
   ],
   "source": [
    "new_tx_txid = subprocess.getoutput(\"bitcoin-cli -regtest testmempoolaccept \" + \"'[\\\"\" +  signed_tx.hex() + \"\\\"]'\")\n",
    "print(new_tx_txid)"
   ]
  },
  {
   "cell_type": "markdown",
   "metadata": {},
   "source": [
    "We can decode the serialized transaction using ```decoderawtransaction```."
   ]
  },
  {
   "cell_type": "code",
   "execution_count": 17,
   "metadata": {},
   "outputs": [
    {
     "name": "stdout",
     "output_type": "stream",
     "text": [
      "{\n",
      "  \"txid\": \"cda3848b630f2f7e03e72c50a90078386b77e882d3b4a4cff22ca5996b904483\",\n",
      "  \"hash\": \"c6e90402f30ca7b9bf6da0501cd1b64785f628fd642cf7b8c246cfd8b22da20b\",\n",
      "  \"version\": 2,\n",
      "  \"size\": 181,\n",
      "  \"vsize\": 130,\n",
      "  \"weight\": 520,\n",
      "  \"locktime\": 0,\n",
      "  \"vin\": [\n",
      "    {\n",
      "      \"txid\": \"0cdbad7f63792c1273bd68b59567664c20620f1ede54c73e68159df41433a252\",\n",
      "      \"vout\": 0,\n",
      "      \"scriptSig\": {\n",
      "        \"asm\": \"\",\n",
      "        \"hex\": \"\"\n",
      "      },\n",
      "      \"txinwitness\": [\n",
      "        \"6f8d5d7ad2bdb17c520075083a333c096e928355d1d30bc027267f8ad2ed4a585bee6e8103b96f9d83092f0265b736c9e4af8ecc04c14d4f9c11e170bd863634\"\n",
      "      ],\n",
      "      \"sequence\": 4294967295\n",
      "    }\n",
      "  ],\n",
      "  \"vout\": [\n",
      "    {\n",
      "      \"value\": 1.50000000,\n",
      "      \"n\": 0,\n",
      "      \"scriptPubKey\": {\n",
      "        \"asm\": \"0 fc7250a211deddc70ee5a2738de5f07817351cef\",\n",
      "        \"desc\": \"addr(bcrt1ql3e9pgs3mmwuwrh95fecme0s0qtn2880hlwwpw)#luvpmd0q\",\n",
      "        \"hex\": \"0014fc7250a211deddc70ee5a2738de5f07817351cef\",\n",
      "        \"address\": \"bcrt1ql3e9pgs3mmwuwrh95fecme0s0qtn2880hlwwpw\",\n",
      "        \"type\": \"witness_v0_keyhash\"\n",
      "      }\n",
      "    },\n",
      "    {\n",
      "      \"value\": 0.50000000,\n",
      "      \"n\": 1,\n",
      "      \"scriptPubKey\": {\n",
      "        \"asm\": \"0 531260aa2a199e228c537dfa42c82bea2c7c1f4d\",\n",
      "        \"desc\": \"addr(bcrt1q2vfxp232rx0z9rzn0hay9jptagk8c86ddphpjv)#f3wckqp8\",\n",
      "        \"hex\": \"0014531260aa2a199e228c537dfa42c82bea2c7c1f4d\",\n",
      "        \"address\": \"bcrt1q2vfxp232rx0z9rzn0hay9jptagk8c86ddphpjv\",\n",
      "        \"type\": \"witness_v0_keyhash\"\n",
      "      }\n",
      "    }\n",
      "  ]\n",
      "}\n"
     ]
    }
   ],
   "source": [
    "decoded = subprocess.getoutput(\"bitcoin-cli -regtest decoderawtransaction \" + signed_tx.hex())\n",
    "print(decoded)"
   ]
  },
  {
   "cell_type": "code",
   "execution_count": 19,
   "metadata": {},
   "outputs": [
    {
     "data": {
      "text/plain": [
       "'Bitcoin Core stopping'"
      ]
     },
     "execution_count": 19,
     "metadata": {},
     "output_type": "execute_result"
    }
   ],
   "source": [
    "# stop bitcoin core\n",
    "subprocess.getoutput(\"bitcoin-cli -regtest stop\")"
   ]
  },
  {
   "cell_type": "markdown",
   "metadata": {},
   "source": [
    "## Quiz\n"
   ]
  },
  {
   "cell_type": "markdown",
   "metadata": {},
   "source": [
    " ## Answers\n",
    "    "
   ]
  },
  {
   "cell_type": "markdown",
   "metadata": {},
   "source": [
    "## Exercise\n"
   ]
  }
 ],
 "metadata": {
  "kernelspec": {
   "display_name": "Python 3",
   "language": "python",
   "name": "python3"
  },
  "language_info": {
   "codemirror_mode": {
    "name": "ipython",
    "version": 3
   },
   "file_extension": ".py",
   "mimetype": "text/x-python",
   "name": "python",
   "nbconvert_exporter": "python",
   "pygments_lexer": "ipython3",
   "version": "3.7.0"
  }
 },
 "nbformat": 4,
 "nbformat_minor": 2
}
