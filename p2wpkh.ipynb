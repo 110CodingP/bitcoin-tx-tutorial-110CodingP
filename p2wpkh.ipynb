{
 "cells": [
  {
   "cell_type": "code",
   "execution_count": 1,
   "metadata": {
    "code_folding": [
     0
    ]
   },
   "outputs": [],
   "source": [
    "# Import libraries\n",
    "from functions import *\n",
    "\n",
    "import json\n",
    "import os\n",
    "import subprocess\n",
    "import time"
   ]
  },
  {
   "cell_type": "markdown",
   "metadata": {},
   "source": [
    "# Creating a P2WPKH transaction"
   ]
  },
  {
   "cell_type": "markdown",
   "metadata": {},
   "source": [
    "In this section we'll create a P2WPKH transaction from scratch in python. We'll go through each part of the transaction, how it's constructed, signed, and we'll test it using bitcoin core in regtest mode.\n",
    "\n",
    "## Reading\n",
    "- Andreas Antonopoulos - Mastering Bitcoin Chapter 7\n",
    "- Jimmy Song - Programming Bitcoin Chapters 13"
   ]
  },
  {
   "cell_type": "markdown",
   "metadata": {},
   "source": [
    "### Create a P2WPKH UTXO\n",
    "\n",
    "In order to create a transaction spending from a P2WPKH UTXO, we'll first need to create the UTXO that is locked with a p2wpkh script. To do that, we'll define a private key, use it to generate a pubkey, then convert the pubkey to a p2wpkh address."
   ]
  },
  {
   "cell_type": "markdown",
   "metadata": {},
   "source": [
    "#### Create a p2wpkh address \n",
    "For more on this step, review the 'Addresses' notebook."
   ]
  },
  {
   "cell_type": "code",
   "execution_count": 2,
   "metadata": {},
   "outputs": [
    {
     "name": "stdout",
     "output_type": "stream",
     "text": [
      "sender's p2wpkh address: bcrt1ql3e9pgs3mmwuwrh95fecme0s0qtn2880hlwwpw\n"
     ]
    }
   ],
   "source": [
    "sender_privkey = bytes.fromhex(\"1111111111111111111111111111111111111111111111111111111111111111\")\n",
    "sender_pubkey = privkey_to_pubkey(sender_privkey)\n",
    "sender_p2wpkh_addr = pk_to_p2wpkh(sender_pubkey, network = \"regtest\")\n",
    "print(\"sender's p2wpkh address: \" + sender_p2wpkh_addr)"
   ]
  },
  {
   "cell_type": "markdown",
   "metadata": {},
   "source": [
    "#### Fund the 'sender' with 2.001 btc (0.001 btc is for the next tx fee)\n",
    "\n",
    "Now that we have the address, we'll fund it using the python code we used in the previous sections, `create_regtest_utxo.py`."
   ]
  },
  {
   "cell_type": "code",
   "execution_count": 3,
   "metadata": {},
   "outputs": [
    {
     "name": "stdout",
     "output_type": "stream",
     "text": [
      "txid: 749c8f8b078898e66f3df5c08403d2fbf9094ac930349821830812246759e662, 0\n"
     ]
    }
   ],
   "source": [
    "setup_regtest_bitcoind()\n",
    "txid_to_spend, index_to_spend = fund_address(sender_p2wpkh_addr, 2.001)\n",
    "print(f\"txid: {txid_to_spend}, {index_to_spend}\")"
   ]
  },
  {
   "cell_type": "markdown",
   "metadata": {},
   "source": [
    "## Spending a p2wpkh UTXO\n",
    "\n",
    "Now that we have some funds locked up in a p2wpkh utxo, we can create a transaction spending from it. Let's say we want to send 1.5 btc to the address `bcrt1ql3e9pgs3mmwuwrh95fecme0s0qtn2880hlwwpw`.\n",
    "\n",
    "### Decoding a bech32 address\n",
    "\n",
    "The first thing we need to do is decode the address by doing this we can achieve the following:\n",
    "1 - validate the checksum to know the address was transmitted without error\n",
    "2 - make sure we are sending btc on the correct network (testnet/mainnet)\n",
    "3 - know what to put in the scriptPubkey\n",
    "\n",
    "For more on addresses, refer back to the 'Addresses' chapter."
   ]
  },
  {
   "cell_type": "code",
   "execution_count": 4,
   "metadata": {},
   "outputs": [
    {
     "name": "stdout",
     "output_type": "stream",
     "text": [
      "witness version:  0\n",
      "pubkey/script hash:  fc7250a211deddc70ee5a2738de5f07817351cef\n"
     ]
    }
   ],
   "source": [
    "receiver_address = 'bcrt1ql3e9pgs3mmwuwrh95fecme0s0qtn2880hlwwpw'\n",
    "\n",
    "# human readable part\n",
    "hrp = 'bcrt'\n",
    "witver, witprog = bech32.decode(hrp, receiver_address)\n",
    "\n",
    "pubkey_hash = bytearray(witprog)\n",
    "print(\"witness version: \", witver)\n",
    "print(\"pubkey/script hash: \", pubkey_hash.hex())"
   ]
  },
  {
   "cell_type": "markdown",
   "metadata": {},
   "source": [
    "The witness version `0`, tells us that this address corresponds to either a p2wpkh or p2wsh output. Then, we can tell from the length of the hash whether it is a pubkey hash (20 bytes long), or a script hash (32 bytes long). \n",
    "\n",
    "For more on decoding addresses, refer back to the 'Addresses' chapter.\n",
    "\n",
    "Now we can create the receiver's output scriptPubkey:"
   ]
  },
  {
   "cell_type": "code",
   "execution_count": 5,
   "metadata": {},
   "outputs": [],
   "source": [
    "receiver_spk = bytes.fromhex(\"0014\") + pubkey_hash"
   ]
  },
  {
   "cell_type": "markdown",
   "metadata": {},
   "source": [
    "### Create an unsigned p2wpkh transaction\n",
    "\n",
    "The first thing we'll do is define the inputs and outputs of our transaction."
   ]
  },
  {
   "cell_type": "code",
   "execution_count": 6,
   "metadata": {},
   "outputs": [],
   "source": [
    "# Note we have already defined a few variables we need to create our transaction:\n",
    "# The input utxo txid and index: `txid_to_spend` and `index_to_spend`\n",
    "# The input private key and public key: `sender_privkey` and `sender_pubkey`\n",
    "\n",
    "# Set our outputs\n",
    "# Create a new pubkey to use as a change output.\n",
    "change_privkey = bytes.fromhex(\"2222222222222222222222222222222222222222222222222222222222222222\")\n",
    "change_pubkey = privkey_to_pubkey(change_privkey)\n",
    "\n",
    "# Determine our output scriptPubkeys and amounts (in satoshis)\n",
    "output1_value_sat = int(float(\"1.5\") * 100000000)\n",
    "output1_spk = receiver_spk\n",
    "output2_value_sat = int(float(\"0.5\") * 100000000)\n",
    "output2_spk = bytes.fromhex(\"0014\") + hash160(change_pubkey)"
   ]
  },
  {
   "cell_type": "markdown",
   "metadata": {},
   "source": [
    "Now that we've defined everything we need, we can fill in the fields we need to create our unsigned transaction. What makes a transaction 'unsigned' is that the witness field is empty. This first step is necessary as the signature will cover the whole transaction (using SIGHASH_ALL). In a later chapter we will cover other sighash types and how they are signed."
   ]
  },
  {
   "cell_type": "code",
   "execution_count": 7,
   "metadata": {},
   "outputs": [
    {
     "name": "stdout",
     "output_type": "stream",
     "text": [
      "unsigned_tx:  020000000162e659672412088321983430c94a09f9fbd20384c0f53d6fe69888078b8f9c740000000000ffffffff0280d1f00800000000160014fc7250a211deddc70ee5a2738de5f07817351cef80f0fa0200000000160014531260aa2a199e228c537dfa42c82bea2c7c1f4d00000000\n"
     ]
    }
   ],
   "source": [
    "# VERSION\n",
    "# version '2' indicates that we may use relative timelocks (BIP68)\n",
    "version = bytes.fromhex(\"0200 0000\")\n",
    "\n",
    "# MARKER (new to segwit)\n",
    "marker = bytes.fromhex(\"00\")\n",
    "\n",
    "# FLAG (new to segwit)\n",
    "flag = bytes.fromhex(\"01\")\n",
    "\n",
    "# INPUTS\n",
    "# We have just 1 input\n",
    "input_count = bytes.fromhex(\"01\")\n",
    "\n",
    "# Convert txid and index to bytes (little endian)\n",
    "txid = (bytes.fromhex(txid_to_spend))[::-1]\n",
    "index = index_to_spend.to_bytes(4, byteorder=\"little\", signed=False)\n",
    "\n",
    "# For the unsigned transaction we use an empty scriptSig\n",
    "scriptsig = bytes.fromhex(\"\")\n",
    "\n",
    "# use 0xffffffff unless you are using OP_CHECKSEQUENCEVERIFY, locktime, or rbf\n",
    "sequence = bytes.fromhex(\"ffff ffff\")\n",
    "\n",
    "inputs = (\n",
    "    txid\n",
    "    + index\n",
    "    + varint_len(scriptsig)\n",
    "    + scriptsig\n",
    "    + sequence\n",
    ")\n",
    "\n",
    "# OUTPUTS\n",
    "# 0x02 for out two outputs\n",
    "output_count = bytes.fromhex(\"02\")\n",
    "\n",
    "# OUTPUT 1 \n",
    "output1_value = output1_value_sat.to_bytes(8, byteorder=\"little\", signed=True)\n",
    "# 'output1_spk' already defined at the start of the script\n",
    "\n",
    "# OUTPUT 2\n",
    "output2_value = output2_value_sat.to_bytes(8, byteorder=\"little\", signed=True)\n",
    "# 'output2_spk' already defined at the start of the script\n",
    "\n",
    "outputs = (\n",
    "    output1_value\n",
    "    + varint_len(output1_spk)\n",
    "    + output1_spk\n",
    "    + output2_value\n",
    "    + varint_len(output2_spk)\n",
    "    + output2_spk\n",
    ")\n",
    "\n",
    "# LOCKTIME\n",
    "locktime = bytes.fromhex(\"0000 0000\")\n",
    "\n",
    "unsigned_tx = (\n",
    "    version\n",
    "    + input_count\n",
    "    + inputs\n",
    "    + output_count\n",
    "    + outputs\n",
    "    + locktime\n",
    ")\n",
    "print(\"unsigned_tx: \", unsigned_tx.hex())"
   ]
  },
  {
   "cell_type": "markdown",
   "metadata": {},
   "source": [
    "We can decode this raw transaction to inspect it and see that it has all the information we need apart from the segwit fields (version, marker, and witness)."
   ]
  },
  {
   "cell_type": "code",
   "execution_count": 8,
   "metadata": {},
   "outputs": [],
   "source": [
    "# decoded = subprocess.getoutput(\"bitcoin-cli -regtest decoderawtransaction \" + unsigned_tx.hex())\n",
    "# print(decoded)"
   ]
  },
  {
   "cell_type": "markdown",
   "metadata": {},
   "source": [
    "Segwit transactions have a new signing scheme described in [BIP143](https://github.com/bitcoin/bips/blob/master/bip-0143.mediawiki)\n"
   ]
  },
  {
   "cell_type": "code",
   "execution_count": 9,
   "metadata": {},
   "outputs": [
    {
     "name": "stdout",
     "output_type": "stream",
     "text": [
      "02000000e455836a9ed4458f78270b5f8b12c12a6a5a2d82b4f9c91ca356667070c7c95e3bb13029ce7b1f559ef5e747fcac439f1455a2ec7c5f09b72290795e7066504462e659672412088321983430c94a09f9fbd20384c0f53d6fe69888078b8f9c74000000001976a914fc7250a211deddc70ee5a2738de5f07817351cef88aca048ed0b00000000fffffffff91a6606c3037951dc241bb6edf31f9a61112940431aee9593c16c3bb3e1d2600000000001000000\n"
     ]
    }
   ],
   "source": [
    "pk_hash = hash160(sender_pubkey)\n",
    "scriptcode = bytes.fromhex(\"76a914\" + pk_hash.hex() + \"88ac\")\n",
    "\n",
    "input_amount_sat = int(2.001 * 100_000_000)\n",
    "value = input_amount_sat.to_bytes(8, byteorder=\"little\", signed=False)\n",
    "\n",
    "hashPrevOuts = hash256(txid + index)\n",
    "hashSequence = hash256(sequence)\n",
    "hashOutputs = hash256(outputs)\n",
    "sighash_type = bytes.fromhex(\"0100 0000\") # SIGHASH_ALL\n",
    "\n",
    "tx_digest_preimage = (\n",
    "    version\n",
    "    + hashPrevOuts\n",
    "    + hashSequence\n",
    "    + txid\n",
    "    + index\n",
    "    + varint_len(scriptcode)\n",
    "    + scriptcode\n",
    "    + value\n",
    "    + sequence\n",
    "    + hashOutputs\n",
    "    + locktime\n",
    "    + sighash_type\n",
    ")\n",
    "print(tx_digest_preimage.hex())"
   ]
  },
  {
   "cell_type": "markdown",
   "metadata": {},
   "source": [
    "Now we are ready to hash this transaction and produce an ecdsa signature on it. \n",
    "\n",
    "Before hashing the transaction with hash256, we append the sighash flag. In this example we'll use the most commonly used SIGHASH_ALL flag, meaning the signature guarantees the input will only be used in a transaction with these exact inputs and outputs.\n",
    "\n",
    "Note that when we append the sighash flag to the transaction, we use 4 bytes, however when we append the sighash flag to the end of the signature itself we only use 1 byte."
   ]
  },
  {
   "cell_type": "code",
   "execution_count": 10,
   "metadata": {
    "code_folding": []
   },
   "outputs": [
    {
     "name": "stdout",
     "output_type": "stream",
     "text": [
      "signed transaction:  0200000000010162e659672412088321983430c94a09f9fbd20384c0f53d6fe69888078b8f9c740000000000ffffffff0280d1f00800000000160014fc7250a211deddc70ee5a2738de5f07817351cef80f0fa0200000000160014531260aa2a199e228c537dfa42c82bea2c7c1f4d02473044022100f07c811bf3fa271e81376b228261faed8a4fc334039f220648da829b0758fe6a021f2a5c9ce0cef7fc81b0307637c8f76ad1e0f90f72977e3577ca98a359d1419c0121034f355bdcb7cc0af728ef3cceb9615d90684bb5b2ca5f859ab0f0b704075871aa00000000\n"
     ]
    }
   ],
   "source": [
    "# Create sigHash to be signed\n",
    "sighash = hash256(tx_digest_preimage)\n",
    "\n",
    "# Sign the sigHash with the input private key\n",
    "signing_key = ecdsa.SigningKey.from_string(sender_privkey, curve=ecdsa.SECP256k1) \n",
    "signature = signing_key.sign_digest(sighash, sigencode=ecdsa.util.sigencode_der_canonize)\n",
    "\n",
    "# Append SIGHASH_ALL to the signature\n",
    "signature = signature + bytes.fromhex(\"01\")\n",
    "\n",
    "# Witness field\n",
    "witness = (\n",
    "    # indicate the number of stack items for the txin\n",
    "    # 2 items for signature and pubkey\n",
    "    bytes.fromhex(\"02\")\n",
    "    + pushbytes(signature)\n",
    "    + pushbytes(sender_pubkey)\n",
    ")\n",
    "\n",
    "# tx_in with our new sigScript containing the signature we just created\n",
    "inputs_signed = (\n",
    "    txid\n",
    "    + index\n",
    "    + varint_len(scriptsig)\n",
    "    + scriptsig\n",
    "    + sequence\n",
    ")\n",
    "\n",
    "# the final signed transaction\n",
    "signed_tx = (\n",
    "    version\n",
    "    + marker\n",
    "    + flag\n",
    "    + input_count\n",
    "    + inputs_signed\n",
    "    + output_count\n",
    "    + outputs\n",
    "    + witness\n",
    "    + locktime\n",
    ")\n",
    "\n",
    "print(\"signed transaction: \",signed_tx.hex())"
   ]
  },
  {
   "cell_type": "markdown",
   "metadata": {},
   "source": [
    "### Broadcast the transaction (on regtest mode)\n",
    "If we get back a txid (32 byte hash), then it means the tx was successfully broadcast! If we just want to see if the transaction would have been accepted, but without broadcasting it, we can use the `testmempoolaccept` command (commented out)."
   ]
  },
  {
   "cell_type": "code",
   "execution_count": 11,
   "metadata": {},
   "outputs": [
    {
     "name": "stdout",
     "output_type": "stream",
     "text": [
      "7fb0c54f3c2fca06e2430000f1a143703e4a7a4967b92b6d99d95b5094108252\n"
     ]
    }
   ],
   "source": [
    "new_tx_txid = subprocess.getoutput(\"bitcoin-cli -regtest sendrawtransaction \" + signed_tx.hex())\n",
    "# new_tx_txid = subprocess.getoutput(\"bitcoin-cli -regtest testmempoolaccept \" + \"'[\\\"\" +  signed_tx.hex()+ \"\\\"]'\")\n",
    "\n",
    "print(new_tx_txid)"
   ]
  },
  {
   "cell_type": "markdown",
   "metadata": {},
   "source": [
    "We can decode the serialized transaction using ```decoderawtransaction```. Notice that our output addresses match the change and receiver addresses from earlier."
   ]
  },
  {
   "cell_type": "code",
   "execution_count": 12,
   "metadata": {},
   "outputs": [
    {
     "name": "stdout",
     "output_type": "stream",
     "text": [
      "receiver's p2pkh address: bcrt1ql3e9pgs3mmwuwrh95fecme0s0qtn2880hlwwpw\n",
      "sender's change p2pkh address: mo6CPsdW8EsnWdmSSCrQ6225VVDtpMBTug\n"
     ]
    }
   ],
   "source": [
    "print(\"receiver's p2pkh address: \" + receiver_address)\n",
    "change_p2pkh_addr = pk_to_p2pkh(change_pubkey, network = \"regtest\")\n",
    "print(\"sender's change p2pkh address: \" + change_p2pkh_addr)"
   ]
  },
  {
   "cell_type": "code",
   "execution_count": 13,
   "metadata": {},
   "outputs": [
    {
     "name": "stdout",
     "output_type": "stream",
     "text": [
      "{\n",
      "  \"txid\": \"7fb0c54f3c2fca06e2430000f1a143703e4a7a4967b92b6d99d95b5094108252\",\n",
      "  \"hash\": \"2e0bb03540f812491e7d39a2932faedb6bac672da45f280bfac382ae5aed4b76\",\n",
      "  \"version\": 2,\n",
      "  \"size\": 222,\n",
      "  \"vsize\": 141,\n",
      "  \"weight\": 561,\n",
      "  \"locktime\": 0,\n",
      "  \"vin\": [\n",
      "    {\n",
      "      \"txid\": \"749c8f8b078898e66f3df5c08403d2fbf9094ac930349821830812246759e662\",\n",
      "      \"vout\": 0,\n",
      "      \"scriptSig\": {\n",
      "        \"asm\": \"\",\n",
      "        \"hex\": \"\"\n",
      "      },\n",
      "      \"txinwitness\": [\n",
      "        \"3044022100f07c811bf3fa271e81376b228261faed8a4fc334039f220648da829b0758fe6a021f2a5c9ce0cef7fc81b0307637c8f76ad1e0f90f72977e3577ca98a359d1419c01\",\n",
      "        \"034f355bdcb7cc0af728ef3cceb9615d90684bb5b2ca5f859ab0f0b704075871aa\"\n",
      "      ],\n",
      "      \"sequence\": 4294967295\n",
      "    }\n",
      "  ],\n",
      "  \"vout\": [\n",
      "    {\n",
      "      \"value\": 1.50000000,\n",
      "      \"n\": 0,\n",
      "      \"scriptPubKey\": {\n",
      "        \"asm\": \"0 fc7250a211deddc70ee5a2738de5f07817351cef\",\n",
      "        \"desc\": \"addr(bcrt1ql3e9pgs3mmwuwrh95fecme0s0qtn2880hlwwpw)#luvpmd0q\",\n",
      "        \"hex\": \"0014fc7250a211deddc70ee5a2738de5f07817351cef\",\n",
      "        \"address\": \"bcrt1ql3e9pgs3mmwuwrh95fecme0s0qtn2880hlwwpw\",\n",
      "        \"type\": \"witness_v0_keyhash\"\n",
      "      }\n",
      "    },\n",
      "    {\n",
      "      \"value\": 0.50000000,\n",
      "      \"n\": 1,\n",
      "      \"scriptPubKey\": {\n",
      "        \"asm\": \"0 531260aa2a199e228c537dfa42c82bea2c7c1f4d\",\n",
      "        \"desc\": \"addr(bcrt1q2vfxp232rx0z9rzn0hay9jptagk8c86ddphpjv)#f3wckqp8\",\n",
      "        \"hex\": \"0014531260aa2a199e228c537dfa42c82bea2c7c1f4d\",\n",
      "        \"address\": \"bcrt1q2vfxp232rx0z9rzn0hay9jptagk8c86ddphpjv\",\n",
      "        \"type\": \"witness_v0_keyhash\"\n",
      "      }\n",
      "    }\n",
      "  ]\n",
      "}\n"
     ]
    }
   ],
   "source": [
    "decoded = subprocess.getoutput(\"bitcoin-cli -regtest decoderawtransaction \" + signed_tx.hex())\n",
    "print(decoded)"
   ]
  },
  {
   "cell_type": "markdown",
   "metadata": {},
   "source": [
    "## Quiz\n"
   ]
  },
  {
   "cell_type": "markdown",
   "metadata": {},
   "source": [
    " ## Answers\n",
    "    "
   ]
  },
  {
   "cell_type": "markdown",
   "metadata": {},
   "source": [
    "## Exercise\n"
   ]
  }
 ],
 "metadata": {
  "kernelspec": {
   "display_name": "Python 3",
   "language": "python",
   "name": "python3"
  },
  "language_info": {
   "codemirror_mode": {
    "name": "ipython",
    "version": 3
   },
   "file_extension": ".py",
   "mimetype": "text/x-python",
   "name": "python",
   "nbconvert_exporter": "python",
   "pygments_lexer": "ipython3",
   "version": "3.7.0"
  }
 },
 "nbformat": 4,
 "nbformat_minor": 2
}
