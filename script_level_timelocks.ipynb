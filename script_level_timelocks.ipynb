{
 "cells": [
  {
   "cell_type": "code",
   "execution_count": 1,
   "metadata": {
    "code_folding": [
     0
    ]
   },
   "outputs": [],
   "source": [
    "# Import libraries\n",
    "from functions import *\n",
    "\n",
    "import json\n",
    "import os\n",
    "import subprocess\n",
    "import time"
   ]
  },
  {
   "cell_type": "markdown",
   "metadata": {},
   "source": [
    "# Script level timelocks (OP_CLTV and OP_CSV)"
   ]
  },
  {
   "cell_type": "markdown",
   "metadata": {},
   "source": [
    "In this section we'll cover how to create a transaction level timelocks with `OP_CHECKLOCKTIMEVERIFY` (`OP_CTLV`) and `OP_CHECKSEQUENCEVERIFY` (`OP_CSV`).\n",
    "\n",
    "Script level timelocks are an essential part of many layer 2 protocols such lightning HTLC transactions and cross chain atomic swaps. They build off `nLocktime` and `nSequence` by allowing the script verification to check that the spending transaction has those fields set to specific values. \n",
    "\n",
    "This section assumes knowledge of P2WPKH transactions and transaction-level timelocks.\n",
    "\n",
    "### Reading\n",
    "- https://medium.com/summa-technology/bitcoins-time-locks-27e0c362d7a1\n",
    "\n",
    "### Scenario\n",
    "We will use the same scenario as with the transaction-level timelock example:\n",
    "\n",
    "> Kim is an old grandmother who wants to pass some of her wealth (0.1 btc) on to her grandson, Peter. However, Peter is still a child and Kim doesn't trust Peter to spend his bitcoin wisely. Kim would rather wait until Peter turns 18 before he's able to spend his bitcoin. Kim doesn't know how much longer she'll be around for, and she doesn't trust anyone else to handle her money. To give Peter bitcoin in a way which will only allow him to spend it once he's 18, Kim will do this by giving Peter a signed transaction for 0.1 btc with an absolute timelock set to expire on his 18th birthday.\n",
    "\n",
    "> Note that 1 year corresponds to about 50,000 blocks. To save us having to mine tens of thousands of regtest blocks (which may take a few minutes), we'll instead suppose Peter's 18th birthday is happening much sooner, at block 500.\n",
    "\n",
    "In the previous notebook we achieved this by using transaction-level timelocks. There were a some potential downsides of this solution however:\n",
    "- Although Peter has a valid signed transaction from Kim, it is possible that she, or someone with access to her private key, may spend the input before Peter is able to broadcast his transaction. \n",
    "- Since the timelocks were on a transaction level, any additional outputs would be encumbered by the same timelock. \n",
    "- Peter has to safely store the signed transaction until it can be broadcast.\n",
    "\n",
    "A better solution in this case would be to use script-level timelocks. The OP_CODES `OP_CHECKLOCKTIMEVERIFY`  \n",
    "and `OP_CHECKSEQUENCEVERIFY` are included in the redeemScript and can enforce that the spending transaction uses a specific value for `nLocktime` or `nSequence` respectively. "
   ]
  },
  {
   "cell_type": "markdown",
   "metadata": {},
   "source": [
    "### Create a script using OP_CHECKLOCKTIMEVERIFY\n",
    "\n",
    "We'll create the script that Kim and Peter will agree on to send the bitcoin to. Peter wants to ensure that his public key is included in the script, so that he can create the signature for it, and Kim wants to be sure that the script has a timelock on it. "
   ]
  },
  {
   "cell_type": "code",
   "execution_count": 2,
   "metadata": {},
   "outputs": [
    {
     "name": "stdout",
     "output_type": "stream",
     "text": [
      "sequence:  fffffffe\n",
      "02f401b1752102466d7fcae563e5cb09a0d1870bb580344804617879a14949cf22285f1bae3f27ac\n"
     ]
    }
   ],
   "source": [
    "# Set a public key for the receiver (Peter)\n",
    "receiver_privkey = bytes.fromhex(\"2222222222222222222222222222222222222222222222222222222222222222\")\n",
    "receiver_pubkey = privkey_to_pubkey(receiver_privkey)\n",
    "\n",
    "# let's suppose Peter's 18th birthday is estimated to happen at block 500\n",
    "locktime_int = 500\n",
    "locktime = locktime_int.to_bytes(4, byteorder=\"little\", signed=False)\n",
    "locktime_val = locktime_int.to_bytes(2, byteorder=\"little\", signed=False)\n",
    "\n",
    "sequence = bytes.fromhex(\"ffff fffe\")\n",
    "print(\"sequence: \", sequence.hex())\n",
    "\n",
    "redeemScript = (\n",
    "    varint_len(locktime_val)\n",
    "    + locktime_val\n",
    "    + bytes.fromhex(\"b1\") # OP_CLTV\n",
    "    + bytes.fromhex(\"75\") # OP_DROP\n",
    "    + pushbytes(receiver_pubkey)\n",
    "    + bytes.fromhex(\"ac\"))\n",
    "\n",
    "print(redeemScript.hex())"
   ]
  },
  {
   "cell_type": "markdown",
   "metadata": {},
   "source": [
    "#### Convert the redeemScript to a P2WSH address\n",
    "\n",
    "For more on this step, review the 'Addresses' notebook."
   ]
  },
  {
   "cell_type": "code",
   "execution_count": 3,
   "metadata": {},
   "outputs": [
    {
     "name": "stdout",
     "output_type": "stream",
     "text": [
      "bcrt1qd75w96efgck0afp7zxarmhmzp2zjmzq0khkdf0fpaasrzl09m6aszmc5kn\n"
     ]
    }
   ],
   "source": [
    "address_to_spend = script_to_p2wsh(redeemScript, \"regtest\")\n",
    "print(address_to_spend)"
   ]
  },
  {
   "cell_type": "markdown",
   "metadata": {},
   "source": [
    "#### Create Peter's utxo with 0.1 btc\n",
    "\n",
    "Now that we have the address, we'll fund it using the python code we used in the previous sections, `create_regtest_utxo.py`."
   ]
  },
  {
   "cell_type": "code",
   "execution_count": 4,
   "metadata": {},
   "outputs": [
    {
     "name": "stdout",
     "output_type": "stream",
     "text": [
      "txid: 918ade7e41118455ab8029baa8baa0657e659461949d6798fd00b6f0cb88c156, 1\n"
     ]
    }
   ],
   "source": [
    "txid_to_spend, index_to_spend = create_regtest_utxo(address_to_spend, 0.1)\n",
    "print(f\"txid: {txid_to_spend}, {index_to_spend}\")"
   ]
  },
  {
   "cell_type": "markdown",
   "metadata": {},
   "source": [
    "## Spending a P2WSH time-locked UTXO\n",
    "\n",
    "Now that we have some funds locked up in a P2WSH utxo with a timelock, we can create a transaction spending from it. Let's say Peter wants to send 0.099 btc to the address `mkxwE7XtVYJKepoD2hbHnDjftuMQ1k6deE`.\n",
    "\n",
    "From our previous examples we know this corresponds to a scriptPubkey of `76a9143bc28d6d92d9073fb5e3adf481795eaf446bceed88ac`."
   ]
  },
  {
   "cell_type": "code",
   "execution_count": 5,
   "metadata": {},
   "outputs": [],
   "source": [
    "output1_spk = bytes.fromhex(\"76a9143bc28d6d92d9073fb5e3adf481795eaf446bceed88ac\")\n",
    "output1_value_sat = int(float(\"0.099\") * 100000000)"
   ]
  },
  {
   "cell_type": "markdown",
   "metadata": {},
   "source": [
    "### Create an unsigned transaction"
   ]
  },
  {
   "cell_type": "markdown",
   "metadata": {},
   "source": [
    "Using the values for `nLocktime` that we set above `nSequence`, we'll create the unsigned transaction and sign it in the same way we did when creating a regular P2WSH transaction. Note that the value for `nLocktime` must be a 4 byte integer, whereas the value preceeding `OP_CHECKLOCKTIMEVERIFY` must be a variable length integer."
   ]
  },
  {
   "cell_type": "code",
   "execution_count": 6,
   "metadata": {},
   "outputs": [
    {
     "name": "stdout",
     "output_type": "stream",
     "text": [
      "unsigned_tx:  020000000156c188cbf0b600fd98679d946194657e65a0baa8ba2980ab558411417ede8a910100000000fffffffe01e00f9700000000001976a9143bc28d6d92d9073fb5e3adf481795eaf446bceed88acf4010000\n"
     ]
    }
   ],
   "source": [
    "# VERSION\n",
    "# version '2' indicates that we may use relative timelocks (BIP68)\n",
    "version = bytes.fromhex(\"0200 0000\")\n",
    "\n",
    "# MARKER (new to segwit)\n",
    "marker = bytes.fromhex(\"00\")\n",
    "\n",
    "# FLAG (new to segwit)\n",
    "flag = bytes.fromhex(\"01\")\n",
    "\n",
    "# INPUTS\n",
    "# We have just 1 input\n",
    "input_count = bytes.fromhex(\"01\")\n",
    "\n",
    "# Convert txid and index to bytes (little endian)\n",
    "txid = (bytes.fromhex(txid_to_spend))[::-1]\n",
    "index = index_to_spend.to_bytes(4, byteorder=\"little\", signed=False)\n",
    "\n",
    "# For the unsigned transaction we use an empty scriptSig\n",
    "scriptsig = bytes.fromhex(\"\")\n",
    "\n",
    "# SEQUENCE\n",
    "# set above\n",
    "\n",
    "inputs = (\n",
    "    txid\n",
    "    + index\n",
    "    + varint_len(scriptsig)\n",
    "    + scriptsig\n",
    "    + sequence\n",
    ")\n",
    "\n",
    "# OUTPUTS\n",
    "output_count = bytes.fromhex(\"01\")\n",
    "\n",
    "# OUTPUT 1 \n",
    "output1_value = output1_value_sat.to_bytes(8, byteorder=\"little\", signed=True)\n",
    "# 'output1_spk' already defined at the start of the script\n",
    "\n",
    "outputs = (\n",
    "    output1_value\n",
    "    + varint_len(output1_spk)\n",
    "    + output1_spk\n",
    ")\n",
    "\n",
    "# LOCKTIME\n",
    "# set above\n",
    "\n",
    "unsigned_tx = (\n",
    "    version\n",
    "    + input_count\n",
    "    + inputs\n",
    "    + output_count\n",
    "    + outputs\n",
    "    + locktime\n",
    ")\n",
    "print(\"unsigned_tx: \", unsigned_tx.hex())"
   ]
  },
  {
   "cell_type": "markdown",
   "metadata": {},
   "source": [
    "### Signing the transaction\n",
    "\n",
    "Segwit transaction signing scheme described in [BIP143](https://github.com/bitcoin/bips/blob/master/bip-0143.mediawiki)\n"
   ]
  },
  {
   "cell_type": "code",
   "execution_count": 7,
   "metadata": {},
   "outputs": [
    {
     "name": "stdout",
     "output_type": "stream",
     "text": [
      "020000008439501705c1d2101354c585378a37abe081074f0447e9f751614b52db7e5fdfbbdebfac1cd12080fb29f8919f7f8be7bdb21a89c8d09e8a59fc7bb1d2a7379656c188cbf0b600fd98679d946194657e65a0baa8ba2980ab558411417ede8a91010000002802f401b1752102466d7fcae563e5cb09a0d1870bb580344804617879a14949cf22285f1bae3f27ac8096980000000000fffffffe5d18c7a03d8b14317752ff0d8801c9fe97f8e11c3abfc3d0543fa2fedcceb020f401000001000000\n"
     ]
    }
   ],
   "source": [
    "input_amount_sat = int(0.1 * 100_000_000)\n",
    "value = input_amount_sat.to_bytes(8, byteorder=\"little\", signed=False)\n",
    "\n",
    "hashPrevOuts = hash256(txid + index)\n",
    "hashSequence = hash256(sequence)\n",
    "hashOutputs = hash256(outputs)\n",
    "sighash_type = bytes.fromhex(\"0100 0000\") # SIGHASH_ALL\n",
    "\n",
    "tx_digest_preimage = (\n",
    "    version\n",
    "    + hashPrevOuts\n",
    "    + hashSequence\n",
    "    + txid\n",
    "    + index\n",
    "    + varint_len(redeemScript)\n",
    "    + redeemScript\n",
    "    + value\n",
    "    + sequence\n",
    "    + hashOutputs\n",
    "    + locktime\n",
    "    + sighash_type\n",
    ")\n",
    "print(tx_digest_preimage.hex())"
   ]
  },
  {
   "cell_type": "markdown",
   "metadata": {},
   "source": [
    "Hash this transaction and produce an ecdsa signature on it. "
   ]
  },
  {
   "cell_type": "code",
   "execution_count": 8,
   "metadata": {
    "code_folding": []
   },
   "outputs": [
    {
     "name": "stdout",
     "output_type": "stream",
     "text": [
      "signed transaction:  0200000000010156c188cbf0b600fd98679d946194657e65a0baa8ba2980ab558411417ede8a910100000000fffffffe01e00f9700000000001976a9143bc28d6d92d9073fb5e3adf481795eaf446bceed88ac0247304402205dc2ec61433f9b5e54c24999329cd9e1d70a5666f5db5b8fb9a2f1e232e8210202204d9d5ac941831c8f60299ffd85c29eac860f2c4537d866136a625c8076d7b110012802f401b1752102466d7fcae563e5cb09a0d1870bb580344804617879a14949cf22285f1bae3f27acf4010000\n"
     ]
    }
   ],
   "source": [
    "# Create sigHash to be signed\n",
    "sighash = hash256(tx_digest_preimage)\n",
    "\n",
    "# Sign the sigHash with the input private key\n",
    "signing_key = ecdsa.SigningKey.from_string(receiver_privkey, curve=ecdsa.SECP256k1) \n",
    "signature = signing_key.sign_digest(sighash, sigencode=ecdsa.util.sigencode_der_canonize)\n",
    "\n",
    "# Append SIGHASH_ALL to the signature\n",
    "signature = signature + bytes.fromhex(\"01\")\n",
    "\n",
    "# Witness field\n",
    "witness = (\n",
    "    # indicate the number of stack items\n",
    "    bytes.fromhex(\"02\")\n",
    "    + pushbytes(signature)\n",
    "    + pushbytes(redeemScript)\n",
    ")\n",
    "\n",
    "# tx_in with our new sigScript containing the signature we just created\n",
    "inputs_signed = (\n",
    "    txid\n",
    "    + index\n",
    "    + varint_len(scriptsig)\n",
    "    + scriptsig\n",
    "    + sequence\n",
    ")\n",
    "\n",
    "# the final signed transaction\n",
    "signed_tx = (\n",
    "    version\n",
    "    + marker\n",
    "    + flag\n",
    "    + input_count\n",
    "    + inputs_signed\n",
    "    + output_count\n",
    "    + outputs\n",
    "    + witness\n",
    "    + locktime\n",
    ")\n",
    "\n",
    "print(\"signed transaction: \",signed_tx.hex())"
   ]
  },
  {
   "cell_type": "markdown",
   "metadata": {},
   "source": [
    "### Scenario\n",
    "The `OP_CHECKLOCKTIMEVERIFY` OP_CODE in the script is essentially forcing the transaction spending from it (Peter's transaction) to have `nLocktime` (and `nSequence` not set to `0xffffffff`) set in the transaction spending from it. Therefore Peter's transaction will behave as we expect for a transaction that has a transaction-level timelock.\n",
    "\n",
    "If he were to try broadcasting the transaction at the current height (102), it would result in the following `non-final` error."
   ]
  },
  {
   "cell_type": "code",
   "execution_count": 9,
   "metadata": {},
   "outputs": [
    {
     "name": "stdout",
     "output_type": "stream",
     "text": [
      "102\n",
      "[\n",
      "  {\n",
      "    \"txid\": \"b6ba6901af8da67f36056d32a3839a3a44785b47e5262d5a6cb4924e74bbc0f9\",\n",
      "    \"wtxid\": \"4689dfae0e66da7e90ed69d7f632859daae604c77000d524f9e50e3fddcb06c3\",\n",
      "    \"allowed\": false,\n",
      "    \"reject-reason\": \"non-final\"\n",
      "  }\n",
      "]\n"
     ]
    }
   ],
   "source": [
    "height = subprocess.getoutput(\"bitcoin-cli -regtest getblockcount \")\n",
    "print(height)\n",
    "\n",
    "invalid_attempt = subprocess.getoutput(f\"bitcoin-cli -regtest testmempoolaccept '[\\\"{signed_tx.hex()}\\\"]'\")\n",
    "print(invalid_attempt)"
   ]
  },
  {
   "cell_type": "markdown",
   "metadata": {},
   "source": [
    "Now we'll simulate 398 blocks passing (to reach block 500), and see what happens if Peter tries to broadcast his transaction again."
   ]
  },
  {
   "cell_type": "code",
   "execution_count": 10,
   "metadata": {},
   "outputs": [
    {
     "name": "stdout",
     "output_type": "stream",
     "text": [
      "blockheight:  500\n",
      "[\n",
      "  {\n",
      "    \"txid\": \"b6ba6901af8da67f36056d32a3839a3a44785b47e5262d5a6cb4924e74bbc0f9\",\n",
      "    \"wtxid\": \"4689dfae0e66da7e90ed69d7f632859daae604c77000d524f9e50e3fddcb06c3\",\n",
      "    \"allowed\": true,\n",
      "    \"vsize\": 114,\n",
      "    \"fees\": {\n",
      "      \"base\": 0.00100000\n",
      "    }\n",
      "  }\n",
      "]\n"
     ]
    }
   ],
   "source": [
    "subprocess.getoutput(f\"bitcoin-cli -regtest -generate 398\")\n",
    "height = subprocess.getoutput(\"bitcoin-cli -regtest getblockcount \")\n",
    "print(\"blockheight: \", height)\n",
    "\n",
    "valid_spend = subprocess.getoutput(f\"bitcoin-cli -regtest testmempoolaccept '[\\\"{signed_tx.hex()}\\\"]'\")\n",
    "print(valid_spend)"
   ]
  },
  {
   "cell_type": "markdown",
   "metadata": {},
   "source": [
    "This time the transaction is successfully broadcasted and Peter has successfully spent his script-level, time-locked output. \n",
    "\n",
    "To view the decoded transaction, uncomment the lines below."
   ]
  },
  {
   "cell_type": "code",
   "execution_count": 11,
   "metadata": {},
   "outputs": [
    {
     "name": "stdout",
     "output_type": "stream",
     "text": [
      "{\n",
      "  \"txid\": \"b6ba6901af8da67f36056d32a3839a3a44785b47e5262d5a6cb4924e74bbc0f9\",\n",
      "  \"hash\": \"4689dfae0e66da7e90ed69d7f632859daae604c77000d524f9e50e3fddcb06c3\",\n",
      "  \"version\": 2,\n",
      "  \"size\": 201,\n",
      "  \"vsize\": 114,\n",
      "  \"weight\": 456,\n",
      "  \"locktime\": 500,\n",
      "  \"vin\": [\n",
      "    {\n",
      "      \"txid\": \"918ade7e41118455ab8029baa8baa0657e659461949d6798fd00b6f0cb88c156\",\n",
      "      \"vout\": 1,\n",
      "      \"scriptSig\": {\n",
      "        \"asm\": \"\",\n",
      "        \"hex\": \"\"\n",
      "      },\n",
      "      \"txinwitness\": [\n",
      "        \"304402205dc2ec61433f9b5e54c24999329cd9e1d70a5666f5db5b8fb9a2f1e232e8210202204d9d5ac941831c8f60299ffd85c29eac860f2c4537d866136a625c8076d7b11001\",\n",
      "        \"02f401b1752102466d7fcae563e5cb09a0d1870bb580344804617879a14949cf22285f1bae3f27ac\"\n",
      "      ],\n",
      "      \"sequence\": 4278190079\n",
      "    }\n",
      "  ],\n",
      "  \"vout\": [\n",
      "    {\n",
      "      \"value\": 0.09900000,\n",
      "      \"n\": 0,\n",
      "      \"scriptPubKey\": {\n",
      "        \"asm\": \"OP_DUP OP_HASH160 3bc28d6d92d9073fb5e3adf481795eaf446bceed OP_EQUALVERIFY OP_CHECKSIG\",\n",
      "        \"desc\": \"addr(mkxwE7XtVYJKepoD2hbHnDjftuMQ1k6deE)#xlnzfr97\",\n",
      "        \"hex\": \"76a9143bc28d6d92d9073fb5e3adf481795eaf446bceed88ac\",\n",
      "        \"address\": \"mkxwE7XtVYJKepoD2hbHnDjftuMQ1k6deE\",\n",
      "        \"type\": \"pubkeyhash\"\n",
      "      }\n",
      "    }\n",
      "  ]\n",
      "}\n"
     ]
    }
   ],
   "source": [
    "decoded = subprocess.getoutput(\"bitcoin-cli -regtest decoderawtransaction \" + signed_tx.hex())\n",
    "print(decoded)"
   ]
  },
  {
   "cell_type": "code",
   "execution_count": 13,
   "metadata": {},
   "outputs": [
    {
     "data": {
      "text/plain": [
       "'Bitcoin Core stopping'"
      ]
     },
     "execution_count": 13,
     "metadata": {},
     "output_type": "execute_result"
    }
   ],
   "source": [
    "# stop bitcoin core\n",
    "subprocess.getoutput(\"bitcoin-cli -regtest stop\")"
   ]
  },
  {
   "cell_type": "markdown",
   "metadata": {},
   "source": [
    "## Script-level relative timelocks (OP_CHECKSEQUENCEVERIFY)\n",
    "\n",
    "Similar to how `OP_CHECKLOCKTIMEVERIFY` enforces the transaction spending that output to set an absolute locktime with `nLocktime`, `OP_CHECKSEQUENCEVERIFY` enforces the transaction spending that output to set a relative timelock with `nSequence`.\n",
    "\n",
    "In the scenario we just covered, Kim could have achieved the same outcome but using a relative timelock instead. The only difference would be that the delay would be specified relative to when the input was confirmed, rather than the absolute block height. \n",
    "\n",
    "Note that `version` must be set to **`2`** for relative timelocks to be enabled.\n",
    "\n",
    "### Exercise\n",
    "Repeat the scenario above, but using `OP_CHECKSEQUENCEVERIFY` to enforce the delay.\n",
    "\n",
    "Hint: the block chain starts off at block 102, so the relative timelock should be set to 398 blocks for the transaction to be broadcastable at block 500.\n",
    "\n",
    "Hint 2: nSequence is a 32 bit unsigned integer, so you can use the same `.to_bytes` method used to convert `locktime_int` to `locktime` in the previous example.\n",
    "\n",
    "\n",
    "#### Solution for running with nSequence\n",
    "```\n",
    "locktime_int = 0\n",
    "locktime = locktime_int.to_bytes(4, byteorder=\"little\", signed=False)\n",
    "\n",
    "sequence_int = 398\n",
    "sequence = sequence_int.to_bytes(4, byteorder=\"little\", signed=False)\n",
    "sequence_val = sequence_int.to_bytes(2, byteorder=\"little\", signed=False)\n",
    "\n",
    "redeemScript = (\n",
    "    varint_len(sequence_val)\n",
    "    + sequence_val\n",
    "    + bytes.fromhex(\"b2\") # OP_CSV\n",
    "    + bytes.fromhex(\"75\") # OP_DROP\n",
    "    + pushbytes(receiver_pubkey)\n",
    "    + bytes.fromhex(\"ac\"))\n",
    "\n",
    "```"
   ]
  },
  {
   "cell_type": "markdown",
   "metadata": {},
   "source": [
    "## Quiz\n",
    "\n",
    "- 1. Earlier we learned that setting `nSequence` to `0xffffffff` disables `nLocktime`, so what would happen if you tried setting `nSequence` to `0xffffffff` when spending from an input that uses `OP_CLTV`?\n",
    "- 2. What information does Peter need to hold on to in order to spend from the outputs in these examples?"
   ]
  },
  {
   "cell_type": "markdown",
   "metadata": {},
   "source": [
    "## Answers\n",
    "- 1. The transaction would be invalid as `OP_CLTV` checks that `nSequence` in the spending transaction is not set to `0xffffffff`.\n",
    "- 2. He needs his private key to sign the transaction, and the redeem script.\n"
   ]
  }
 ],
 "metadata": {
  "kernelspec": {
   "display_name": "Python 3",
   "language": "python",
   "name": "python3"
  },
  "language_info": {
   "codemirror_mode": {
    "name": "ipython",
    "version": 3
   },
   "file_extension": ".py",
   "mimetype": "text/x-python",
   "name": "python",
   "nbconvert_exporter": "python",
   "pygments_lexer": "ipython3",
   "version": "3.7.0"
  }
 },
 "nbformat": 4,
 "nbformat_minor": 2
}
