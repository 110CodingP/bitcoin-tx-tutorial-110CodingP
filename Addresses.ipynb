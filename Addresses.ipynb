{
 "cells": [
  {
   "cell_type": "code",
   "execution_count": 1,
   "id": "af49fa73",
   "metadata": {
    "code_folding": [
     0
    ]
   },
   "outputs": [],
   "source": [
    "# Useful functions (covered in previous sections of the course)\n",
    "import hashlib\n",
    "\n",
    "def hash256(data: bytes):\n",
    "    '''Two rounds of SHA256 (aka Hash256)'''\n",
    "    hash_1 = hashlib.sha256(data).digest()\n",
    "    hash_2 = hashlib.sha256(hash_1).digest()\n",
    "    return hash_2\n",
    "\n",
    "def hash160(data: bytes):\n",
    "    '''sha256 followed by ripemd160'''\n",
    "    hash_1 = hashlib.sha256(data).digest()\n",
    "    hash_2 = hashlib.new('ripemd160', hash_1).digest()\n",
    "    return hash_2"
   ]
  },
  {
   "cell_type": "markdown",
   "id": "e0b7043b",
   "metadata": {},
   "source": [
    "# Bitcoin addresses\n",
    "\n",
    "Here we will cover the different types of bitcoin addresses as well as how they can be encoded and decoded."
   ]
  },
  {
   "cell_type": "markdown",
   "id": "36d6b19a",
   "metadata": {},
   "source": [
    "## Introduction\n",
    "When Alice sends Bob bitcoin, Alice does so by creating a new transaction where one (or more) of the outputs has a scriptPubkey (aka 'locking script') specified by Bob. What makes the output effectively 'belong' to Bob is that only he knows how to create a scriptSig (aka 'unlocking script') which will satisfy or 'unlock' the locking script.\n",
    "\n",
    "If Bob were to send Alice the scriptPubkey as raw data, any error in communication could result in Alice sending the bitcoin to the wrong scriptPubkey and having the bitcoins effectively impossible to recover.\n",
    "\n",
    "To solve this problem, there are common standards for encoding scriptPubkeys as addresses. These addresses are designed to be easier to read, specify which network the address is intended for (mainnet/testnet), and contain a checksum to help with error detection. A full list of bitcoin address prefixes can be found here: https://en.bitcoin.it/wiki/List_of_address_prefixes\n",
    "\n",
    "Note that many forks of bitcoin (such as litecoin) use similar address standards but with different prefixes to differentiate between them. If a wallet implementation doesn't check that the prefix matches with the type of transaction being created, the user may think they are sending litecoin to their address, when it is actually sending bitcoin. \n",
    "\n",
    "Note that the addresses themselves are never stored on the blockchain. However, bitcoind and other bitcoin explorers will often display a transaction's output scriptPubkeys as address for readability. \n",
    "\n",
    "Below we will cover the current address formats that exists with examples of how to encode/decode the most commonly used\n",
    "scriptPubkeys.\n",
    "\n",
    "- Base58\n",
    "    - p2pkh\n",
    "    - p2sh\n",
    "    - p2sh-p2wpkh\n",
    "- Bech32\n",
    "    - p2wpkh\n",
    "    - p2wsh\n",
    "- Bech32m\n",
    "    - p2tr"
   ]
  },
  {
   "cell_type": "markdown",
   "id": "718f6534",
   "metadata": {},
   "source": [
    "## Base58"
   ]
  },
  {
   "cell_type": "code",
   "execution_count": 2,
   "id": "16534779",
   "metadata": {},
   "outputs": [],
   "source": [
    "import base58\n",
    "\n",
    "def encode_base58_checksum(b: bytes):\n",
    "    return base58.b58encode(b + hash256(b)[:4]).decode()\n",
    "\n",
    "def decode_base58(s: str):\n",
    "    return base58.b58decode(s)\n",
    "\n",
    "# TODO\n",
    "# def validate_checksum()\n",
    "\n",
    "def pk_to_p2pkh(compressed: bytes, network: str):\n",
    "    '''Creates a p2pkh address from a compressed pubkey'''\n",
    "    pk_hash = hash160(compressed)\n",
    "    if network == \"regtest\" or network == \"testnet\":\n",
    "        prefix = bytes.fromhex(\"6f\")\n",
    "    elif network == \"mainnet\":\n",
    "        prefix = bytes.fromhex(\"00\")\n",
    "    else:\n",
    "        return \"Enter the network: testnet/regtest/mainnet\"\n",
    "    return encode_base58_checksum(prefix + pk_hash)\n",
    "\n",
    "def script_to_p2sh(redeemScript, network):\n",
    "    rs_hash = hash160(redeemScript)\n",
    "    if network == \"regtest\" or network == \"testnet\":\n",
    "        prefix = bytes.fromhex(\"c4\")\n",
    "    elif network == \"mainnet\":\n",
    "        prefix = bytes.fromhex(\"05\")\n",
    "    else:\n",
    "        return \"Enter the network: tesnet/regtest/mainnet\"\n",
    "    return encode_base58_checksum(prefix + rs_hash)"
   ]
  },
  {
   "cell_type": "markdown",
   "id": "7547fc3e",
   "metadata": {},
   "source": [
    "### Examples"
   ]
  },
  {
   "cell_type": "markdown",
   "id": "9756c214",
   "metadata": {},
   "source": [
    "#### Creating a base58 address from a pubkey\n",
    "Given the pubkey `02466d7fcae563e5cb09a0d1870bb580344804617879a14949cf22285f1bae3f27`, create a p2pkh address."
   ]
  },
  {
   "cell_type": "code",
   "execution_count": 3,
   "id": "3f26d1a8",
   "metadata": {},
   "outputs": [
    {
     "name": "stdout",
     "output_type": "stream",
     "text": [
      "mo6CPsdW8EsnWdmSSCrQ6225VVDtpMBTug\n"
     ]
    }
   ],
   "source": [
    "pubkey = bytes.fromhex(\"02466d7fcae563e5cb09a0d1870bb580344804617879a14949cf22285f1bae3f27\")\n",
    "p2pkh_address = pk_to_p2pkh(pubkey, 'regtest')\n",
    "print(p2pkh_address)"
   ]
  },
  {
   "cell_type": "markdown",
   "id": "468dec6f",
   "metadata": {},
   "source": [
    "#### Decoding a base58 address\n",
    "Now from the base58 address, let's decode the prefix and scriptPubkey."
   ]
  },
  {
   "cell_type": "code",
   "execution_count": 4,
   "id": "b2867e95",
   "metadata": {},
   "outputs": [
    {
     "name": "stdout",
     "output_type": "stream",
     "text": [
      "True\n",
      "prefix:  0x6f\n",
      "pubkey hash:  531260aa2a199e228c537dfa42c82bea2c7c1f4d\n"
     ]
    }
   ],
   "source": [
    "address = 'mo6CPsdW8EsnWdmSSCrQ6225VVDtpMBTug'\n",
    "address_decoded = decode_base58(address)\n",
    "\n",
    "# Check the checksum is valid\n",
    "decoded = address_decoded[:-4] # everything before the last 4 bytes is the message\n",
    "checksum = address_decoded[-4:] # last 4 bytes are the checksum\n",
    "\n",
    "# Check that the first four bytes of the hash are equal to the checksum\n",
    "print(hash256(decoded)[:4] == checksum)\n",
    "\n",
    "print(\"prefix: \", hex(decoded[0]))\n",
    "\n",
    "pk_hash = decoded[1:]\n",
    "print(\"pubkey hash: \", pk_hash.hex())"
   ]
  },
  {
   "cell_type": "markdown",
   "id": "0ea76323",
   "metadata": {},
   "source": [
    "#### Pubkey hash to scriptPubkey\n",
    "Now that we have the pubkey hash, to turn it into a scriptPubkey we need to put it into the standard p2pkh script:\n",
    "\n",
    "`OP_DUP OP_HASH160 <pubKeyHash> OP_EQUALVERIFY OP_CHECKSIG`\n",
    "\n",
    "We can look up the corresponding op codes from https://en.bitcoin.it/wiki/Script\n",
    "\n",
    "Note that in front of `<pubKeyHash>` we need to add an opcode for the length of the hash. Since the pubkey hash is taken from hash160, we have a 20 byte hash, which is `14` in hex."
   ]
  },
  {
   "cell_type": "code",
   "execution_count": 5,
   "id": "cec07f9e",
   "metadata": {},
   "outputs": [
    {
     "name": "stdout",
     "output_type": "stream",
     "text": [
      "scriptPubkey:  1976a914531260aa2a199e228c537dfa42c82bea2c7c1f4d88ac\n"
     ]
    }
   ],
   "source": [
    "scriptPubkey = bytes.fromhex(\"1976a914\" + pk_hash.hex() + \"88ac\")\n",
    "print(\"scriptPubkey: \", scriptPubkey.hex())"
   ]
  },
  {
   "cell_type": "markdown",
   "id": "0ef472d7",
   "metadata": {},
   "source": [
    "## Segwit"
   ]
  },
  {
   "cell_type": "code",
   "execution_count": 6,
   "id": "170b511d",
   "metadata": {},
   "outputs": [],
   "source": [
    "# Segwit\n",
    "def pk_to_p2wpkh(compressed, network):\n",
    "    '''generates a p2wpkh bech32 address corresponding to a compressed pubkey'''\n",
    "    pk_hash = hash160(compressed)\n",
    "    redeemScript = bytes.fromhex(f\"0014{pk_hash.hex()}\")\n",
    "    spk = binascii.unhexlify(redeemScript.hex())\n",
    "    version = spk[0] - 0x50 if spk[0] else 0\n",
    "    program = spk[2:]\n",
    "    if network == \"testnet\":\n",
    "        prefix = 'tb'\n",
    "    if network == \"regtest\":\n",
    "        prefix = 'bcrt'\n",
    "    elif network == \"mainnet\":\n",
    "        prefix = 'bc'\n",
    "    else:\n",
    "        return \"Enter the network: testnet/regtest/mainnet\"\n",
    "    return bech32.encode(prefix, version, program)\n",
    "\n",
    "def pk_to_p2sh_p2wpkh(compressed, network):\n",
    "    pk_hash = hash160(compressed)\n",
    "    redeemScript = bytes.fromhex(\"0014\"+str(pk_hash.hex()))\n",
    "    rs_hash = hash160(redeemScript)\n",
    "    if network == \"regtest\" or network == \"testnet\":\n",
    "        prefix = b\"\\xc4\"\n",
    "    elif network == \"mainnet\":\n",
    "        prefix = b\"\\x05\"\n",
    "    else:\n",
    "        return \"Enter the network: tesnet/regtest/mainnet\"\n",
    "    return encode_base58_checksum(prefix + rs_hash)\n",
    "\n",
    "# def script_to_p2wsh()"
   ]
  },
  {
   "cell_type": "code",
   "execution_count": 7,
   "id": "ff466d1c",
   "metadata": {},
   "outputs": [],
   "source": [
    "# Taproot\n",
    "# def pk_to_p2tr()"
   ]
  },
  {
   "cell_type": "markdown",
   "id": "b284ae82",
   "metadata": {},
   "source": [
    "## Quiz\n",
    "\n",
    "What is the scriptPubkey encoded by this address `<address>`? What network is it intended for (mainnet/testnet)?\n",
    "\n"
   ]
  },
  {
   "cell_type": "code",
   "execution_count": null,
   "id": "4b4a2e3f",
   "metadata": {},
   "outputs": [],
   "source": []
  }
 ],
 "metadata": {
  "kernelspec": {
   "display_name": "Python 3",
   "language": "python",
   "name": "python3"
  },
  "language_info": {
   "codemirror_mode": {
    "name": "ipython",
    "version": 3
   },
   "file_extension": ".py",
   "mimetype": "text/x-python",
   "name": "python",
   "nbconvert_exporter": "python",
   "pygments_lexer": "ipython3",
   "version": "3.7.0"
  }
 },
 "nbformat": 4,
 "nbformat_minor": 5
}
