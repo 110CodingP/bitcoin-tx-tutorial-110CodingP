{
 "cells": [
  {
   "cell_type": "code",
   "execution_count": 1,
   "id": "09f8c7fd",
   "metadata": {},
   "outputs": [],
   "source": [
    "from functions import *"
   ]
  },
  {
   "cell_type": "markdown",
   "id": "ae423703",
   "metadata": {},
   "source": [
    "# Committing to scripts via TapTweak\n",
    "\n",
    "The following material adapted from the Bitcoin Optech [Schnorr Taproot workshop](https://bitcoinops.org/en/schorr-taproot-workshop/).\n",
    "\n",
    "* Part 1: Tweaking the public key; commitment schemes with tweaks\n",
    "* Part 2: Spending a (tweaked) taproot output along the key path\n",
    "* Part 3 (Case Study): contract commitments\n",
    "\n",
    "The linear property of BIP340 means that we can encode a commitment into a public key, and then reveal that commitment when signing with the private key. We do that by tweaking the private key with the commitment, and using the associated tweaked pubkey. When signing, we can reveal that the original keys were tweaked by the commitment.\n",
    "\n",
    "In part 1, we'll learn about how private/public key pairs can be tweaked, and how we can use that to create a secure commitment scheme. In part 2, we'll create a segwit v1 output and spend it along the key path, using a tweaked private and public key. Part 3 of this chapter is a case study, showing how pay-to-contract with tweaked keys can be used instead of OP_RETURN outputs to create timestamped commitments."
   ]
  },
  {
   "cell_type": "code",
   "execution_count": 30,
   "id": "cc5b2709",
   "metadata": {},
   "outputs": [
    {
     "name": "stdout",
     "output_type": "stream",
     "text": [
      "Private key: 0000000000000000000000000000000000000000000000000000000000000001\n",
      "Public key: 79be667ef9dcbbac55a06295ce870b07029bfcdb2dce28d959f2815b16f81798\n",
      "\n",
      "Signature: 4791b03f4381ddd5f22847d1c736e64d1d8d02f90af83a1373bb6392aae8d132660cc589d47e13a40c6bce2a408887d56f7ecac3895b9a9e5d75fe78b6f2478e\n",
      "\n",
      "Success!\n"
     ]
    }
   ],
   "source": [
    "# Generate a key pair\n",
    "privkey = bytes.fromhex(\"0000000000000000000000000000000000000000000000000000000000000001\")\n",
    "pubkey = tr.pubkey_gen(privkey)\n",
    "print(f\"Private key: {privkey.hex()}\\nPublic key: {pubkey.hex()}\\n\")\n",
    "\n",
    "msg = sha256(b'msg')\n",
    "aux_rand = bytes(32) # auxiliary random data\n",
    "sig = tr.schnorr_sign(msg, privkey, aux_rand)\n",
    "print(f\"Signature: {sig.hex()}\\n\")\n",
    "\n",
    "assert(tr.schnorr_verify(msg, pubkey, sig))\n",
    "print(\"Success!\")"
   ]
  },
  {
   "cell_type": "markdown",
   "id": "db05f0e3",
   "metadata": {},
   "source": [
    "\n",
    "## Part 1: Tweaking the public key\n",
    "\n",
    "Instead of using our original public key as the witness program, we use a tweaked public key.\n",
    "\n",
    "* `[01] [32B Tweaked Public Key]`\n",
    "\n",
    "Tweaking a public key means to alter it with a value (the tweak) such that it remains spendable with knowledge of the original private key and tweak.\n",
    "\n",
    "* `x` / `P`: Original private key / public key pair\n",
    "* `t` / `T`: Tweak value / tweak point\n",
    "* Output script: `[01] [P + T]` = `[01] [xG + tG]`\n",
    "* Spendable by the tweaked private key: `x + t`\n",
    "\n",
    "An observer cannot distinguish between a tweaked and untweaked public key."
   ]
  },
  {
   "cell_type": "markdown",
   "id": "1ae23580",
   "metadata": {},
   "source": [
    "#### Example: Signing with a tweaked keypair\n",
    "\n",
    "In this example, we generate a key pair as before, and then tweak both the private key and public key. We then sign with the tweaked private key and verify that the signature is valid.\n",
    "\n",
    "A _tweak_ is positive scalar value `t` where `0 < t < SECP256K1_ORDER`. There is an associated tweak point `T` such that `T = t*G`.\n",
    "\n",
    "The private key is tweaked by the tweak scalar: `x' = x + t` and the public key is tweaked by the tweak point: `P' = P + T`.\n",
    "\n",
    "The tweaked private key `x'` can be used to produce a valid signature for the tweaked pubkey `P'`."
   ]
  },
  {
   "cell_type": "code",
   "execution_count": 32,
   "id": "2c6b9a35",
   "metadata": {},
   "outputs": [
    {
     "name": "stdout",
     "output_type": "stream",
     "text": [
      "Private key: 0000000000000000000000000000000000000000000000000000000000000001\n",
      "Public key: 79be667ef9dcbbac55a06295ce870b07029bfcdb2dce28d959f2815b16f81798\n",
      "\n",
      "Tweak scalar: 73fbb916db668bf8d6be37c171403793a890f28a10de7a3da40afe12ef5a4494\n",
      "Tweak point: 2526c792e88c0130779ca676e56f1c47e197b53307ecfb35e526238b1bfee43d\n",
      "\n",
      "Success!\n"
     ]
    }
   ],
   "source": [
    "# Using the same private/public keypair as before\n",
    "print(f\"Private key: {privkey.hex()}\\nPublic key: {pubkey.hex()}\\n\")\n",
    "\n",
    "# Let's set a random tweak scalar 0 < t < SECP256K1_ORDER and derive its associated tweak point\n",
    "tweak_val = bytes.fromhex(\"73fbb916db668bf8d6be37c171403793a890f28a10de7a3da40afe12ef5a4494\")\n",
    "\n",
    "# Generate the tweak point in the same way we'd generate a pubkey from a private key\n",
    "tweak_point = tr.pubkey_gen(tweak_val)\n",
    "print(f\"Tweak scalar: {tweak_val.hex()}\\nTweak point: {tweak_point.hex()}\\n\")\n",
    "\n",
    "# Derive the tweaked private key and public key\n",
    "privkey_int = int.from_bytes(privkey, byteorder=\"big\")\n",
    "tweak_int = int.from_bytes(tweak_val, byteorder=\"big\")\n",
    "privkey_tweaked_int = (privkey_int + tweak_int) % tr.SECP256K1_ORDER\n",
    "\n",
    "# Convert the tweaked private key back to bytes\n",
    "privkey_tweaked = privkey_tweaked_int.to_bytes(32, \"big\")\n",
    "\n",
    "# Generate the corresponding tweaked public key in the usual way\n",
    "pubkey_tweaked = tr.pubkey_gen(privkey_tweaked)\n",
    "\n",
    "# Sign the message with tweaked key pair and verify the signature\n",
    "msg = sha256(b'msg')\n",
    "aux = bytes(32)\n",
    "sig = tr.schnorr_sign(msg, privkey_tweaked, aux_rand)\n",
    "\n",
    "assert(tr.schnorr_verify(msg, pubkey_tweaked, sig))\n",
    "print(\"Success!\")"
   ]
  },
  {
   "cell_type": "code",
   "execution_count": 28,
   "id": "82c36785",
   "metadata": {},
   "outputs": [],
   "source": [
    "def taproot_tweak_seckey(seckey0, h):\n",
    "    seckey0 = tr.int_from_bytes(seckey0)\n",
    "    P = tr.point_mul(tr.G, seckey0)\n",
    "    seckey = seckey0 if tr.has_even_y(P) else tr.SECP256K1_ORDER - seckey0\n",
    "    t = tr.int_from_bytes(tr.tagged_hash(\"TapTweak\", tr.bytes_from_int(tr.x(P)) + h))\n",
    "    if t >= tr.SECP256K1_ORDER:\n",
    "        raise ValueError\n",
    "    return tr.bytes_from_int((seckey + t) % tr.SECP256K1_ORDER)"
   ]
  },
  {
   "cell_type": "code",
   "execution_count": 29,
   "id": "06a56052",
   "metadata": {},
   "outputs": [
    {
     "data": {
      "text/plain": [
       "'3ff3139fe26f473bc53679984aac274aca09f83bcf6406c1d2df5913b1bb58ab'"
      ]
     },
     "execution_count": 29,
     "metadata": {},
     "output_type": "execute_result"
    }
   ],
   "source": [
    "taproot_tweak_seckey(privkey, tweak_val).hex()"
   ]
  },
  {
   "cell_type": "code",
   "execution_count": null,
   "id": "44652ee7",
   "metadata": {},
   "outputs": [],
   "source": []
  }
 ],
 "metadata": {
  "kernelspec": {
   "display_name": "Python 3",
   "language": "python",
   "name": "python3"
  },
  "language_info": {
   "codemirror_mode": {
    "name": "ipython",
    "version": 3
   },
   "file_extension": ".py",
   "mimetype": "text/x-python",
   "name": "python",
   "nbconvert_exporter": "python",
   "pygments_lexer": "ipython3",
   "version": "3.7.0"
  }
 },
 "nbformat": 4,
 "nbformat_minor": 5
}
