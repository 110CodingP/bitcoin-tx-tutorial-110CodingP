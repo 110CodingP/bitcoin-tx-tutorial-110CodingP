{
 "cells": [
  {
   "cell_type": "code",
   "execution_count": 1,
   "id": "d758f205",
   "metadata": {},
   "outputs": [],
   "source": [
    "from functions import *"
   ]
  },
  {
   "cell_type": "markdown",
   "id": "bc3a8cfb",
   "metadata": {},
   "source": [
    "# Schnorr Signatures and TapTweaks\n",
    "\n",
    "### Reading\n",
    "- [What the heck is Schnorr - Rajarshi Maitra]((https://medium.com/bitbees/what-the-heck-is-schnorr-52ef5dba289f)\n",
    "- https://bitcoin.stackexchange.com/questions/107954/does-every-private-key-have-two-public-keys-ie-y-and-negated-y-secp256k1/107957#107957\n",
    "\n",
    "Related reading\n",
    "- https://github.com/t-bast/lightning-docs/blob/master/schnorr.md\n",
    "\n",
    "The following material adapted from the Bitcoin Optech [Schnorr Taproot workshop](https://bitcoinops.org/en/schorr-taproot-workshop/).\n",
    "\n",
    "\n",
    "## Introduction\n",
    "\n",
    "You may have heard that taproot introduced schnorr signatures, and that taproot signatures have a linear property, but what does this mean? In this section we'll cover some basics of schnorr signatures, and how commitments can be encoded into public keys via taptweaks. By the end of this section you should understand the advantages of schnorr signatures over ECDSA signatures, and how to tweak public and private keys.\n",
    "\n",
    "\n",
    "## Background\n",
    "\n",
    "Since schnorr signatures were only recently introduced in bitcoin in taproot, you may think schnorr signatures were developed after ECDSA signatures, but you'd be wrong. Rajarshi Maitra puts it well in his blog post = [What the heck is Schnorr]((https://medium.com/bitbees/what-the-heck-is-schnorr-52ef5dba289f)\n",
    "\n",
    "> Schnorr signature was invented by Claus-Peter Schnorr back in the 1980s. His digital signature implementation was much simpler than contemporary other algorithms. But he did the worst thing that can ever happen to any kind of knowledge. He patented it before he published the paper. Because of his patent, the Schnorr signature algorithm did not see any widespread use for decades. In fact, ECDSA’s predecessor, DSA was created specifically to bypass the Schnorr patent.\n",
    "\n",
    "One of the ways ECDSA was designed to bypass the Schnorr patent was to break the useful linearity of Schnorr signatures. For this reason the math behind Schnorr signatures is also perhaps more intuitive than ECDSA. \n",
    "\n",
    "Elliptic curve private keys have a linear property, such that the sum of private keys will produce a sum of public keys equal to the sum of the individiual public keys. For a review of this principle, refer to the section '[Elliptic Curve Math Review](https://github.com/DariusParvin/bitcoin-tx-tutorial/blob/main/elliptic_curve_math_review.ipynb)'. With Schnorr signatures, this linearity extends to the signatures themselves. \n",
    "\n",
    "## Schnorr Signatures\n",
    "\n",
    "### x-only pubkeys\n",
    "\n",
    "Taproot uses a new pubkey format known as 'x-only pubkeys' as they contain only the x-coordinate of the public key point. Note that the public key point will always be interpreted as having an even y-coordinate. This means if the secret key produces a public key with an odd y-coordinate, the secret key and public key will need to be negated. For more on this see the 'x-only pubkey' section in the Elliptic Curve Math Review. Below we'll use the reference code from BIP340 for generating the pubkey from the secret key."
   ]
  },
  {
   "cell_type": "markdown",
   "id": "7c4f5e98",
   "metadata": {},
   "source": [
    "\n",
    "\n"
   ]
  },
  {
   "cell_type": "code",
   "execution_count": 10,
   "id": "3e6b7f7d",
   "metadata": {},
   "outputs": [],
   "source": [
    "def pubkey_gen(seckey: bytes) -> bytes:\n",
    "    d0 = tr.int_from_bytes(seckey)\n",
    "    if not (1 <= d0 <= tr.n - 1):\n",
    "        raise ValueError('The secret key must be an integer in the range 1..n-1.')\n",
    "    P = tr.point_mul(tr.G, d0)\n",
    "    assert P is not None\n",
    "    return tr.bytes_from_point(P)"
   ]
  },
  {
   "cell_type": "markdown",
   "id": "2ca20106",
   "metadata": {},
   "source": [
    "#### Recap of creating and verifying schnorr signatures\n",
    "\n",
    "Below is a basic example of creating a private and public keypair, signing the message 'msg', then verifying it."
   ]
  },
  {
   "cell_type": "code",
   "execution_count": 11,
   "id": "531055c8",
   "metadata": {},
   "outputs": [
    {
     "name": "stdout",
     "output_type": "stream",
     "text": [
      "Private key: 0000000000000000000000000000000000000000000000000000000000000001\n",
      "Public key: 79be667ef9dcbbac55a06295ce870b07029bfcdb2dce28d959f2815b16f81798\n",
      "\n",
      "Signature: 4791b03f4381ddd5f22847d1c736e64d1d8d02f90af83a1373bb6392aae8d132660cc589d47e13a40c6bce2a408887d56f7ecac3895b9a9e5d75fe78b6f2478e\n",
      "\n",
      "Success!\n"
     ]
    }
   ],
   "source": [
    "# Generate a key pair\n",
    "privkey = bytes.fromhex(\"0000000000000000000000000000000000000000000000000000000000000001\")\n",
    "pubkey = pubkey_gen(privkey)\n",
    "print(f\"Private key: {privkey.hex()}\\nPublic key: {pubkey.hex()}\\n\")\n",
    "\n",
    "msg = sha256(b'msg')\n",
    "aux_rand = bytes(32) # auxiliary random data\n",
    "sig = tr.schnorr_sign(msg, privkey, aux_rand)\n",
    "print(f\"Signature: {sig.hex()}\\n\")\n",
    "\n",
    "assert(tr.schnorr_verify(msg, pubkey, sig))\n",
    "print(\"Success!\")"
   ]
  },
  {
   "cell_type": "markdown",
   "id": "ce422bbc",
   "metadata": {},
   "source": [
    "## TapTweaks\n",
    "\n",
    "* Part 1: Tweaking the public key; commitment schemes with tweaks\n",
    "* Part 2: Spending a (tweaked) taproot output along the key path\n",
    "* Part 3 (Case Study): contract commitments\n",
    "\n",
    "### What is a 'taptweak'?\n",
    "\n",
    "The linear property of BIP340 means that we can encode a commitment into a public key, and then reveal that commitment when signing with the private key. We do that by tweaking the private key with the commitment, and using the associated tweaked pubkey. When signing, we can reveal that the original keys were tweaked by the commitment.\n",
    "\n",
    "In part 1, we'll learn about how private/public key pairs can be tweaked, and how we can use that to create a secure commitment scheme. In part 2, we'll create a segwit v1 output and spend it along the key path, using a tweaked private and public key. Part 3 of this chapter is a case study, showing how pay-to-contract with tweaked keys can be used instead of OP_RETURN outputs to create timestamped commitments.\n",
    "\n",
    "## Part 1: Tweaking the public key\n",
    "\n",
    "Instead of using our original public key as the witness program, we use a tweaked public key.\n",
    "\n",
    "* `[01] [32B Tweaked Public Key]`\n",
    "\n",
    "Tweaking a public key means to alter it with a value (the tweak) such that it remains spendable with knowledge of the original private key and tweak.\n",
    "\n",
    "* `x` / `P`: Original private key / public key pair\n",
    "* `t` / `T`: Tweak value / tweak point\n",
    "* Output script: `[01] [P + T]` = `[01] [xG + tG]`\n",
    "* Spendable by the tweaked private key: `x + t`\n",
    "\n",
    "An observer cannot distinguish between a tweaked and untweaked public key."
   ]
  },
  {
   "cell_type": "markdown",
   "id": "447263ce",
   "metadata": {},
   "source": [
    "#### Example: Signing with a tweaked keypair\n",
    "\n",
    "In this example, we generate a key pair as before, and then tweak both the private key and public key. We then sign with the tweaked private key and verify that the signature is valid.\n",
    "\n",
    "A _tweak_ is positive scalar value `t` where `0 < t < SECP256K1_ORDER`. There is an associated tweak point `T` such that `T = t*G`.\n",
    "\n",
    "The private key is tweaked by the tweak scalar: `x' = x + t` and the public key is tweaked by the tweak point: `P' = P + T`.\n",
    "\n",
    "The tweaked private key `x'` can be used to produce a valid signature for the tweaked pubkey `P'`."
   ]
  },
  {
   "cell_type": "code",
   "execution_count": 12,
   "id": "20aefa7e",
   "metadata": {},
   "outputs": [
    {
     "name": "stdout",
     "output_type": "stream",
     "text": [
      "Private key: 0000000000000000000000000000000000000000000000000000000000000001\n",
      "Public key: 79be667ef9dcbbac55a06295ce870b07029bfcdb2dce28d959f2815b16f81798\n",
      "\n",
      "Tweak scalar: 73fbb916db668bf8d6be37c171403793a890f28a10de7a3da40afe12ef5a4494\n",
      "Tweak point: 2526c792e88c0130779ca676e56f1c47e197b53307ecfb35e526238b1bfee43d\n",
      "\n",
      "privkey_tweaked: 73fbb916db668bf8d6be37c171403793a890f28a10de7a3da40afe12ef5a4495\n",
      "pubkey_tweaked: 6cd9429c131128c0d19a26699521c11a75923deb307eb5a4fe04d243082882bb\n",
      "\n",
      "Success!\n"
     ]
    }
   ],
   "source": [
    "# Generate a key pair\n",
    "privkey = bytes.fromhex(\"0000000000000000000000000000000000000000000000000000000000000001\")\n",
    "pubkey = pubkey_gen(privkey)\n",
    "print(f\"Private key: {privkey.hex()}\\nPublic key: {pubkey.hex()}\\n\")\n",
    "\n",
    "# Let's set a random tweak scalar 0 < t < SECP256K1_ORDER and derive its associated tweak point\n",
    "tweak_val = bytes.fromhex(\"73fbb916db668bf8d6be37c171403793a890f28a10de7a3da40afe12ef5a4494\")\n",
    "\n",
    "# Generate the tweak point in the same way we'd generate a pubkey from a private key\n",
    "tweak_point = pubkey_gen(tweak_val)\n",
    "print(f\"Tweak scalar: {tweak_val.hex()}\\nTweak point: {tweak_point.hex()}\\n\")\n",
    "\n",
    "# Derive the tweaked private key and public key\n",
    "# Note that the private key may need to be negated to ensure the corresponding public key has\n",
    "# an even Y-coordinate (BIP340)\n",
    "d0 = int.from_bytes(privkey, byteorder=\"big\")\n",
    "P = tr.point_mul(tr.G, d0)\n",
    "d = d0 if tr.has_even_y(P) else tr.SECP256K1_ORDER - d0\n",
    "tweak_int = int.from_bytes(tweak_val, byteorder=\"big\")\n",
    "privkey_tweaked_int = (d + tweak_int) % tr.SECP256K1_ORDER\n",
    "\n",
    "# Convert the tweaked private key back to bytes\n",
    "privkey_tweaked = privkey_tweaked_int.to_bytes(32, \"big\")\n",
    "\n",
    "# Generate the corresponding tweaked public key in the usual way\n",
    "pubkey_tweaked = tr.pubkey_gen(privkey_tweaked)\n",
    "\n",
    "print(f\"privkey_tweaked: {privkey_tweaked.hex()}\\npubkey_tweaked: {pubkey_tweaked.hex()}\\n\")\n",
    "\n",
    "# Sign the message with tweaked key pair and verify the signature\n",
    "msg = sha256(b'msg')\n",
    "aux = bytes(32)\n",
    "sig = tr.schnorr_sign(msg, privkey_tweaked, aux_rand)\n",
    "\n",
    "assert(tr.schnorr_verify(msg, pubkey_tweaked, sig))\n",
    "print(\"Success!\")"
   ]
  },
  {
   "cell_type": "markdown",
   "id": "8b267811",
   "metadata": {},
   "source": [
    "### TODO: Show why this commitment is not secure"
   ]
  },
  {
   "cell_type": "code",
   "execution_count": 13,
   "id": "3b2240f5",
   "metadata": {},
   "outputs": [],
   "source": [
    "def taproot_tweak_seckey(seckey0, h):\n",
    "    seckey0 = tr.int_from_bytes(seckey0)\n",
    "    P = tr.point_mul(tr.G, seckey0)\n",
    "    seckey = seckey0 if tr.has_even_y(P) else tr.SECP256K1_ORDER - seckey0\n",
    "    t = tr.int_from_bytes(tr.tagged_hash(\"TapTweak\", tr.bytes_from_int(tr.x(P)) + h))\n",
    "    if t >= tr.SECP256K1_ORDER:\n",
    "        raise ValueError\n",
    "    return tr.bytes_from_int((seckey + t) % tr.SECP256K1_ORDER)"
   ]
  },
  {
   "cell_type": "code",
   "execution_count": 14,
   "id": "12cff81d",
   "metadata": {},
   "outputs": [],
   "source": [
    "def tweak_seckey(seckey, t):\n",
    "    seckey = tr.int_from_bytes(seckey)\n",
    "    t = tr.int_from_bytes(t)\n",
    "    return tr.bytes_from_int((seckey + t) % tr.SECP256K1_ORDER)"
   ]
  },
  {
   "cell_type": "code",
   "execution_count": 15,
   "id": "28179743",
   "metadata": {},
   "outputs": [
    {
     "data": {
      "text/plain": [
       "'73fbb916db668bf8d6be37c171403793a890f28a10de7a3da40afe12ef5a4495'"
      ]
     },
     "execution_count": 15,
     "metadata": {},
     "output_type": "execute_result"
    }
   ],
   "source": [
    "tweak_seckey(privkey, tweak_val).hex()"
   ]
  },
  {
   "cell_type": "markdown",
   "id": "df773deb",
   "metadata": {},
   "source": [
    "## Commitment schemes with tweaks\n",
    "\n",
    "Taproot uses the tweak as a commitment for spending script paths. However, simply applying the committed value as a public key tweak is not sufficient, as this does not represent a secure cryptographic commitment.\n",
    "\n",
    "![test](images/taproot-workshop/taptweak0.jpg)\n",
    "\n",
    "Instead, the committed value must first be hashed with the untweaked public key point. This commitment scheme is called *pay-to-contract*. **It does not allow the modification of a committed value for a given public key point Q.**"
   ]
  },
  {
   "cell_type": "markdown",
   "id": "16b43816",
   "metadata": {},
   "source": [
    "#### Example 2.2.5 - Pay-to-contract: Tweaking the pubkey with `H(P|msg)`\n",
    "\n",
    "In this example, we demonstrate a _secure_ commitment scheme called pay-to-contract. The private key is tweaked with the scalar `H(P|c)`. Since `P` appears both inside and outside the hash, it isn't possible to solve for a different contract `c` by modifying `x`."
   ]
  },
  {
   "cell_type": "code",
   "execution_count": 19,
   "id": "c0a78ea7",
   "metadata": {},
   "outputs": [
    {
     "name": "stdout",
     "output_type": "stream",
     "text": [
      "Tweaked pubkey generated using tweaked private key:  bba324ab8b1759427e62b8f2a1a15ac981748dec744b08c400efd25dc13e16a9\n",
      "Tweaked pubkey generated without private key:  bba324ab8b1759427e62b8f2a1a15ac981748dec744b08c400efd25dc13e16a9\n",
      "Success!\n"
     ]
    }
   ],
   "source": [
    "# Generate a key pair\n",
    "privkey = bytes.fromhex(\"0000000000000000000000000000000000000000000000000000000000000004\")\n",
    "\n",
    "# Set the private key to an integer for elliptic curve operations\n",
    "d0 = int.from_bytes(privkey, byteorder=\"big\")\n",
    "\n",
    "# We need this step to make sure we negate pubkeys with odd y-coordinates\n",
    "d = d0 if tr.has_even_y(pubkey) else tr.SECP256K1_ORDER - d0\n",
    "\n",
    "# Generate the public key. Note that we don't use the function pubkey_gen as\n",
    "# we want the full point (not just the x-coordinate)\n",
    "P = tr.point_mul(tr.G, d)\n",
    "\n",
    "# The contract data we want to commit to\n",
    "contract = \"Alice agrees to pay 10 BTC to Bob\"\n",
    "\n",
    "# The tweak will commit to the contract data as well as the original pubkey to protect\n",
    "# against the vulnerability mentioned in the previous part\n",
    "tweak_int = tr.int_from_bytes(tr.tagged_hash(\"TapTweak\", tr.bytes_from_int(tr.x(pubkey)) + contract.encode('utf-8')))\n",
    "\n",
    "# Generate the tweak point\n",
    "T = tr.point_mul(tr.G, tweak_int)\n",
    "\n",
    "# Generate the tweaked pubkey by adding the tweak point and pubkey\n",
    "TW = tr.point_add(P, T)\n",
    "\n",
    "# Extract the x-coordinate for our final tweaked x-only pubkey\n",
    "tweaked_x_only_pubkey = tr.bytes_from_int(tr.x(TW))\n",
    "\n",
    "# We can check that we get the same pubkey when generating they pubkey using the tweaked secret key\n",
    "pubkey_from_tweaked_privkey = pubkey_gen(tr.bytes_from_int((d + tweak_int) % tr.SECP256K1_ORDER))\n",
    "\n",
    "assert(tweaked_x_only_pubkey == pubkey_from_tweaked_privkey)\n",
    "print(\"Tweaked pubkey generated using tweaked private key: \", tweaked_x_only_pubkey.hex())\n",
    "print(\"Tweaked pubkey generated without private key: \", pubkey_from_tweaked_privkey.hex())\n",
    "print(\"Success!\")"
   ]
  },
  {
   "cell_type": "code",
   "execution_count": null,
   "id": "becc79ee",
   "metadata": {},
   "outputs": [],
   "source": []
  }
 ],
 "metadata": {
  "kernelspec": {
   "display_name": "Python 3",
   "language": "python",
   "name": "python3"
  },
  "language_info": {
   "codemirror_mode": {
    "name": "ipython",
    "version": 3
   },
   "file_extension": ".py",
   "mimetype": "text/x-python",
   "name": "python",
   "nbconvert_exporter": "python",
   "pygments_lexer": "ipython3",
   "version": "3.7.0"
  }
 },
 "nbformat": 4,
 "nbformat_minor": 5
}
