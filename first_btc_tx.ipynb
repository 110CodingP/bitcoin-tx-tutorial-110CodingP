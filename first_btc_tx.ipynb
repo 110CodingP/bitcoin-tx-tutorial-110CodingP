{
 "cells": [
  {
   "cell_type": "markdown",
   "id": "c5918dfc",
   "metadata": {},
   "source": [
    "# Bitcoin Transaction Overview\n",
    "\n",
    "## Introduction\n",
    "Transactions are perhaps the most important part of the bitcoin protocol. All the other aspects of the bitcoin protocol ultimately serve to verify, secure, and agree upon the order of bitcoin transactions. \n",
    "\n",
    "The first bitcoin transactions created by Satoshi are very different to the typical bitcoin transaction you'd see on the blockchain today. Over the years there have been a number of upgrades to the bitcoin protocol that have resolved issues such as transaction malleability, and introduced new features such as timelocks, and schnorr signatures. \n",
    "\n",
    "To understand how the various types of bitcoin transactions work, it's helpful to understand how the earliest transaction types worked, and how the new features got intoduced. What may otherwise seem like a strangely written protocol with counterintuitive behaviour begins to make more sense when appreciating that all the upgrades have been implemented in such a way to avoid causing a hardfork. In other words, any valid bitcoin transactions using the newer features must still be valid from the point of view of the earliest bitcoin node versions.\n",
    "\n",
    "With this view in mind, we'll start by looking at with the very first transaction types, then work our way chronologically through the various upgrades to arrive at the latest transaction types and features used today. "
   ]
  },
  {
   "cell_type": "markdown",
   "id": "4fecc291",
   "metadata": {},
   "source": [
    "## The first bitcoin transaction\n",
    "\n",
    "Legacy bitcoin transactions have just four main components: the version, inputs, outputs, and locktime. To illustrate each of these fields and what they do, we'll go through an example using the first ever bitcoin transaction at January 11, 2009 at 7:30 PM PST. It was a transfer of 10 BTC from Satoshi Nakamoto to Hal Finney.\n",
    "\n",
    "This transaction spent a UTXO that was mined directly by Satoshi, where the block reward was 50 BTC. The transaction had two outputs, one to Hal Finney for 10 BTC, and a change output for 40 BTC.\n",
    "\n",
    "Here is the raw serialized transaction in hex, as you'd see it in the blockchain:\n",
    "\n",
    "```\n",
    "0100000001c997a5e56e104102fa209c6a852dd90660a20b2d9c352423edce25857fcd3704000000004847304402204e45e16932b8af514961a1d3a1a25fdf3f4f7732e9d624c6c61548ab5fb8cd410220181522ec8eca07de4860a4acdd12909d831cc56cbbac4622082221a8768d1d0901ffffffff0200ca9a3b00000000434104ae1a62fe09c5f51b13905f07f06b99a2f7159b2225f374cd378d71302fa28414e7aab37397f554a7df5f142c21c1b7303b8a0626f1baded5c72a704f7e6cd84cac00286bee0000000043410411db93e1dcdb8a016b49840f8c53bc1eb68a382e97b1482ecad7b148a6909a5cb2e0eaddfb84ccf9744464f82e160bfa9b8b64f9d4c03f999b8643f656b412a3ac00000000\n",
    "```"
   ]
  },
  {
   "cell_type": "markdown",
   "id": "b08b8637",
   "metadata": {},
   "source": [
    "### Version\n",
    "- `01000000` - Version number (4-byte signed integer)\n",
    "\n",
    "The first four bytes of a transaction represents the version number. This number is a way for the transaction to signal what features or consensus rules the transaction may be using. To date, the only feature that uses the version field is relative timelocks (BIP68). What this means is that a relative timelock will only be enforced if the version field is set to 2. We'll demonstrate this in the chapter on relative timelocks.\n",
    "\n",
    "In the rest of the version numbers may be used to signal new features in the future that don't currently exist."
   ]
  },
  {
   "cell_type": "markdown",
   "id": "566f3136",
   "metadata": {},
   "source": [
    "### Inputs\n",
    "\n",
    "```\n",
    "01c997a5e56e104102fa209c6a852dd90660a20b2d9c352423edce25857fcd3704000000004847304402204e45e16932b8af514961a1d3a1a25fdf3f4f7732e9d624c6c61548ab5fb8cd410220181522ec8eca07de4860a4acdd12909d831cc56cbbac4622082221a8768d1d0901ffffffff\n",
    "```\n",
    "Breaking it down further:\n",
    "- `01` - Number of inputs (1-9 byte variable integer)\n",
    "- For each input:\n",
    "    - outpoint\n",
    "        - `c997a5e56e104102fa209c6a852dd90660a20b2d9c352423edce25857fcd3704` - Input txid (32-byte hash big endian)\n",
    "        - `00000000` - Index (4-byte integer)\n",
    "    - scriptSig:\n",
    "        - `48` - scriptSig length (1-9 byte variable integer)\n",
    "        - `47304402204e45e16932b8af514961a1d3a1a25fdf3f4f7732e9d624c6c61548ab5fb8cd410220181522ec8eca07de4860a4acdd12909d831cc56cbbac4622082221a8768d1d0901` - scriptSig (arbitrary length script)\n",
    "    - `ffffffff` - sequence (4 bytes)  \n",
    "    \n",
    "TODO: description and purpose of each field"
   ]
  },
  {
   "cell_type": "markdown",
   "id": "a90c1a17",
   "metadata": {},
   "source": [
    "### Outputs\n",
    "\n",
    "```\n",
    "0200ca9a3b00000000434104ae1a62fe09c5f51b13905f07f06b99a2f7159b2225f374cd378d71302fa28414e7aab37397f554a7df5f142c21c1b7303b8a0626f1baded5c72a704f7e6cd84cac00286bee0000000043410411db93e1dcdb8a016b49840f8c53bc1eb68a382e97b1482ecad7b148a6909a5cb2e0eaddfb84ccf9744464f82e160bfa9b8b64f9d4c03f999b8643f656b412a3ac\n",
    "```\n",
    "\n",
    "Breaking it down:\n",
    "- `02` - Number of outputs (1-9 byte variable integer)\n",
    "- For each output:\n",
    "    - First output:\n",
    "        - `00ca9a3b00000000` - amount in satoshis (8-byte integer)\n",
    "        - `43` - scriptPubkey length (1-9 byte variable integer)\n",
    "        - `4104ae1a62fe09c5f51b13905f07f06b99a2f7159b2225f374cd378d71302fa28414e7aab37397f554a7df5f142c21c1b7303b8a0626f1baded5c72a704f7e6cd84cac` - scriptPubkey\n",
    "    - Second output:\n",
    "        - `00286bee00000000` - amount in satoshis (8-byte integer)\n",
    "        - `43` - scriptPubkey length (1-9 byte variable integer)\n",
    "        - `410411db93e1dcdb8a016b49840f8c53bc1eb68a382e97b1482ecad7b148a6909a5cb2e0eaddfb84ccf9744464f82e160bfa9b8b64f9d4c03f999b8643f656b412a3ac` - scriptPubkey\n",
    "\n",
    "TODO: description and purpose of each field"
   ]
  },
  {
   "cell_type": "markdown",
   "id": "46f5c20b",
   "metadata": {},
   "source": [
    "### Locktime\n",
    "\n",
    "- `00000000` - Locktime (4 bytes)\n",
    "\n",
    "The final four bytes are the locktime. The locktime is used to set an absolute timelock on the transaction. The timelock can be expressed in blocks or unix time. Only once this timelock has expired can the transaction be included in a block. We will cover locktime in detail in the chapter on timelocks."
   ]
  },
  {
   "cell_type": "markdown",
   "id": "87b8a482",
   "metadata": {},
   "source": [
    "## Transaction metadata\n",
    "\n",
    "To make more sense of this transaction, we can decode it using the bitcoind command `decoderawtransaction`, or an online web app such as https://btc.com/tools/tx/decode.\n",
    "\n",
    "```\n",
    "{\n",
    "    \"txid\": \"f4184fc596403b9d638783cf57adfe4c75c605f6356fbc91338530e9831e9e16\",\n",
    "    \"hash\": \"f4184fc596403b9d638783cf57adfe4c75c605f6356fbc91338530e9831e9e16\",\n",
    "    \"version\": 1,\n",
    "    \"size\": 275,\n",
    "    \"vsize\": 275,\n",
    "    \"weight\": 1100,\n",
    "    \"locktime\": 0,\n",
    "    \"vin\": [\n",
    "        {\n",
    "            \"txid\": \"0437cd7f8525ceed2324359c2d0ba26006d92d856a9c20fa0241106ee5a597c9\",\n",
    "            \"vout\": 0,\n",
    "            \"scriptSig\": {\n",
    "                \"asm\": \"304402204e45e16932b8af514961a1d3a1a25fdf3f4f7732e9d624c6c61548ab5fb8cd410220181522ec8eca07de4860a4acdd12909d831cc56cbbac4622082221a8768d1d09[ALL]\",\n",
    "                \"hex\": \"47304402204e45e16932b8af514961a1d3a1a25fdf3f4f7732e9d624c6c61548ab5fb8cd410220181522ec8eca07de4860a4acdd12909d831cc56cbbac4622082221a8768d1d0901\"\n",
    "            },\n",
    "            \"sequence\": 4294967295\n",
    "        }\n",
    "    ],\n",
    "    \"vout\": [\n",
    "        {\n",
    "            \"value\": 10,\n",
    "            \"n\": 0,\n",
    "            \"scriptPubKey\": {\n",
    "                \"asm\": \"04ae1a62fe09c5f51b13905f07f06b99a2f7159b2225f374cd378d71302fa28414e7aab37397f554a7df5f142c21c1b7303b8a0626f1baded5c72a704f7e6cd84c OP_CHECKSIG\",\n",
    "                \"hex\": \"4104ae1a62fe09c5f51b13905f07f06b99a2f7159b2225f374cd378d71302fa28414e7aab37397f554a7df5f142c21c1b7303b8a0626f1baded5c72a704f7e6cd84cac\",\n",
    "                \"type\": \"pubkey\"\n",
    "            }\n",
    "        },\n",
    "        {\n",
    "            \"value\": 40,\n",
    "            \"n\": 1,\n",
    "            \"scriptPubKey\": {\n",
    "                \"asm\": \"0411db93e1dcdb8a016b49840f8c53bc1eb68a382e97b1482ecad7b148a6909a5cb2e0eaddfb84ccf9744464f82e160bfa9b8b64f9d4c03f999b8643f656b412a3 OP_CHECKSIG\",\n",
    "                \"hex\": \"410411db93e1dcdb8a016b49840f8c53bc1eb68a382e97b1482ecad7b148a6909a5cb2e0eaddfb84ccf9744464f82e160bfa9b8b64f9d4c03f999b8643f656b412a3ac\",\n",
    "                \"type\": \"pubkey\"\n",
    "            }\n",
    "        }\n",
    "    ]\n",
    "}\n",
    "```\n",
    "\n",
    "TODO\n",
    "\n",
    "- txid\n",
    "- size/vsize/weight\n",
    "- script asm vs hex"
   ]
  },
  {
   "cell_type": "markdown",
   "id": "6f52e9e1",
   "metadata": {},
   "source": [
    "## Things that have changed\n",
    "\n",
    "TODO\n",
    "\n",
    "- pubkeys\n",
    "    - uncompressed -> compressed -> x-only\n",
    "- P2PK\n",
    "    - P2PKH, P2SH\n",
    "- Addresses\n",
    "- Script OP_CODES\n",
    "    - Script level timelocks\n",
    "- Segwit\n",
    "    - Moving scriptSig to a new witness field\n",
    "    - Sighash generation\n",
    "- Taproot\n",
    "    - Schnorr signatures, musig, commitment tweaks\n",
    "    - Script trees\n",
    "    - x-only pubkeys\n",
    "    - Sighash generation"
   ]
  },
  {
   "cell_type": "markdown",
   "id": "0bda16df",
   "metadata": {},
   "source": [
    "## Coinbase transactions\n",
    "\n",
    "TODO\n",
    "\n",
    "```\n",
    "01000000010000000000000000000000000000000000000000000000000000000000000000ffffffff4d04ffff001d0104455468652054696d65732030332f4a616e2f32303039204368616e63656c6c6f72206f6e206272696e6b206f66207365636f6e64206261696c6f757420666f722062616e6b73ffffffff0100f2052a01000000434104678afdb0fe5548271967f1a67130b7105cd6a828e03909a67962e0ea1f61deb649f6bc3f4cef38c4f35504e51ec112de5c384df7ba0b8d578a4c702b6bf11d5fac00000000\n",
    "```\n"
   ]
  },
  {
   "cell_type": "markdown",
   "id": "0a4a4568",
   "metadata": {},
   "source": [
    "# Questions\n",
    "\n",
    "1. Deconstructing the bitcoin transaction above, you will notice that there are no special characters to mark the beginning or end of the different fields. How is it possible then to parse raw bitcoin transactions?"
   ]
  },
  {
   "cell_type": "markdown",
   "id": "3b99a1ec",
   "metadata": {},
   "source": [
    "# Answers\n",
    "\n",
    "1. The fields of a transaction either have a fixed length (e.g. `version` and `locktime` are 4 bytes each), or they are preceeded with a variable integer that denoted how long the next component will be (e.g. 'Number of inputs' and 'scriptSig length')."
   ]
  },
  {
   "cell_type": "code",
   "execution_count": null,
   "id": "a48066c1",
   "metadata": {},
   "outputs": [],
   "source": []
  }
 ],
 "metadata": {
  "kernelspec": {
   "display_name": "Python 3",
   "language": "python",
   "name": "python3"
  },
  "language_info": {
   "codemirror_mode": {
    "name": "ipython",
    "version": 3
   },
   "file_extension": ".py",
   "mimetype": "text/x-python",
   "name": "python",
   "nbconvert_exporter": "python",
   "pygments_lexer": "ipython3",
   "version": "3.7.0"
  }
 },
 "nbformat": 4,
 "nbformat_minor": 5
}
