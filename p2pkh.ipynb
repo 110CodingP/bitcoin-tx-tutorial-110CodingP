{
 "cells": [
  {
   "cell_type": "code",
   "execution_count": 1,
   "metadata": {
    "code_folding": [
     0
    ]
   },
   "outputs": [],
   "source": [
    "# Import libraries\n",
    "import base58\n",
    "import ecdsa\n",
    "import hashlib\n",
    "import json\n",
    "import os\n",
    "import subprocess\n",
    "import time"
   ]
  },
  {
   "cell_type": "code",
   "execution_count": 2,
   "metadata": {
    "code_folding": [
     0
    ]
   },
   "outputs": [],
   "source": [
    "# Useful functions (covered in previous sections of the course)\n",
    "\n",
    "def hash256(data: bytes):\n",
    "    '''Two rounds of SHA256 (aka Hash256)'''\n",
    "    hash_1 = hashlib.sha256(data).digest()\n",
    "    hash_2 = hashlib.sha256(hash_1).digest()\n",
    "    return hash_2\n",
    "\n",
    "def hash160(data: bytes):\n",
    "    '''sha256 followed by ripemd160'''\n",
    "    hash_1 = hashlib.sha256(data).digest()\n",
    "    hash_2 = hashlib.new('ripemd160', hash_1).digest()\n",
    "    return hash_2\n",
    "\n",
    "def privkey_to_pubkey(privkey: bytes):\n",
    "    '''Converts a private key (bytes) to a compressed pubkey (bytes)'''\n",
    "    privkey = ecdsa.SigningKey.from_string(privkey, curve=ecdsa.SECP256k1) # Don't forget to specify the curve\n",
    "    uncompressed_pubkey = privkey.get_verifying_key()\n",
    "\n",
    "    x_cor = bytes.fromhex(uncompressed_pubkey.to_string().hex())[:32] # The first 32 bytes are the x coordinate\n",
    "    y_cor = bytes.fromhex(uncompressed_pubkey.to_string().hex())[32:] # The last 32 bytes are the y coordinate\n",
    "    if int.from_bytes(y_cor, byteorder=\"big\", signed=True) % 2 == 0: # We need to turn the y_cor into a number.\n",
    "        compressed_pubkey = bytes.fromhex(\"02\") + x_cor\n",
    "    else:\n",
    "        compressed_pubkey = bytes.fromhex(\"03\") + x_cor\n",
    "    return compressed_pubkey\n",
    "\n",
    "def encode_base58_checksum(b: bytes):\n",
    "    return base58.b58encode(b + hash256(b)[:4]).decode()\n",
    "\n",
    "def decode_base58(s: str):\n",
    "    return base58.b58decode(s)\n",
    "\n",
    "def pk_to_p2pkh(compressed: bytes, network: str):\n",
    "    '''Creates a p2pkh address from a compressed pubkey'''\n",
    "    pk_hash = hash160(compressed)\n",
    "    if network == \"regtest\" or network == \"testnet\":\n",
    "        prefix = bytes.fromhex(\"6f\")\n",
    "    elif network == \"mainnet\":\n",
    "        prefix = bytes.fromhex(\"00\")\n",
    "    else:\n",
    "        return \"Enter the network: testnet/regtest/mainnet\"\n",
    "    return encode_base58_checksum(prefix + pk_hash)\n",
    "\n",
    "def pushbytes(data: bytes):\n",
    "    '''appends the length of the input in bytes. \n",
    "    Used for adding OP_PUSHBYTES in bitcoin script where stack items can be of arbitrary length.\n",
    "    '''\n",
    "    op_pushbyte = (len(data)).to_bytes(1, byteorder=\"little\", signed=False)\n",
    "    return op_pushbyte + data"
   ]
  },
  {
   "cell_type": "markdown",
   "metadata": {},
   "source": [
    "# Creating a P2PKH transaction"
   ]
  },
  {
   "cell_type": "markdown",
   "metadata": {},
   "source": [
    "In this section we'll create a P2PKH transaction from scratch in python. We'll go through each part of the transaction, how it's constructed, signed, and we'll test it using bitcoin core in regtest mode.\n",
    "\n",
    "## Reading\n",
    "- Andreas Antonopoulos - Mastering Bitcoin Chapter 6\n",
    "- Jimmy Song - Programming Bitcoin Chapters 5 and 7 "
   ]
  },
  {
   "cell_type": "markdown",
   "metadata": {},
   "source": [
    "## Setup \n",
    "\n",
    "#### *Darius - I'm thinking everything in this section, up to \"Spending a p2pkh UTXO\" could be done behind the scenes as part of just setting up the notebook. Something similar would need to be done for each transaction type. Also this way we can load in a pre-mined blockchain and work with a fixed input txid and index.*\n",
    "\n",
    "### Requirements\n",
    "For this exercise we'll need Bitcoin Core (v22 or higher) with the application data is stored in \n",
    "```$HOME/Library/Application Support/Bitcoin```.\n",
    "\n",
    "### Setup bitcoind in regtest\n",
    "Start up regtest mode, delete any regtest network history so we are starting from scratch. Create a wallet so that we can fund our first output using the `sendtoaddress` command. Mine 101 blocks so that the mining reward first block will have sufficient block maturity (100 blocks) to spend from."
   ]
  },
  {
   "cell_type": "code",
   "execution_count": 3,
   "metadata": {
    "code_folding": []
   },
   "outputs": [],
   "source": [
    "# Make sure bitcoind is not already running\n",
    "os.system(\"bitcoin-cli -regtest stop\")\n",
    "time.sleep(2) \n",
    "\n",
    "# Delete any previous files to restart regtest\n",
    "os.system(\"rm -rfv $HOME/Library/Application\\ Support/Bitcoin/regtest/\")\n",
    "\n",
    "# Start up bitcoind in regtest mode\n",
    "os.system(\"bitcoind -regtest -daemon -fallbackfee=0.0002\")\n",
    "time.sleep(1.5)\n",
    "\n",
    "# Create a new wallet and address that we can mine blocks so that we can fund our transactions\n",
    "wallet = subprocess.getoutput(\"bitcoin-cli -regtest createwallet mywallet\")\n",
    "address = subprocess.getoutput(\"bitcoin-cli -regtest getnewaddress\")\n",
    "\n",
    "# Generate 101 blocks so that the first block's block reward reaches maturity\n",
    "result = subprocess.getoutput(\"bitcoin-cli -regtest generatetoaddress 101 {addr}\".format(addr=address))\n",
    "\n",
    "# Check that we were able to mine 101 blocks\n",
    "blockcount = subprocess.getoutput(\"bitcoin-cli -regtest getblockcount\")\n",
    "assert(blockcount == \"101\")"
   ]
  },
  {
   "cell_type": "markdown",
   "metadata": {},
   "source": [
    "### Create a P2PKH UTXO\n",
    "\n",
    "In order to create a transaction spending from a P2PKH UTXO, we'll first need to create the UTXO that is locked with a p2pkh script. To do that, we'll create a P2PKH address from a private key, and fund it using the bitcoind wallet created in the setup step."
   ]
  },
  {
   "cell_type": "markdown",
   "metadata": {},
   "source": [
    "#### Create a p2pkh address \n",
    "For more on this step, review the 'Addresses' notebook."
   ]
  },
  {
   "cell_type": "code",
   "execution_count": 4,
   "metadata": {},
   "outputs": [
    {
     "name": "stdout",
     "output_type": "stream",
     "text": [
      "sender's p2pkh address: n4XmX91N5FfccY678vaG1ELNtXh6skVES7\n"
     ]
    }
   ],
   "source": [
    "sender_privkey = bytes.fromhex(\"1111111111111111111111111111111111111111111111111111111111111111\")\n",
    "sender_pubkey = privkey_to_pubkey(sender_privkey)\n",
    "sender_p2pkh_addr = pk_to_p2pkh(sender_pubkey, network = \"regtest\")\n",
    "print(\"sender's p2pkh address: \" + sender_p2pkh_addr)"
   ]
  },
  {
   "cell_type": "markdown",
   "metadata": {},
   "source": [
    "#### Fund the 'sender' with 2.001 btc (0.001 btc is for the next tx fee)"
   ]
  },
  {
   "cell_type": "code",
   "execution_count": 5,
   "metadata": {},
   "outputs": [
    {
     "name": "stdout",
     "output_type": "stream",
     "text": [
      "83369e63e642b97e9a0c05fc8c36a78a704ae0a3f105e8a594b6bcd44de66c78\n"
     ]
    }
   ],
   "source": [
    "txid_to_spend = subprocess.getoutput(\"bitcoin-cli -regtest sendtoaddress \" + sender_p2pkh_addr + \" 2.001\")\n",
    "print(txid_to_spend)"
   ]
  },
  {
   "cell_type": "markdown",
   "metadata": {},
   "source": [
    "We can view the transaction using the bitcoin-cli commands `getrawtransaction` and `decoderawtransaction` as follows:"
   ]
  },
  {
   "cell_type": "code",
   "execution_count": 6,
   "metadata": {},
   "outputs": [
    {
     "name": "stdout",
     "output_type": "stream",
     "text": [
      "{\n",
      "  \"txid\": \"83369e63e642b97e9a0c05fc8c36a78a704ae0a3f105e8a594b6bcd44de66c78\",\n",
      "  \"hash\": \"fb3b25086f61754c2d1b7d2c6255a3ad265708cd2812c8aa9862361e060424f9\",\n",
      "  \"version\": 2,\n",
      "  \"size\": 228,\n",
      "  \"vsize\": 147,\n",
      "  \"weight\": 585,\n",
      "  \"locktime\": 101,\n",
      "  \"vin\": [\n",
      "    {\n",
      "      \"txid\": \"cc48a077ead930e278be6c5e8ec6754b0c2df09bfba39cb37a81dcc514ea2949\",\n",
      "      \"vout\": 0,\n",
      "      \"scriptSig\": {\n",
      "        \"asm\": \"\",\n",
      "        \"hex\": \"\"\n",
      "      },\n",
      "      \"txinwitness\": [\n",
      "        \"3044022059629fb5542c9d0f3af14633f06640700c6c2ae9581f00be8628ff7eedacf5930220716186a8c83ee8a65f3df0b5a480e8a3acbcbfbc78621c7e544455cc6a9532f701\",\n",
      "        \"0356c65513051d40ef342e3cf8c6e29b96c031e16c4ecf2126d468312648420196\"\n",
      "      ],\n",
      "      \"sequence\": 4294967294\n",
      "    }\n",
      "  ],\n",
      "  \"vout\": [\n",
      "    {\n",
      "      \"value\": 47.99897060,\n",
      "      \"n\": 0,\n",
      "      \"scriptPubKey\": {\n",
      "        \"asm\": \"OP_DUP OP_HASH160 ba52107b713e9b4b08c426efbc9f2aa87935680d OP_EQUALVERIFY OP_CHECKSIG\",\n",
      "        \"desc\": \"addr(mxW8HfgmmseMYAvY6moqECKzoLdUbuynPv)#tqy4757t\",\n",
      "        \"hex\": \"76a914ba52107b713e9b4b08c426efbc9f2aa87935680d88ac\",\n",
      "        \"address\": \"mxW8HfgmmseMYAvY6moqECKzoLdUbuynPv\",\n",
      "        \"type\": \"pubkeyhash\"\n",
      "      }\n",
      "    },\n",
      "    {\n",
      "      \"value\": 2.00100000,\n",
      "      \"n\": 1,\n",
      "      \"scriptPubKey\": {\n",
      "        \"asm\": \"OP_DUP OP_HASH160 fc7250a211deddc70ee5a2738de5f07817351cef OP_EQUALVERIFY OP_CHECKSIG\",\n",
      "        \"desc\": \"addr(n4XmX91N5FfccY678vaG1ELNtXh6skVES7)#n2xufj4n\",\n",
      "        \"hex\": \"76a914fc7250a211deddc70ee5a2738de5f07817351cef88ac\",\n",
      "        \"address\": \"n4XmX91N5FfccY678vaG1ELNtXh6skVES7\",\n",
      "        \"type\": \"pubkeyhash\"\n",
      "      }\n",
      "    }\n",
      "  ]\n",
      "}\n"
     ]
    }
   ],
   "source": [
    "raw_tx = subprocess.getoutput(\"bitcoin-cli -regtest getrawtransaction \" + txid_to_spend)\n",
    "decoded = subprocess.getoutput(\"bitcoin-cli -regtest decoderawtransaction \" + raw_tx)\n",
    "print(decoded)"
   ]
  },
  {
   "cell_type": "markdown",
   "metadata": {},
   "source": [
    "#### Find which output index the btc was sent to\n",
    "Since we only sent 2.001 btc of the coinbase transaction (50 btc) to our address, bitcoind creates a change output to send the rest of the btc. By looking at the outputs we can see which is the change output and which was sent to our address. To do this in python we can do the following:"
   ]
  },
  {
   "cell_type": "code",
   "execution_count": 7,
   "metadata": {},
   "outputs": [
    {
     "name": "stdout",
     "output_type": "stream",
     "text": [
      "index to spend from: 1\n"
     ]
    }
   ],
   "source": [
    "d = json.loads(decoded)\n",
    "if d[\"vout\"][0][\"scriptPubKey\"][\"address\"] == sender_p2pkh_addr:\n",
    "    index_to_spend = 0\n",
    "elif d[\"vout\"][1][\"scriptPubKey\"][\"address\"] == sender_p2pkh_addr:\n",
    "    index_to_spend = 1\n",
    "else:\n",
    "    raise Exception(\"couldn't find output\")\n",
    "print(\"index to spend from: \" + str(index_to_spend))"
   ]
  },
  {
   "cell_type": "markdown",
   "metadata": {},
   "source": [
    "#### Mine a block so that the funding tx gets confirmed"
   ]
  },
  {
   "cell_type": "code",
   "execution_count": 8,
   "metadata": {},
   "outputs": [],
   "source": [
    "subprocess.getoutput(\"bitcoin-cli -regtest generatetoaddress 1 {addr}\".format(addr=address));"
   ]
  },
  {
   "cell_type": "markdown",
   "metadata": {},
   "source": [
    "## Spending a p2pkh UTXO\n",
    "\n",
    "Now that we have some funds locked up in a p2pkh utxo, we can create a transaction spending from it. Let's say we want to send 1.5 btc to the address `mkxwE7XtVYJKepoD2hbHnDjftuMQ1k6deE`.\n",
    "\n",
    "### Decoding a base58 address\n",
    "\n",
    "The first thing we need to do is decode the address by doing this we can achieve the following:\n",
    "1 - validate the checksum to know the address was transmitted without error\n",
    "2 - make sure we are sending btc on the correct network (testnet/mainnet)\n",
    "3 - know what to put in the scriptPubkey\n",
    "\n",
    "For more on addresses, refer back to the 'Addresses' chapter."
   ]
  },
  {
   "cell_type": "code",
   "execution_count": 9,
   "metadata": {},
   "outputs": [
    {
     "name": "stdout",
     "output_type": "stream",
     "text": [
      "0x6f\n",
      "3bc28d6d92d9073fb5e3adf481795eaf446bceed\n",
      "ee2161b7\n"
     ]
    }
   ],
   "source": [
    "receiver_address = 'mkxwE7XtVYJKepoD2hbHnDjftuMQ1k6deE'\n",
    "receiver_address_decoded = decode_base58(receiver_address)\n",
    "# Darius - TODO: create a function in the address chapter to validate and parse addresses and use here\n",
    "\n",
    "prefix = receiver_address_decoded[0]  \n",
    "pubkey_hash = receiver_address_decoded[1:-4] \n",
    "checksum = receiver_address_decoded[-4:]\n",
    "print(hex(prefix))\n",
    "print(pubkey_hash.hex())\n",
    "print(checksum.hex())"
   ]
  },
  {
   "cell_type": "markdown",
   "metadata": {},
   "source": [
    "The first byte , in our case `6f`, tells us that this address corresponds to a p2pkh output for testnet. For more on decoding addresses, refer back to the 'Addresses' chapter.\n",
    "\n",
    "Now we can create the receiver's output scriptPubkey:"
   ]
  },
  {
   "cell_type": "code",
   "execution_count": 10,
   "metadata": {},
   "outputs": [],
   "source": [
    "receiver_spk = bytes.fromhex(\"76a914\") + pubkey_hash + bytes.fromhex(\"88ac\")"
   ]
  },
  {
   "cell_type": "markdown",
   "metadata": {},
   "source": [
    "### Create an unsigned p2pkh transaction\n",
    "\n",
    "The first thing we'll do is define the inputs and outputs of our transaction."
   ]
  },
  {
   "cell_type": "code",
   "execution_count": 11,
   "metadata": {},
   "outputs": [],
   "source": [
    "# Note we have already defined a few variables we need to create our transaction:\n",
    "# The input utxo txid and index: `txid_to_spend` and `index_to_spend`\n",
    "# The input private key and public key: `sender_privkey` and `sender_pubkey`\n",
    "\n",
    "# Set our outputs\n",
    "# Create a new pubkey to use as a change output.\n",
    "change_privkey = bytes.fromhex(\"2222222222222222222222222222222222222222222222222222222222222222\")\n",
    "change_pubkey = privkey_to_pubkey(change_privkey)\n",
    "\n",
    "# Determine our output scriptPubkeys and amounts (in satoshis)\n",
    "output1_value_sat = int(float(\"1.5\") * 100000000)\n",
    "output1_spk = receiver_spk\n",
    "output2_value_sat = int(float(\"0.5\") * 100000000)\n",
    "output2_spk = bytes.fromhex(\"76a914\") + hash160(change_pubkey) + bytes.fromhex(\"88ac\")"
   ]
  },
  {
   "cell_type": "markdown",
   "metadata": {},
   "source": [
    "Now that we've defined everything we need, we can fill in the fields we need to create our unsigned transaction. What makes a transaction 'unsigned' is that the input's scriptSig, the field where the signature goes, is empty. This first step is necessary as the signature will cover the whole transaction (using SIGHASH_ALL). In a later chapter we will cover other sighash types and how they are signed."
   ]
  },
  {
   "cell_type": "code",
   "execution_count": 12,
   "metadata": {},
   "outputs": [
    {
     "name": "stdout",
     "output_type": "stream",
     "text": [
      "unsigned_tx:  0200000001786ce64dd4bcb694a5e805f1a3e04a708aa7368cfc050c9a7eb942e6639e3683010000000100ffffffff0280d1f008000000001976a9143bc28d6d92d9073fb5e3adf481795eaf446bceed88ac80f0fa02000000001976a914531260aa2a199e228c537dfa42c82bea2c7c1f4d88ac00000000\n"
     ]
    }
   ],
   "source": [
    "# VERSION\n",
    "# version '2' indicates that we may use relative timelocks (BIP68)\n",
    "version = bytes.fromhex(\"0200 0000\")\n",
    "\n",
    "# INPUTS\n",
    "# We have just 1 input\n",
    "tx_in_count = bytes.fromhex(\"01\")\n",
    "\n",
    "# Convert txid and index to bytes (little endian)\n",
    "txid = (bytes.fromhex(txid_to_spend))[::-1]\n",
    "index = index_to_spend.to_bytes(4, byteorder=\"little\", signed=False)\n",
    "\n",
    "# Note that an empty scriptSig is not nothing (\"\"), but 0x00 to encode a length of 0\n",
    "scriptsig = bytes.fromhex(\"00\")\n",
    "\n",
    "# use 0xffffffff unless you are using OP_CHECKSEQUENCEVERIFY, locktime, or rbf\n",
    "sequence = bytes.fromhex(\"ffff ffff\")\n",
    "\n",
    "tx_in = (\n",
    "    tx_in_count\n",
    "    + txid\n",
    "    + index\n",
    "    + pushbytes(scriptsig)\n",
    "    + sequence\n",
    ")\n",
    "\n",
    "# OUTPUTS\n",
    "# 0x02 for out two outputs\n",
    "tx_out_count = bytes.fromhex(\"02\")\n",
    "\n",
    "# OUTPUT 1 \n",
    "output1_value = output1_value_sat.to_bytes(8, byteorder=\"little\", signed=True)\n",
    "# 'output1_spk' already defined at the start of the script\n",
    "\n",
    "# OUTPUT 2\n",
    "output2_value = output2_value_sat.to_bytes(8, byteorder=\"little\", signed=True)\n",
    "# 'output2_spk' already defined at the start of the script\n",
    "\n",
    "tx_out = (\n",
    "    tx_out_count\n",
    "    + output1_value\n",
    "    + pushbytes(output1_spk)\n",
    "    + output2_value\n",
    "    + pushbytes(output2_spk)\n",
    ")\n",
    "\n",
    "# LOCKTIME\n",
    "locktime = bytes.fromhex(\"0000 0000\")\n",
    "\n",
    "unsigned_tx = (\n",
    "    version\n",
    "    + tx_in\n",
    "    + tx_out\n",
    "    + locktime\n",
    ")\n",
    "print(\"unsigned_tx: \", unsigned_tx.hex())"
   ]
  },
  {
   "cell_type": "markdown",
   "metadata": {},
   "source": [
    "We can decode this raw transaction to inspect it and see that it has all the information we need apart from the scriptSig."
   ]
  },
  {
   "cell_type": "code",
   "execution_count": 13,
   "metadata": {},
   "outputs": [
    {
     "name": "stdout",
     "output_type": "stream",
     "text": [
      "{\n",
      "  \"txid\": \"8419639fb0a1b7014729e147ae06f72a63eb9296c38f77cd502266e112ab6590\",\n",
      "  \"hash\": \"8419639fb0a1b7014729e147ae06f72a63eb9296c38f77cd502266e112ab6590\",\n",
      "  \"version\": 2,\n",
      "  \"size\": 120,\n",
      "  \"vsize\": 120,\n",
      "  \"weight\": 480,\n",
      "  \"locktime\": 0,\n",
      "  \"vin\": [\n",
      "    {\n",
      "      \"txid\": \"83369e63e642b97e9a0c05fc8c36a78a704ae0a3f105e8a594b6bcd44de66c78\",\n",
      "      \"vout\": 1,\n",
      "      \"scriptSig\": {\n",
      "        \"asm\": \"0\",\n",
      "        \"hex\": \"00\"\n",
      "      },\n",
      "      \"sequence\": 4294967295\n",
      "    }\n",
      "  ],\n",
      "  \"vout\": [\n",
      "    {\n",
      "      \"value\": 1.50000000,\n",
      "      \"n\": 0,\n",
      "      \"scriptPubKey\": {\n",
      "        \"asm\": \"OP_DUP OP_HASH160 3bc28d6d92d9073fb5e3adf481795eaf446bceed OP_EQUALVERIFY OP_CHECKSIG\",\n",
      "        \"desc\": \"addr(mkxwE7XtVYJKepoD2hbHnDjftuMQ1k6deE)#xlnzfr97\",\n",
      "        \"hex\": \"76a9143bc28d6d92d9073fb5e3adf481795eaf446bceed88ac\",\n",
      "        \"address\": \"mkxwE7XtVYJKepoD2hbHnDjftuMQ1k6deE\",\n",
      "        \"type\": \"pubkeyhash\"\n",
      "      }\n",
      "    },\n",
      "    {\n",
      "      \"value\": 0.50000000,\n",
      "      \"n\": 1,\n",
      "      \"scriptPubKey\": {\n",
      "        \"asm\": \"OP_DUP OP_HASH160 531260aa2a199e228c537dfa42c82bea2c7c1f4d OP_EQUALVERIFY OP_CHECKSIG\",\n",
      "        \"desc\": \"addr(mo6CPsdW8EsnWdmSSCrQ6225VVDtpMBTug)#cvzzm9uf\",\n",
      "        \"hex\": \"76a914531260aa2a199e228c537dfa42c82bea2c7c1f4d88ac\",\n",
      "        \"address\": \"mo6CPsdW8EsnWdmSSCrQ6225VVDtpMBTug\",\n",
      "        \"type\": \"pubkeyhash\"\n",
      "      }\n",
      "    }\n",
      "  ]\n",
      "}\n"
     ]
    }
   ],
   "source": [
    "decoded = subprocess.getoutput(\"bitcoin-cli -regtest decoderawtransaction \" + unsigned_tx.hex())\n",
    "print(decoded)"
   ]
  },
  {
   "cell_type": "markdown",
   "metadata": {},
   "source": [
    "Before we can sign this transaction there is one final step we need to do. We need to replace the empty scriptSig with the scriptPubkey of the input we are signing over. If we had multiple inputs, we would need to do this step for each input. We will cover signing transactions with multiple inputs in a later chapter.\n",
    "\n",
    "Since we are spending from a p2pkh utxo, we will create the scriptPubkey in the same way as we did for the outputs, but using the sender's pubkey:"
   ]
  },
  {
   "cell_type": "code",
   "execution_count": 14,
   "metadata": {},
   "outputs": [],
   "source": [
    "pk_hash = hash160(sender_pubkey)\n",
    "input_spk = bytes.fromhex(\"76a914\" + pk_hash.hex() + \"88ac\")\n",
    "\n",
    "# replace the empty scriptSig with the input scriptPubkey\n",
    "tx_in = (\n",
    "    tx_in_count\n",
    "    + txid\n",
    "    + index\n",
    "    + pushbytes(input_spk)\n",
    "    + sequence\n",
    ")\n",
    "\n",
    "# tx hex to sign\n",
    "tx_to_sign = (\n",
    "    version\n",
    "    + tx_in\n",
    "    + tx_out\n",
    "    + locktime\n",
    ")"
   ]
  },
  {
   "cell_type": "markdown",
   "metadata": {},
   "source": [
    "Now we are ready to hash this transaction and produce an ecdsa signature on it. \n",
    "\n",
    "Before hashing the transaction with hash256, we append the sighash flag. In this example we'll use the most commonly used SIGHASH_ALL flag, meaning the signature guarantees the input will only be used in a transaction with these exact inputs and outputs.\n",
    "\n",
    "Note that when we append the sighash flag to the transaction, we use 4 bytes, however when we append the sighash flag to the end of the signature itself we only use 1 byte."
   ]
  },
  {
   "cell_type": "code",
   "execution_count": 15,
   "metadata": {
    "code_folding": []
   },
   "outputs": [
    {
     "name": "stdout",
     "output_type": "stream",
     "text": [
      "signed transaction:  0200000001786ce64dd4bcb694a5e805f1a3e04a708aa7368cfc050c9a7eb942e6639e3683010000006b483045022100fda17d7d49101c7eaa8c2ed98a434d1098584fd780577e989b52fbf077a6fd8b0220050305f4cf3013026004062e75074969963b9b6fecae905980e5616b876bde9d0121034f355bdcb7cc0af728ef3cceb9615d90684bb5b2ca5f859ab0f0b704075871aaffffffff0280d1f008000000001976a9143bc28d6d92d9073fb5e3adf481795eaf446bceed88ac80f0fa02000000001976a914531260aa2a199e228c537dfa42c82bea2c7c1f4d88ac00000000\n"
     ]
    }
   ],
   "source": [
    "# Append the sighash flag to the transaction\n",
    "sighash_flag = bytes.fromhex(\"0100 0000\") # SIGHASH_ALL\n",
    "sighash_preimage = tx_to_sign + sighash_flag\n",
    "\n",
    "# Create sigHash to be signed\n",
    "sighash = hash256(sighash_preimage)\n",
    "\n",
    "# Sign the sigHash with the input private key\n",
    "signing_key = ecdsa.SigningKey.from_string(sender_privkey, curve=ecdsa.SECP256k1) \n",
    "signature = signing_key.sign_digest(sighash, sigencode=ecdsa.util.sigencode_der_canonize)\n",
    "\n",
    "# Append SIGHASH_ALL to the signature\n",
    "signature = signature + bytes.fromhex(\"01\")\n",
    "\n",
    "# Signature\n",
    "sig_script_signed = (\n",
    "    pushbytes(signature)\n",
    "    + pushbytes(sender_pubkey)\n",
    ")\n",
    "\n",
    "# tx_in with our new sigScript containing the signature we just created\n",
    "tx_in_signed = (\n",
    "    tx_in_count\n",
    "    + txid\n",
    "    + index\n",
    "    + pushbytes(sig_script_signed)\n",
    "    + sequence\n",
    ")\n",
    "\n",
    "# the final signed transaction\n",
    "signed_tx = (\n",
    "    version\n",
    "    + tx_in_signed\n",
    "    + tx_out\n",
    "    + locktime\n",
    ")\n",
    "\n",
    "print(\"signed transaction: \",signed_tx.hex())"
   ]
  },
  {
   "cell_type": "markdown",
   "metadata": {},
   "source": [
    "### Broadcase the transaction (on regtest mode)\n",
    "If we get back a txid (32 byte hash), then it means the tx was successfully broadcast! If we just want to see if the transaction would have been accepted, but without broadcasting it, we can use the `testmempoolaccept` command (commented out)."
   ]
  },
  {
   "cell_type": "code",
   "execution_count": 16,
   "metadata": {},
   "outputs": [
    {
     "name": "stdout",
     "output_type": "stream",
     "text": [
      "323971e3461f6095f21d145318197cf91f8ad59b93e54be01c144dec190ccb68\n"
     ]
    }
   ],
   "source": [
    "new_tx_txid = subprocess.getoutput(\"bitcoin-cli -regtest sendrawtransaction \" + signed_tx.hex())\n",
    "# new_tx_txid = subprocess.getoutput(\"bitcoin-cli -regtest testmempoolaccept \" + \"'[\\\"\" +  signed_tx.hex()+ \"\\\"]'\")\n",
    "\n",
    "print(new_tx_txid)"
   ]
  },
  {
   "cell_type": "markdown",
   "metadata": {},
   "source": [
    "We can decode the serialized transaction using ```decoderawtransction```. Notice that our output addresses match the change and receiver addresses from earlier."
   ]
  },
  {
   "cell_type": "code",
   "execution_count": 17,
   "metadata": {},
   "outputs": [
    {
     "name": "stdout",
     "output_type": "stream",
     "text": [
      "receiver's p2pkh address: mkxwE7XtVYJKepoD2hbHnDjftuMQ1k6deE\n",
      "sender's change p2pkh address: mo6CPsdW8EsnWdmSSCrQ6225VVDtpMBTug\n"
     ]
    }
   ],
   "source": [
    "print(\"receiver's p2pkh address: \" + receiver_address)\n",
    "change_p2pkh_addr = pk_to_p2pkh(change_pubkey, network = \"regtest\")\n",
    "print(\"sender's change p2pkh address: \" + change_p2pkh_addr)"
   ]
  },
  {
   "cell_type": "code",
   "execution_count": 18,
   "metadata": {},
   "outputs": [
    {
     "name": "stdout",
     "output_type": "stream",
     "text": [
      "{\n",
      "  \"txid\": \"323971e3461f6095f21d145318197cf91f8ad59b93e54be01c144dec190ccb68\",\n",
      "  \"hash\": \"323971e3461f6095f21d145318197cf91f8ad59b93e54be01c144dec190ccb68\",\n",
      "  \"version\": 2,\n",
      "  \"size\": 226,\n",
      "  \"vsize\": 226,\n",
      "  \"weight\": 904,\n",
      "  \"locktime\": 0,\n",
      "  \"vin\": [\n",
      "    {\n",
      "      \"txid\": \"83369e63e642b97e9a0c05fc8c36a78a704ae0a3f105e8a594b6bcd44de66c78\",\n",
      "      \"vout\": 1,\n",
      "      \"scriptSig\": {\n",
      "        \"asm\": \"3045022100fda17d7d49101c7eaa8c2ed98a434d1098584fd780577e989b52fbf077a6fd8b0220050305f4cf3013026004062e75074969963b9b6fecae905980e5616b876bde9d[ALL] 034f355bdcb7cc0af728ef3cceb9615d90684bb5b2ca5f859ab0f0b704075871aa\",\n",
      "        \"hex\": \"483045022100fda17d7d49101c7eaa8c2ed98a434d1098584fd780577e989b52fbf077a6fd8b0220050305f4cf3013026004062e75074969963b9b6fecae905980e5616b876bde9d0121034f355bdcb7cc0af728ef3cceb9615d90684bb5b2ca5f859ab0f0b704075871aa\"\n",
      "      },\n",
      "      \"sequence\": 4294967295\n",
      "    }\n",
      "  ],\n",
      "  \"vout\": [\n",
      "    {\n",
      "      \"value\": 1.50000000,\n",
      "      \"n\": 0,\n",
      "      \"scriptPubKey\": {\n",
      "        \"asm\": \"OP_DUP OP_HASH160 3bc28d6d92d9073fb5e3adf481795eaf446bceed OP_EQUALVERIFY OP_CHECKSIG\",\n",
      "        \"desc\": \"addr(mkxwE7XtVYJKepoD2hbHnDjftuMQ1k6deE)#xlnzfr97\",\n",
      "        \"hex\": \"76a9143bc28d6d92d9073fb5e3adf481795eaf446bceed88ac\",\n",
      "        \"address\": \"mkxwE7XtVYJKepoD2hbHnDjftuMQ1k6deE\",\n",
      "        \"type\": \"pubkeyhash\"\n",
      "      }\n",
      "    },\n",
      "    {\n",
      "      \"value\": 0.50000000,\n",
      "      \"n\": 1,\n",
      "      \"scriptPubKey\": {\n",
      "        \"asm\": \"OP_DUP OP_HASH160 531260aa2a199e228c537dfa42c82bea2c7c1f4d OP_EQUALVERIFY OP_CHECKSIG\",\n",
      "        \"desc\": \"addr(mo6CPsdW8EsnWdmSSCrQ6225VVDtpMBTug)#cvzzm9uf\",\n",
      "        \"hex\": \"76a914531260aa2a199e228c537dfa42c82bea2c7c1f4d88ac\",\n",
      "        \"address\": \"mo6CPsdW8EsnWdmSSCrQ6225VVDtpMBTug\",\n",
      "        \"type\": \"pubkeyhash\"\n",
      "      }\n",
      "    }\n",
      "  ]\n",
      "}\n"
     ]
    }
   ],
   "source": [
    "decoded = subprocess.getoutput(\"bitcoin-cli -regtest decoderawtransaction \" + signed_tx.hex())\n",
    "print(decoded)"
   ]
  },
  {
   "cell_type": "markdown",
   "metadata": {},
   "source": [
    "## Quiz\n",
    "- 1. When we generated our addresses using the function `pk_to_p2pkh`, we passed in an argument `\"regtest\"` for the network. If instead we had passed in `\"mainnet\"` to `pk_to_p2pkh`, what would have happened in the next step where we fund the address using `bitcoin-cli -regtest sendtoaddress`?\n",
    "    - A. Nothing different would happen as the address still encodes the same pubkey hash.\n",
    "    - B. `sendtoaddress` would work but with a warning that a mainnet address is being used on regtest.\n",
    "    - C. `sendtoaddress` would return an error saying that the address is invalid. \n",
    "    - D. `sendtoaddress` would work but later on when we try to spend the output, our signature would be invalid."
   ]
  },
  {
   "cell_type": "markdown",
   "metadata": {},
   "source": [
    " ## Answers\n",
    "    \n",
    "- 1. C : Since we pass in the `-regtest` flag when running `sendtoaddress`, bitcoind it would say the address is invalid and not send bitcoin to it. Note that there's nothing stopping a bad wallet implementation from decoding the address and ignoring the network prefix. The purpose of this prefix is to prevent users accidentally sending mainnet bitcoins instead of testnet bitcoins. "
   ]
  },
  {
   "cell_type": "markdown",
   "metadata": {},
   "source": [
    "## Exercise\n",
    "\n",
    "#### *Darius: The code below is what the completed exercise would look like. The actual exercise would have missing fields for the student to fill in themselves.*\n",
    "\n",
    "Now that we have the change output with a known private key `change_privkey`, create a transaction that spends from it to two outputs. The first output should to send 0.1 btc to the address `mgiS1dSDrPunE7GvXmoS4xEfmdwWsStZc7`. The second address should send the rest to a change output with the address `mz8AXDhDMhvLs7kxwfQxvcH5GoVH6AdARZ`. Set the miner fee to 0.001 btc.\n",
    "\n",
    "The first step will be to decode the output addresses we want to send btc to and convert them into their scriptPubkeys."
   ]
  },
  {
   "cell_type": "code",
   "execution_count": 19,
   "metadata": {},
   "outputs": [],
   "source": [
    "# Convert the addresses to scriptPubkeys\n",
    "# Darius - TODO: create a function in the address chapter to validate an address and convert to a scriptPubkey\n",
    "# Use that function here\n",
    "receiver_address = 'mgiS1dSDrPunE7GvXmoS4xEfmdwWsStZc7'\n",
    "receiver_address_decoded = decode_base58(receiver_address)\n",
    "receiver_pubkey_hash = receiver_address_decoded[1:-4] \n",
    "output1_spk = bytes.fromhex(\"76a914\") + receiver_pubkey_hash + bytes.fromhex(\"88ac\")\n",
    "\n",
    "change_address = 'mz8AXDhDMhvLs7kxwfQxvcH5GoVH6AdARZ'\n",
    "change_address_decoded = decode_base58(change_address)\n",
    "change_pubkey_hash = change_address_decoded[1:-4] \n",
    "output2_spk = bytes.fromhex(\"76a914\") + change_pubkey_hash + bytes.fromhex(\"88ac\")"
   ]
  },
  {
   "cell_type": "markdown",
   "metadata": {},
   "source": [
    "Now let's create an unsigned transaction. For now we will keep the scriptSig empty (`0x00`)"
   ]
  },
  {
   "cell_type": "code",
   "execution_count": 20,
   "metadata": {},
   "outputs": [],
   "source": [
    "version = bytes.fromhex(\"0200 0000\")\n",
    "\n",
    "# INPUTS\n",
    "tx_in_count = bytes.fromhex(\"01\")\n",
    "\n",
    "# INPUT 1\n",
    "txid_to_spend = new_tx_txid\n",
    "txid = (bytes.fromhex(txid_to_spend))[::-1]\n",
    "index_to_spend = 1\n",
    "index = index_to_spend.to_bytes(4, byteorder=\"little\", signed=False)\n",
    "scriptsig = bytes.fromhex(\"00\")\n",
    "sequence = bytes.fromhex(\"ffff ffff\")\n",
    "\n",
    "tx_in = (\n",
    "    tx_in_count\n",
    "    + txid\n",
    "    + index\n",
    "    + pushbytes(scriptsig)\n",
    "    + sequence\n",
    ")\n",
    "\n",
    "# OUTPUTS\n",
    "tx_out_count = bytes.fromhex(\"02\")\n",
    "\n",
    "# OUTPUT 1 \n",
    "output1_value_sat = int(float(\"0.1\") * 100000000)\n",
    "output1_value = output1_value_sat.to_bytes(8, byteorder=\"little\", signed=True)\n",
    "\n",
    "# OUTPUT 2\n",
    "output2_value_sat = int(float(\"0.399\") * 100000000) # 0.5 - 0.1 - 0.001 for the miner fee\n",
    "output2_value = output2_value_sat.to_bytes(8, byteorder=\"little\", signed=True)\n",
    "\n",
    "tx_out = (\n",
    "    tx_out_count\n",
    "    + output1_value\n",
    "    + pushbytes(output1_spk)\n",
    "    + output2_value\n",
    "    + pushbytes(output2_spk)\n",
    ")\n",
    "\n",
    "# LOCKTIME\n",
    "locktime = bytes.fromhex(\"0000 0000\")\n",
    "\n",
    "unsigned_tx = (\n",
    "    version\n",
    "    + tx_in\n",
    "    + tx_out\n",
    "    + locktime\n",
    ")\n",
    "\n",
    "# print(unsigned_tx.hex())"
   ]
  },
  {
   "cell_type": "markdown",
   "metadata": {},
   "source": [
    "Replace the scriptSig with the input's scriptPubkey. You can either code this yourself or take it directly from the decoded transaction. The `\"hex\"` field of the output we are spending from can be used directly."
   ]
  },
  {
   "cell_type": "code",
   "execution_count": 21,
   "metadata": {},
   "outputs": [],
   "source": [
    "input_spk = bytes.fromhex(\"76a914531260aa2a199e228c537dfa42c82bea2c7c1f4d88ac\")"
   ]
  },
  {
   "cell_type": "code",
   "execution_count": 22,
   "metadata": {},
   "outputs": [],
   "source": [
    "tx_in = (\n",
    "    tx_in_count\n",
    "    + txid\n",
    "    + index\n",
    "    + pushbytes(input_spk)\n",
    "    + sequence\n",
    ")\n",
    "\n",
    "tx_to_sign = (\n",
    "    version\n",
    "    + tx_in\n",
    "    + tx_out\n",
    "    + locktime\n",
    ")\n",
    "\n",
    "# Append the sighash flag to the transaction\n",
    "sighash_flag = bytes.fromhex(\"0100 0000\") # SIGHASH_ALL\n",
    "sighash_preimage = tx_to_sign + sighash_flag\n",
    "\n",
    "# Create sigHash to be signed\n",
    "sighash = hash256(sighash_preimage)\n",
    "\n",
    "# Sign the sigHash with the input private key\n",
    "signing_key = ecdsa.SigningKey.from_string(change_privkey, curve=ecdsa.SECP256k1) \n",
    "signature = signing_key.sign_digest(sighash, sigencode=ecdsa.util.sigencode_der_canonize)\n",
    "\n",
    "# Append SIGHASH_ALL to the signature\n",
    "signature = signature + bytes.fromhex(\"01\")\n",
    "\n",
    "# Signature\n",
    "sig_script_signed = (\n",
    "    pushbytes(signature)\n",
    "    + pushbytes(change_pubkey)\n",
    ")\n",
    "\n",
    "# tx_in with our new sigScript containing the signature we just created\n",
    "tx_in_signed = (\n",
    "    tx_in_count\n",
    "    + txid\n",
    "    + index\n",
    "    + pushbytes(sig_script_signed)\n",
    "    + sequence\n",
    ")\n",
    "\n",
    "# the final signed transaction\n",
    "signed_tx = (\n",
    "    version\n",
    "    + tx_in_signed\n",
    "    + tx_out\n",
    "    + locktime\n",
    ")\n",
    "\n",
    "# print(\"signed transaction: \",signed_tx.hex())"
   ]
  },
  {
   "cell_type": "code",
   "execution_count": 24,
   "metadata": {},
   "outputs": [
    {
     "data": {
      "text/plain": [
       "'114479a7169904f81fc21d0797a46a92f695cedb2146201983e5d53945e76228'"
      ]
     },
     "execution_count": 24,
     "metadata": {},
     "output_type": "execute_result"
    }
   ],
   "source": [
    "subprocess.getoutput(\"bitcoin-cli -regtest sendrawtransaction \" + signed_tx.hex())"
   ]
  },
  {
   "cell_type": "code",
   "execution_count": 25,
   "metadata": {},
   "outputs": [
    {
     "data": {
      "text/plain": [
       "'Bitcoin Core stopping'"
      ]
     },
     "execution_count": 25,
     "metadata": {},
     "output_type": "execute_result"
    }
   ],
   "source": [
    "# stop bitcoin core\n",
    "subprocess.getoutput(\"bitcoin-cli -regtest stop\")"
   ]
  }
 ],
 "metadata": {
  "kernelspec": {
   "display_name": "Python 3",
   "language": "python",
   "name": "python3"
  },
  "language_info": {
   "codemirror_mode": {
    "name": "ipython",
    "version": 3
   },
   "file_extension": ".py",
   "mimetype": "text/x-python",
   "name": "python",
   "nbconvert_exporter": "python",
   "pygments_lexer": "ipython3",
   "version": "3.7.0"
  }
 },
 "nbformat": 4,
 "nbformat_minor": 2
}
